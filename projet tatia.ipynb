{
 "cells": [
  {
   "cell_type": "code",
   "execution_count": 1,
   "metadata": {
    "colab": {
     "base_uri": "https://localhost:8080/"
    },
    "executionInfo": {
     "elapsed": 3732,
     "status": "ok",
     "timestamp": 1639579251708,
     "user": {
      "displayName": "Stefan Am Ende",
      "photoUrl": "https://lh3.googleusercontent.com/a-/AOh14Gj_hrHvJQnAnrHGOcz9J_HX56sCTip0nW2cK7npZQ=s64",
      "userId": "15393709540815104118"
     },
     "user_tz": -60
    },
    "id": "oGgWU9Mh4kbi",
    "outputId": "5e74c7bb-c761-477a-afad-14a9f455dfcf"
   },
   "outputs": [
    {
     "name": "stdout",
     "output_type": "stream",
     "text": [
      "Requirement already satisfied: SPARQLWrapper in c:\\programdata\\anaconda3\\lib\\site-packages (1.8.5)\n",
      "Requirement already satisfied: rdflib>=4.0 in c:\\programdata\\anaconda3\\lib\\site-packages (from SPARQLWrapper) (6.0.2)\n",
      "Requirement already satisfied: isodate in c:\\programdata\\anaconda3\\lib\\site-packages (from rdflib>=4.0->SPARQLWrapper) (0.6.1)\n",
      "Requirement already satisfied: setuptools in c:\\programdata\\anaconda3\\lib\\site-packages (from rdflib>=4.0->SPARQLWrapper) (58.0.4)\n",
      "Requirement already satisfied: pyparsing in c:\\programdata\\anaconda3\\lib\\site-packages (from rdflib>=4.0->SPARQLWrapper) (3.0.4)\n",
      "Requirement already satisfied: six in c:\\programdata\\anaconda3\\lib\\site-packages (from isodate->rdflib>=4.0->SPARQLWrapper) (1.16.0)\n",
      "Note: you may need to restart the kernel to use updated packages.\n"
     ]
    },
    {
     "name": "stderr",
     "output_type": "stream",
     "text": [
      "WARNING: Ignoring invalid distribution -ython (c:\\programdata\\anaconda3\\lib\\site-packages)\n",
      "WARNING: Ignoring invalid distribution -ltk (c:\\programdata\\anaconda3\\lib\\site-packages)\n",
      "WARNING: Ignoring invalid distribution -ython (c:\\programdata\\anaconda3\\lib\\site-packages)\n",
      "WARNING: Ignoring invalid distribution -ltk (c:\\programdata\\anaconda3\\lib\\site-packages)\n",
      "WARNING: Ignoring invalid distribution -ython (c:\\programdata\\anaconda3\\lib\\site-packages)\n",
      "WARNING: Ignoring invalid distribution -ltk (c:\\programdata\\anaconda3\\lib\\site-packages)\n",
      "WARNING: Ignoring invalid distribution -ython (c:\\programdata\\anaconda3\\lib\\site-packages)\n",
      "WARNING: Ignoring invalid distribution -ltk (c:\\programdata\\anaconda3\\lib\\site-packages)\n",
      "WARNING: Ignoring invalid distribution -ython (c:\\programdata\\anaconda3\\lib\\site-packages)\n",
      "WARNING: Ignoring invalid distribution -ltk (c:\\programdata\\anaconda3\\lib\\site-packages)\n"
     ]
    }
   ],
   "source": [
    "pip install SPARQLWrapper"
   ]
  },
  {
   "cell_type": "code",
   "execution_count": 2,
   "metadata": {
    "executionInfo": {
     "elapsed": 8,
     "status": "ok",
     "timestamp": 1639579251708,
     "user": {
      "displayName": "Stefan Am Ende",
      "photoUrl": "https://lh3.googleusercontent.com/a-/AOh14Gj_hrHvJQnAnrHGOcz9J_HX56sCTip0nW2cK7npZQ=s64",
      "userId": "15393709540815104118"
     },
     "user_tz": -60
    },
    "id": "pw-yCMECBUAW"
   },
   "outputs": [],
   "source": [
    "import random\n",
    "from SPARQLWrapper import SPARQLWrapper, JSON"
   ]
  },
  {
   "cell_type": "code",
   "execution_count": 3,
   "metadata": {
    "executionInfo": {
     "elapsed": 8,
     "status": "ok",
     "timestamp": 1639579251709,
     "user": {
      "displayName": "Stefan Am Ende",
      "photoUrl": "https://lh3.googleusercontent.com/a-/AOh14Gj_hrHvJQnAnrHGOcz9J_HX56sCTip0nW2cK7npZQ=s64",
      "userId": "15393709540815104118"
     },
     "user_tz": -60
    },
    "id": "0UP47mV-BYVg"
   },
   "outputs": [],
   "source": [
    "sparql = SPARQLWrapper(\"https://query.wikidata.org/sparql\")"
   ]
  },
  {
   "cell_type": "code",
   "execution_count": 4,
   "metadata": {
    "executionInfo": {
     "elapsed": 7,
     "status": "ok",
     "timestamp": 1639579251709,
     "user": {
      "displayName": "Stefan Am Ende",
      "photoUrl": "https://lh3.googleusercontent.com/a-/AOh14Gj_hrHvJQnAnrHGOcz9J_HX56sCTip0nW2cK7npZQ=s64",
      "userId": "15393709540815104118"
     },
     "user_tz": -60
    },
    "id": "jK9g6z6_BewI"
   },
   "outputs": [],
   "source": [
    "def research(Qid):\n",
    "    sparql.setQuery(\"\"\"\n",
    "    SELECT ?item ?itemLabel\n",
    "    WHERE \n",
    "    {\n",
    "      ?item wdt:P31 wd:\"\"\" + Qid + \"\"\". #on pourais rajouté des obligation de référance à des payes etc\n",
    "      SERVICE wikibase:label { bd:serviceParam wikibase:language \"[AUTO_LANGUAGE],en\". } # le label viendra de préférence dans votre langue, et autrement en anglais\n",
    "      \n",
    "    }LIMIT 1000\n",
    "    \"\"\")\n",
    "    #/wdt:P31/wdt:P279\n",
    "    \n",
    "    sparql.setReturnFormat(JSON)\n",
    "    results = sparql.query().convert()\n",
    "    mydict = []\n",
    "    for result in results[\"results\"][\"bindings\"]:\n",
    "        # ne prend pas ce ou il y a pas de nom ajouté\n",
    "        if(result[\"itemLabel\"][\"value\"][0]!=\"Q\"):                                   \n",
    "            mydict.append(result[\"itemLabel\"][\"value\"])\n",
    "            \n",
    "    return mydict"
   ]
  },
  {
   "cell_type": "code",
   "execution_count": 63,
   "metadata": {
    "executionInfo": {
     "elapsed": 8,
     "status": "ok",
     "timestamp": 1639579251710,
     "user": {
      "displayName": "Stefan Am Ende",
      "photoUrl": "https://lh3.googleusercontent.com/a-/AOh14Gj_hrHvJQnAnrHGOcz9J_HX56sCTip0nW2cK7npZQ=s64",
      "userId": "15393709540815104118"
     },
     "user_tz": -60
    },
    "id": "2m3t8Je8Bg3p"
   },
   "outputs": [],
   "source": [
    "listofidqHuman = ['Q22808320', 'Q571', 'Q31629', 'Q188451', 'Q192581', 'Q11424', 'Q11410', 'Q2095', 'Q223557', 'Q3624078']\n"
   ]
  },
  {
   "cell_type": "code",
   "execution_count": 64,
   "metadata": {
    "executionInfo": {
     "elapsed": 8956,
     "status": "ok",
     "timestamp": 1639579260659,
     "user": {
      "displayName": "Stefan Am Ende",
      "photoUrl": "https://lh3.googleusercontent.com/a-/AOh14Gj_hrHvJQnAnrHGOcz9J_HX56sCTip0nW2cK7npZQ=s64",
      "userId": "15393709540815104118"
     },
     "user_tz": -60
    },
    "id": "H_xrM79NB-35"
   },
   "outputs": [],
   "source": [
    "description = [research(listofidqHuman[0]),research(listofidqHuman[1]),research(listofidqHuman[2]),research(listofidqHuman[3]),research(listofidqHuman[4])\n",
    "               ,research(listofidqHuman[5]),research(listofidqHuman[6]),research(listofidqHuman[7]),research(listofidqHuman[8]),research(listofidqHuman[9])]"
   ]
  },
  {
   "cell_type": "code",
   "execution_count": 7,
   "metadata": {
    "colab": {
     "base_uri": "https://localhost:8080/"
    },
    "executionInfo": {
     "elapsed": 4058,
     "status": "ok",
     "timestamp": 1639579264712,
     "user": {
      "displayName": "Stefan Am Ende",
      "photoUrl": "https://lh3.googleusercontent.com/a-/AOh14Gj_hrHvJQnAnrHGOcz9J_HX56sCTip0nW2cK7npZQ=s64",
      "userId": "15393709540815104118"
     },
     "user_tz": -60
    },
    "id": "gZn3Qx3KIlr7",
    "outputId": "73f6340d-78f5-4f44-fba4-7db07f3d996d"
   },
   "outputs": [
    {
     "name": "stderr",
     "output_type": "stream",
     "text": [
      "WARNING: Ignoring invalid distribution -ython (c:\\programdata\\anaconda3\\lib\\site-packages)\n",
      "WARNING: Ignoring invalid distribution -ltk (c:\\programdata\\anaconda3\\lib\\site-packages)\n",
      "WARNING: Ignoring invalid distribution -ython (c:\\programdata\\anaconda3\\lib\\site-packages)\n",
      "WARNING: Ignoring invalid distribution -ltk (c:\\programdata\\anaconda3\\lib\\site-packages)\n",
      "WARNING: Ignoring invalid distribution -ython (c:\\programdata\\anaconda3\\lib\\site-packages)\n",
      "WARNING: Ignoring invalid distribution -ltk (c:\\programdata\\anaconda3\\lib\\site-packages)\n",
      "WARNING: Ignoring invalid distribution -ython (c:\\programdata\\anaconda3\\lib\\site-packages)\n",
      "WARNING: Ignoring invalid distribution -ltk (c:\\programdata\\anaconda3\\lib\\site-packages)\n",
      "WARNING: Ignoring invalid distribution -ython (c:\\programdata\\anaconda3\\lib\\site-packages)\n",
      "WARNING: Ignoring invalid distribution -ltk (c:\\programdata\\anaconda3\\lib\\site-packages)\n"
     ]
    },
    {
     "name": "stdout",
     "output_type": "stream",
     "text": [
      "Requirement already satisfied: transformers==3.3.1 in c:\\programdata\\anaconda3\\lib\\site-packages (3.3.1)\n",
      "Requirement already satisfied: sentencepiece!=0.1.92 in c:\\programdata\\anaconda3\\lib\\site-packages (from transformers==3.3.1) (0.1.96)\n",
      "Requirement already satisfied: sacremoses in c:\\programdata\\anaconda3\\lib\\site-packages (from transformers==3.3.1) (0.0.46)\n",
      "Requirement already satisfied: tqdm>=4.27 in c:\\programdata\\anaconda3\\lib\\site-packages (from transformers==3.3.1) (4.62.3)\n",
      "Requirement already satisfied: tokenizers==0.8.1.rc2 in c:\\programdata\\anaconda3\\lib\\site-packages (from transformers==3.3.1) (0.8.1rc2)\n",
      "Requirement already satisfied: numpy in c:\\programdata\\anaconda3\\lib\\site-packages (from transformers==3.3.1) (1.20.3)\n",
      "Requirement already satisfied: requests in c:\\programdata\\anaconda3\\lib\\site-packages (from transformers==3.3.1) (2.26.0)\n",
      "Requirement already satisfied: regex!=2019.12.17 in c:\\programdata\\anaconda3\\lib\\site-packages (from transformers==3.3.1) (2021.8.3)\n",
      "Requirement already satisfied: filelock in c:\\programdata\\anaconda3\\lib\\site-packages (from transformers==3.3.1) (3.3.1)\n",
      "Requirement already satisfied: packaging in c:\\programdata\\anaconda3\\lib\\site-packages (from transformers==3.3.1) (21.3)\n",
      "Requirement already satisfied: colorama in c:\\programdata\\anaconda3\\lib\\site-packages (from tqdm>=4.27->transformers==3.3.1) (0.4.4)\n",
      "Requirement already satisfied: pyparsing!=3.0.5,>=2.0.2 in c:\\programdata\\anaconda3\\lib\\site-packages (from packaging->transformers==3.3.1) (3.0.4)\n",
      "Requirement already satisfied: certifi>=2017.4.17 in c:\\programdata\\anaconda3\\lib\\site-packages (from requests->transformers==3.3.1) (2021.10.8)\n",
      "Requirement already satisfied: charset-normalizer~=2.0.0 in c:\\programdata\\anaconda3\\lib\\site-packages (from requests->transformers==3.3.1) (2.0.4)\n",
      "Requirement already satisfied: urllib3<1.27,>=1.21.1 in c:\\programdata\\anaconda3\\lib\\site-packages (from requests->transformers==3.3.1) (1.26.7)\n",
      "Requirement already satisfied: idna<4,>=2.5 in c:\\programdata\\anaconda3\\lib\\site-packages (from requests->transformers==3.3.1) (3.3)\n",
      "Requirement already satisfied: click in c:\\programdata\\anaconda3\\lib\\site-packages (from sacremoses->transformers==3.3.1) (8.0.3)\n",
      "Requirement already satisfied: joblib in c:\\programdata\\anaconda3\\lib\\site-packages (from sacremoses->transformers==3.3.1) (1.1.0)\n",
      "Requirement already satisfied: six in c:\\programdata\\anaconda3\\lib\\site-packages (from sacremoses->transformers==3.3.1) (1.16.0)\n"
     ]
    }
   ],
   "source": [
    "!pip install transformers==3.3.1\n",
    "import torch\n",
    "from transformers import T5Tokenizer, T5ForConditionalGeneration,Adafactor"
   ]
  },
  {
   "cell_type": "code",
   "execution_count": 8,
   "metadata": {
    "colab": {
     "base_uri": "https://localhost:8080/"
    },
    "executionInfo": {
     "elapsed": 2565,
     "status": "ok",
     "timestamp": 1639579267271,
     "user": {
      "displayName": "Stefan Am Ende",
      "photoUrl": "https://lh3.googleusercontent.com/a-/AOh14Gj_hrHvJQnAnrHGOcz9J_HX56sCTip0nW2cK7npZQ=s64",
      "userId": "15393709540815104118"
     },
     "user_tz": -60
    },
    "id": "qkJL-bO9Ix2D",
    "outputId": "4a3d0201-0180-4377-ffa4-ec6ba4991ed3"
   },
   "outputs": [],
   "source": [
    "model_path = \"./generation model/\""
   ]
  },
  {
   "cell_type": "code",
   "execution_count": 9,
   "metadata": {
    "executionInfo": {
     "elapsed": 14185,
     "status": "ok",
     "timestamp": 1639579281453,
     "user": {
      "displayName": "Stefan Am Ende",
      "photoUrl": "https://lh3.googleusercontent.com/a-/AOh14Gj_hrHvJQnAnrHGOcz9J_HX56sCTip0nW2cK7npZQ=s64",
      "userId": "15393709540815104118"
     },
     "user_tz": -60
    },
    "id": "T12-NpP2JSQk"
   },
   "outputs": [],
   "source": [
    "tokenizer = T5Tokenizer.from_pretrained(model_path)\n",
    "model =T5ForConditionalGeneration.from_pretrained(model_path, return_dict=True)"
   ]
  },
  {
   "cell_type": "code",
   "execution_count": 10,
   "metadata": {
    "executionInfo": {
     "elapsed": 12,
     "status": "ok",
     "timestamp": 1639579281454,
     "user": {
      "displayName": "Stefan Am Ende",
      "photoUrl": "https://lh3.googleusercontent.com/a-/AOh14Gj_hrHvJQnAnrHGOcz9J_HX56sCTip0nW2cK7npZQ=s64",
      "userId": "15393709540815104118"
     },
     "user_tz": -60
    },
    "id": "Y2FcHZP3KDil"
   },
   "outputs": [],
   "source": [
    "def generate(text,model,tokenizer):\n",
    "    model.eval()\n",
    "    input_ids = tokenizer.encode(\"WebNLG:{} </s>\".format(text), return_tensors=\"pt\")  \n",
    "    outputs = model.generate(input_ids, max_length=300, temperature=0.1)\n",
    "    return tokenizer.decode(outputs[0])"
   ]
  },
  {
   "cell_type": "code",
   "execution_count": 11,
   "metadata": {
    "executionInfo": {
     "elapsed": 11,
     "status": "ok",
     "timestamp": 1639579281454,
     "user": {
      "displayName": "Stefan Am Ende",
      "photoUrl": "https://lh3.googleusercontent.com/a-/AOh14Gj_hrHvJQnAnrHGOcz9J_HX56sCTip0nW2cK7npZQ=s64",
      "userId": "15393709540815104118"
     },
     "user_tz": -60
    },
    "id": "d_lByTihSY4Y"
   },
   "outputs": [],
   "source": [
    "import unicodedata"
   ]
  },
  {
   "cell_type": "code",
   "execution_count": 12,
   "metadata": {},
   "outputs": [],
   "source": [
    "import gensim\n",
    "\n",
    "# Load Google's pre-trained Word2Vec model.\n",
    "word2vecModel = gensim.models.KeyedVectors.load_word2vec_format('./word2vec model/GoogleNews-vectors-negative300.bin', binary=True) "
   ]
  },
  {
   "cell_type": "code",
   "execution_count": 13,
   "metadata": {},
   "outputs": [],
   "source": [
    "#topics contient les sujets pour lesquels il y a des méthodes pour le dialogue\n",
    "#quand on implémente des nouvelles méthodes il faut rajouter le sujet ici\n",
    "topics=['music', 'job', 'food', 'game', 'sport']"
   ]
  },
  {
   "cell_type": "code",
   "execution_count": 72,
   "metadata": {
    "executionInfo": {
     "elapsed": 556,
     "status": "ok",
     "timestamp": 1639582644530,
     "user": {
      "displayName": "Stefan Am Ende",
      "photoUrl": "https://lh3.googleusercontent.com/a-/AOh14Gj_hrHvJQnAnrHGOcz9J_HX56sCTip0nW2cK7npZQ=s64",
      "userId": "15393709540815104118"
     },
     "user_tz": -60
    },
    "id": "epRB2c2SCFOL"
   },
   "outputs": [],
   "source": [
    "class Person:\n",
    "    def __init__(self):\n",
    "        self.age = random.randint(18, 80)\n",
    "        self.name = unicodedata.normalize('NFD', random.choice(description[0])).encode('ascii', 'ignore').decode('utf-8')\n",
    "        self.book = unicodedata.normalize('NFD', random.choice(description[1])).encode('ascii', 'ignore').decode('utf-8')\n",
    "        self.sport = unicodedata.normalize('NFD', random.choice(description[2])).encode('ascii', 'ignore').decode('utf-8')\n",
    "        self.music = unicodedata.normalize('NFD', random.choice(description[3])).encode('ascii', 'ignore').decode('utf-8')\n",
    "        self.job = unicodedata.normalize('NFD', random.choice(description[4])).encode('ascii', 'ignore').decode('utf-8')\n",
    "        self.film =  unicodedata.normalize('NFD', random.choice(description[5])).encode('ascii', 'ignore').decode('utf-8')\n",
    "        self.game =  unicodedata.normalize('NFD', random.choice(description[6])).encode('ascii', 'ignore').decode('utf-8')\n",
    "        self.food =  unicodedata.normalize('NFD', random.choice(description[7])).encode('ascii', 'ignore').decode('utf-8')\n",
    "        self.objectOfInterest =  unicodedata.normalize('NFD', random.choice(description[8])).encode('ascii', 'ignore').decode('utf-8')\n",
    "        self.country = unicodedata.normalize('NFD', random.choice(description[9])).encode('ascii', 'ignore').decode('utf-8')\n",
    "\n",
    "    def generateDescription(self):\n",
    "        surname=self.name.split(' ')[0]\n",
    "        string=self.name+' | age | '+str(self.age)+' && '+self.name+' | country | '+self.country\n",
    "        print(generate(string, model, tokenizer))\n",
    "        string=surname+' | job | '+self.job\n",
    "        print(generate(string, model, tokenizer))\n",
    "        string=surname+' | favouriteSport | '+self.sport\n",
    "        print(generate(string, model, tokenizer))\n",
    "        string=surname+' | favouriteMusic | '+self.music\n",
    "        print(generate(string, model, tokenizer))\n",
    "        string=surname+' | favouriteGenre | '+self.genre\n",
    "        print(generate(string, model, tokenizer))\n",
    "        string=surname+' | favouriteGame | '+self.game\n",
    "        print(generate(string, model, tokenizer))\n",
    "        string=surname+' | favouriteFood | '+self.food\n",
    "        print(generate(string, model, tokenizer))\n",
    "        string=surname+' | interestedIn | '+self.objectOfInterest\n",
    "        print(generate(string, model, tokenizer))\n",
    "\n",
    "    def showProperties(self):\n",
    "        print('name: '+self.name+'\\nage: '+str(self.age)+'\\ncountry: '+self.country+'\\nbook: '+self.book+'\\nmusic: '+self.music+'\\njob: '+self.job+'\\nsport: '+self.sport+'\\nfilm: '+self.film+'\\ngame: '+self.game+'\\nfood: '+self.food+'\\nobject of interest: '+self.objectOfInterest+'\\n')\n",
    "        \n",
    "    def introduce(self):\n",
    "        text=self.name.split(' ')[0]+':   '\n",
    "\n",
    "        #Greeting\n",
    "        rand=random.randint(0,3)\n",
    "        if rand==0:\n",
    "            text+='Hello, '\n",
    "        elif rand==1:\n",
    "            text+='Hi, '\n",
    "        elif rand==2:\n",
    "            text+='Hey, '\n",
    "        elif rand==3:\n",
    "            text+='Good day, '\n",
    "      \n",
    "        #Name\n",
    "        rand=random.randint(0,2)\n",
    "        if rand==0:\n",
    "            text+=\"I'm \"\n",
    "        elif rand==1:\n",
    "            text+=\"I am \"\n",
    "        elif rand==2:\n",
    "            text+=\"my name is \"\n",
    "        text+=self.name+', '\n",
    "\n",
    "        #Age\n",
    "        rand=random.randint(0,1)\n",
    "        if rand==0:\n",
    "            text+='I am '\n",
    "        elif rand==1:\n",
    "            text+=\"I'm \"\n",
    "        text+=str(self.age)+' years old '\n",
    "\n",
    "        #Country\n",
    "        rand=random.randint(0,3)\n",
    "        if rand==0:\n",
    "            text+=\"and I'm from \"\n",
    "        elif rand==1:\n",
    "            text+=\"and I am from \"\n",
    "        elif rand==2:\n",
    "            text+=\"and I come from \"\n",
    "        elif rand==3:\n",
    "            text+=\"and I live in \"\n",
    "        text+=self.country+'.'\n",
    "\n",
    "        print(text)\n",
    "\n",
    "    def tellYourFavouriteFood(self):\n",
    "        text=''\n",
    "        rand=random.randint(0,4)\n",
    "        if rand==0:\n",
    "            text+='My favourite food is '\n",
    "        elif rand==1:\n",
    "            text+='I like to eat '\n",
    "        elif rand==2:\n",
    "            text+='I love '\n",
    "        elif rand==3:\n",
    "            text+='My favourite dish is '\n",
    "        elif rand==4:\n",
    "            text+='I really enjoy '\n",
    "        text+=self.food+'.'\n",
    "        return text\n",
    "\n",
    "    def startTopicFood(self):\n",
    "        name=self.name.split(' ')[0]+':   '\n",
    "        text=self.tellYourFavouriteFood()+' '\n",
    "        #Ask the others about their favourite food\n",
    "        rand=random.randint(0,4)\n",
    "        if rand==0:\n",
    "            text+='What is your favourite food?'\n",
    "        elif rand==1:\n",
    "            text+='What do you like to eat most?'\n",
    "        elif rand==2:\n",
    "            text+='What is your preferred dish?'\n",
    "        elif rand==3:\n",
    "            text+='What is your favourite dish?'\n",
    "        elif rand==4:\n",
    "            text+='Which food do you enjoy most?'\n",
    "        print(name+text)\n",
    "        return text\n",
    "\n",
    "    def respondToFood(self):\n",
    "        text=self.name.split(' ')[0]+':   '\n",
    "        text+=self.tellYourFavouriteFood()\n",
    "        print(text)\n",
    "\n",
    "    def tellYourJob(self):\n",
    "        text=''\n",
    "        rand=random.randint(0,4)\n",
    "        if rand==0:\n",
    "            text+='I work as a '\n",
    "        elif rand==1:\n",
    "            text+='I am '\n",
    "        elif rand==2:\n",
    "            text+=\"I'm \"\n",
    "        elif rand==3:\n",
    "            text+='My job is '\n",
    "        elif rand==4:\n",
    "            text+='I make a living from working as a '\n",
    "        text+=self.optimizeJob(self.job)+'.'\n",
    "        return text\n",
    "    \n",
    "    def optimizeJob(self, job):\n",
    "        split=job.split(' ')\n",
    "        for i in range(len(split)):\n",
    "            if split[i]=='management':\n",
    "                split[i]='manager'\n",
    "            elif split[i]=='support':\n",
    "                split[i]='supporter'\n",
    "            elif split[i]=='therapy':\n",
    "                split[i]='therapist'\n",
    "            elif split[i]=='supervision':\n",
    "                split[i]='supervisor'\n",
    "            elif split[i]=='scouting':\n",
    "                split[i]='scout'\n",
    "        optimizedJob=''\n",
    "        for word in split:\n",
    "            optimizedJob+=word+' '\n",
    "        optimizedJob=optimizedJob[:len(optimizedJob)-1]\n",
    "        return optimizedJob\n",
    "\n",
    "    def startTopicJob(self):\n",
    "        name=self.name.split(' ')[0]+':   '\n",
    "        text=self.tellYourJob()+' '\n",
    "        #Ask the others about their job\n",
    "        rand=random.randint(0,4)\n",
    "        if rand==0:\n",
    "            text+='What is your job?'\n",
    "        elif rand==1:\n",
    "            text+='What are you doing for a living?'\n",
    "        elif rand==2:\n",
    "            text+='What are you working?'\n",
    "        elif rand==3:\n",
    "            text+='What do you do?'\n",
    "        elif rand==4:\n",
    "            text+='What do you work as?'\n",
    "        print(name+text)\n",
    "        return text\n",
    "\n",
    "    def respondToJob(self):\n",
    "        text=self.name.split(' ')[0]+':   '\n",
    "        text+=self.tellYourJob()\n",
    "        print(text)\n",
    "\n",
    "    def tellYourFavouriteMusic(self):\n",
    "        text=''\n",
    "        rand=random.randint(0,5)\n",
    "        if rand==0:\n",
    "            text+='My favourite music is '\n",
    "        elif rand==1:\n",
    "            text+='I like listening to '\n",
    "        elif rand==2:\n",
    "            text+='I like '\n",
    "        elif rand==3:\n",
    "            text+='My favourite music genre is '\n",
    "        elif rand==4:\n",
    "            text+='I really enjoy listening to '\n",
    "        elif rand==5:\n",
    "            text+='I usually listen to '\n",
    "        text+=self.music+'.'\n",
    "        return text\n",
    "\n",
    "    def startTopicMusic(self):\n",
    "        name=self.name.split(' ')[0]+':   '\n",
    "        text=self.tellYourFavouriteMusic()+' '\n",
    "        #Ask the others about their favourite music\n",
    "        rand=random.randint(0,4)\n",
    "        if rand==0:\n",
    "            text+='What is your favourite music?'\n",
    "        elif rand==1:\n",
    "            text+='What do you like to listen to?'\n",
    "        elif rand==2:\n",
    "            text+='What is your favourite music genre?'\n",
    "        elif rand==3:\n",
    "            text+='What music do you like to listen to?'\n",
    "        elif rand==4:\n",
    "            text+='Which type of music do you enjoy most?'\n",
    "        print(name+text)\n",
    "        return text\n",
    "\n",
    "    def respondToMusic(self):\n",
    "        text=self.name.split(' ')[0]+':   '\n",
    "        text+=self.tellYourFavouriteMusic()\n",
    "        print(text)\n",
    "        \n",
    "    def tellYourFavouriteGame(self):\n",
    "        text=''\n",
    "        rand=random.randint(0,5)\n",
    "        if rand==0:\n",
    "            text+='My favourite game is '\n",
    "        elif rand==1:\n",
    "            text+='I like playing '\n",
    "        elif rand==2:\n",
    "            text+='I like '\n",
    "        elif rand==3:\n",
    "            text+='I like to play '\n",
    "        elif rand==4:\n",
    "            text+='I really enjoy playing '\n",
    "        elif rand==5:\n",
    "            text+='I often play '\n",
    "        text+=self.game+'.'\n",
    "        return text\n",
    "\n",
    "    def startTopicGame(self):\n",
    "        name=self.name.split(' ')[0]+':   '\n",
    "        text=self.tellYourFavouriteGame()+' '\n",
    "        #Ask the others about their favourite game\n",
    "        rand=random.randint(0,4)\n",
    "        if rand==0:\n",
    "            text+='What is your favourite game?'\n",
    "        elif rand==1:\n",
    "            text+='What do you like to play?'\n",
    "        elif rand==2:\n",
    "            text+='Which games do you play?'\n",
    "        elif rand==3:\n",
    "            text+='Are there games that you like to play?'\n",
    "        elif rand==4:\n",
    "            text+='Which game do you enjoy most?'\n",
    "        print(name+text)\n",
    "        return text\n",
    "\n",
    "    def respondToGame(self):\n",
    "        text=self.name.split(' ')[0]+':   '\n",
    "        text+=self.tellYourFavouriteGame()\n",
    "        print(text)\n",
    "        \n",
    "    def tellYourFavouriteSport(self):\n",
    "        text=''\n",
    "        rand=random.randint(0,9)\n",
    "        if rand==0:\n",
    "            text+='My favourite sport is '\n",
    "        elif rand==1:\n",
    "            text+='I like playing '\n",
    "        elif rand==2:\n",
    "            text+='I like '\n",
    "        elif rand==3:\n",
    "            text+='I like to play '\n",
    "        elif rand==4:\n",
    "            text+='I really enjoy playing '\n",
    "        elif rand==5:\n",
    "            text+='I often play '\n",
    "        elif rand==6:\n",
    "            text+='I like watching '\n",
    "        elif rand==7:\n",
    "            text+='I like to watch '\n",
    "        elif rand==8:\n",
    "            text+='I\\'m a fan of '\n",
    "        elif rand==9:\n",
    "            text+='I\\'m a '+self.sport+' fan.'\n",
    "        if not rand==9:\n",
    "            text+=self.sport+'.'\n",
    "        return text\n",
    "\n",
    "    def startTopicSport(self):\n",
    "        name=self.name.split(' ')[0]+':   '\n",
    "        text=self.tellYourFavouriteSport()+' '\n",
    "        #Ask the others about their favourite sport\n",
    "        rand=random.randint(0,4)\n",
    "        if rand==0:\n",
    "            text+='What is your favourite sport?'\n",
    "        elif rand==1:\n",
    "            text+='Are you a sports fan?'\n",
    "        elif rand==2:\n",
    "            text+='Which sport are you interested in?'\n",
    "        elif rand==3:\n",
    "            text+='What is your preferred sport?'\n",
    "        elif rand==4:\n",
    "            text+='Which kind of sport do you like most?'\n",
    "        print(name+text)\n",
    "        return text\n",
    "\n",
    "    def respondToSport(self):\n",
    "        text=self.name.split(' ')[0]+':   '\n",
    "        text+=self.tellYourFavouriteSport()\n",
    "        print(text)\n",
    "\n",
    "    def respond(self, message):\n",
    "        split=message.split('. ')\n",
    "        question=split[len(split)-1]\n",
    "        question=question[:len(question)-1]\n",
    "        guessedTopic=self.guessTopic(question)\n",
    "        SWITCH_DICT={\n",
    "            'sport':self.respondToSport,\n",
    "            'music':self.respondToMusic,\n",
    "            'job':self.respondToJob,\n",
    "            'game':self.respondToGame,\n",
    "            'food':self.respondToFood,\n",
    "        }\n",
    "        SWITCH_DICT.get(guessedTopic)()\n",
    "        \n",
    "    def guessTopic(self, text):\n",
    "        bestTopic=None\n",
    "        bestDistance=None\n",
    "        words=text.split(' ')\n",
    "        for word in words:\n",
    "            for topic in topics:\n",
    "                try:\n",
    "                    distance=word2vecModel.distance(word, topic)\n",
    "                    if bestTopic==None or distance<bestDistance:\n",
    "                        bestTopic=topic\n",
    "                        bestDistance=distance\n",
    "                except:\n",
    "                    continue\n",
    "        return bestTopic\n",
    "    \n",
    "    def startTopic(self, doneTopics):\n",
    "        openTopics=[topic for topic in topics if topic not in doneTopics]\n",
    "        if len(openTopics)==0:\n",
    "            return None\n",
    "        rand=random.randint(0,len(openTopics)-1)\n",
    "        if openTopics[rand]=='music':\n",
    "            doneTopics.append('music')\n",
    "            return self.startTopicMusic()\n",
    "        elif openTopics[rand]=='job':\n",
    "            doneTopics.append('job')\n",
    "            return self.startTopicJob()\n",
    "        elif openTopics[rand]=='food':\n",
    "            doneTopics.append('food')\n",
    "            return self.startTopicFood()\n",
    "        elif openTopics[rand]=='game':\n",
    "            doneTopics.append('game')\n",
    "            return self.startTopicGame()\n",
    "        elif openTopics[rand]=='sport':\n",
    "            doneTopics.append('sport')\n",
    "            return self.startTopicSport()\n",
    "        else:\n",
    "            return None"
   ]
  },
  {
   "cell_type": "code",
   "execution_count": 15,
   "metadata": {
    "executionInfo": {
     "elapsed": 12,
     "status": "ok",
     "timestamp": 1639579282376,
     "user": {
      "displayName": "Stefan Am Ende",
      "photoUrl": "https://lh3.googleusercontent.com/a-/AOh14Gj_hrHvJQnAnrHGOcz9J_HX56sCTip0nW2cK7npZQ=s64",
      "userId": "15393709540815104118"
     },
     "user_tz": -60
    },
    "id": "k4HqzH2HOHoy"
   },
   "outputs": [],
   "source": [
    "def generatePersons(nPersons):\n",
    "    persons=[]\n",
    "    for i in range(nPersons):\n",
    "        person = Person()\n",
    "        persons.append(person)\n",
    "    return persons"
   ]
  },
  {
   "cell_type": "code",
   "execution_count": 46,
   "metadata": {
    "executionInfo": {
     "elapsed": 11,
     "status": "ok",
     "timestamp": 1639579282376,
     "user": {
      "displayName": "Stefan Am Ende",
      "photoUrl": "https://lh3.googleusercontent.com/a-/AOh14Gj_hrHvJQnAnrHGOcz9J_HX56sCTip0nW2cK7npZQ=s64",
      "userId": "15393709540815104118"
     },
     "user_tz": -60
    },
    "id": "HXIlYCREDPwT"
   },
   "outputs": [],
   "source": [
    "def startChat(persons, nTopics):\n",
    "    doneTopics=[]\n",
    "    for person in persons: \n",
    "        person.introduce()\n",
    "    for i in range(nTopics):\n",
    "        personToStart=persons[random.randint(0, len(persons)-1)]\n",
    "        message=personToStart.startTopic(doneTopics)\n",
    "        if message==None:\n",
    "            return\n",
    "        random.shuffle(persons)\n",
    "        for person in persons:\n",
    "            if not person==personToStart:\n",
    "                person.respond(message)"
   ]
  },
  {
   "cell_type": "code",
   "execution_count": 59,
   "metadata": {},
   "outputs": [],
   "source": [
    "def startChatInteractive(persons):\n",
    "    for person in persons: \n",
    "        person.introduce()\n",
    "    while True:\n",
    "        message=input('You: ')\n",
    "        if message=='bye':\n",
    "            return\n",
    "        if not message=='':\n",
    "            random.shuffle(persons)\n",
    "            for person in persons:\n",
    "                person.respond(message)"
   ]
  },
  {
   "cell_type": "code",
   "execution_count": 17,
   "metadata": {
    "executionInfo": {
     "elapsed": 11,
     "status": "ok",
     "timestamp": 1639579282377,
     "user": {
      "displayName": "Stefan Am Ende",
      "photoUrl": "https://lh3.googleusercontent.com/a-/AOh14Gj_hrHvJQnAnrHGOcz9J_HX56sCTip0nW2cK7npZQ=s64",
      "userId": "15393709540815104118"
     },
     "user_tz": -60
    },
    "id": "jWsNaYnMN9zT"
   },
   "outputs": [],
   "source": [
    "def generateDescriptions(persons):\n",
    "    for person in persons:\n",
    "        person.generateDescription()\n",
    "        print('\\n')"
   ]
  },
  {
   "cell_type": "code",
   "execution_count": 75,
   "metadata": {
    "executionInfo": {
     "elapsed": 224,
     "status": "ok",
     "timestamp": 1639582652896,
     "user": {
      "displayName": "Stefan Am Ende",
      "photoUrl": "https://lh3.googleusercontent.com/a-/AOh14Gj_hrHvJQnAnrHGOcz9J_HX56sCTip0nW2cK7npZQ=s64",
      "userId": "15393709540815104118"
     },
     "user_tz": -60
    },
    "id": "MXnso_Pc-qWU"
   },
   "outputs": [],
   "source": [
    "myPersons=generatePersons(4)"
   ]
  },
  {
   "cell_type": "code",
   "execution_count": 31,
   "metadata": {
    "colab": {
     "base_uri": "https://localhost:8080/"
    },
    "executionInfo": {
     "elapsed": 11,
     "status": "ok",
     "timestamp": 1639579282378,
     "user": {
      "displayName": "Stefan Am Ende",
      "photoUrl": "https://lh3.googleusercontent.com/a-/AOh14Gj_hrHvJQnAnrHGOcz9J_HX56sCTip0nW2cK7npZQ=s64",
      "userId": "15393709540815104118"
     },
     "user_tz": -60
    },
    "id": "bAU7vGKYDTXw",
    "outputId": "e90922c6-de10-4bfd-958f-dd59507596c5"
   },
   "outputs": [
    {
     "name": "stdout",
     "output_type": "stream",
     "text": [
      "Hans:   Hey, I am Hans Beck, I'm 76 years old and I am from Barbados.\n",
      "Charles:   Hey, my name is Charles Wright, I am 66 years old and I'm from Saint Lucia.\n",
      "Adam:   Hey, I'm Adam Scott, I'm 53 years old and I come from Malaysia.\n",
      "Liu:   Hello, I am Liu Xia, I'm 29 years old and I am from Argentina.\n",
      "Charles:   I really enjoy playing Aeroplane Chess. Are there games that you like to play?\n",
      "Liu:   My favourite game is Washington's War.\n",
      "Hans:   I really enjoy playing Secret Wars II.\n",
      "Adam:   I like In a Pickle.\n",
      "Hans:   I really enjoy listening to narcocorrido. Which type of music do you enjoy most?\n",
      "Liu:   I like ancient music.\n",
      "Charles:   I really enjoy listening to Austropop.\n",
      "Adam:   My favourite music genre is Italo dance.\n",
      "Adam:   My favourite sport is bandy. What is your favourite sport?\n",
      "Charles:   I like playing precision flying.\n",
      "Liu:   I'm a fan of speed-ball.\n",
      "Hans:   I like to play Classical dressage.\n",
      "Adam:   I make a living from working as a apron supervisor. What do you work as?\n",
      "Hans:   I make a living from working as a apron supervisor.\n",
      "Liu:   My job is Intelligence Specialist.\n",
      "Charles:   I work as a drawing teacher.\n",
      "Hans:   I love Bataw. What do you like to eat most?\n",
      "Charles:   My favourite dish is milk pilaf.\n",
      "Liu:   I like to eat Curcuma longa.\n",
      "Adam:   My favourite food is Imokilly Regato.\n"
     ]
    }
   ],
   "source": [
    "startChat(myPersons, 5)           "
   ]
  },
  {
   "cell_type": "code",
   "execution_count": 61,
   "metadata": {
    "scrolled": true
   },
   "outputs": [
    {
     "name": "stdout",
     "output_type": "stream",
     "text": [
      "Michel:   Hey, I'm Michel Bouvard, I'm 24 years old and I come from Eswatini.\n",
      "Philip:   Hello, I'm Philip William, I am 34 years old and I live in Slovenia.\n",
      "Richard:   Hi, I'm Richard Taylor, I am 34 years old and I come from Uganda.\n",
      "Ludwig:   Good day, I'm Ludwig Traube, I am 42 years old and I'm from Brunei.\n",
      "You: do you play soccer?\n",
      "Michel:   I like to play Space Fleet.\n",
      "Philip:   I like Karapan sapi.\n",
      "Ludwig:   My favourite game is Shout About TV.\n",
      "Richard:   My favourite game is Lexicon (game).\n",
      "You: bye\n"
     ]
    }
   ],
   "source": [
    "startChatInteractive(myPersons)"
   ]
  },
  {
   "cell_type": "code",
   "execution_count": 20,
   "metadata": {
    "colab": {
     "base_uri": "https://localhost:8080/",
     "height": 660
    },
    "executionInfo": {
     "elapsed": 16353,
     "status": "error",
     "timestamp": 1639582670787,
     "user": {
      "displayName": "Stefan Am Ende",
      "photoUrl": "https://lh3.googleusercontent.com/a-/AOh14Gj_hrHvJQnAnrHGOcz9J_HX56sCTip0nW2cK7npZQ=s64",
      "userId": "15393709540815104118"
     },
     "user_tz": -60
    },
    "id": "UeWrZwLYhLLE",
    "outputId": "3545540b-fa05-4a28-e818-7816c2b5b6bb"
   },
   "outputs": [
    {
     "name": "stderr",
     "output_type": "stream",
     "text": [
      "C:\\ProgramData\\Anaconda3\\lib\\site-packages\\transformers\\tokenization_t5.py:184: UserWarning: This sequence already has </s>. In future versions this behavior may lead to duplicated eos tokens being added.\n",
      "  warnings.warn(\n"
     ]
    },
    {
     "name": "stdout",
     "output_type": "stream",
     "text": [
      "Rico Rodriguez, who is from the country of Bolivia, has 18 years to be exact.\n",
      "The Fliegel-Adjutant, Frankie Adjutant, is a key person at the company,Rico.\n",
      "Taido is a favourite sport of the region of Rome.\n",
      "The favourite music of Rome is the underground music.\n",
      "The favourite religion of Rome is the Jewish religion.\n",
      "The Top of the Order is the favourite football team of Rome.\n",
      "The favourite food of Rome is the Imokilly Regato.\n",
      "The collection of Australian timber samples in the form of books is a key interest in the book, Rome.\n",
      "\n",
      "\n",
      "John Madden, who was born in the country of Moldova, has 40 years of age.\n",
      "John's occupation is cupping therapy.\n",
      "Bar billiards are the favourite sport of John.\n",
      "The favourite of John is Minnesang.\n",
      "The favourite building of John is the organ building.\n",
      "The Left Hand of Eternity is John's favourite games.\n",
      "Nasi Bogana is a favourite of John.\n",
      "John Madin is interested in the Commemoration - Belgium.\n",
      "\n",
      "\n",
      "Thomas Taylor, who is from the country of Syria, has 39 years to his credit.\n",
      "Thomas is a member of the Paestan vase-painter.\n",
      "The Universiade Sport is the favourite sport of Thomas.\n",
      "Ryuka is the favourite of Thomas.\n",
      "The favourite of Thomas is DATA CARDDASS.\n",
      "The favourite of Thomas is payana.\n",
      "The katsu sandwich is a favourite of the Thomas.\n",
      "The interest in the Composition (At) Composition (At Gravesite) of Thomas is currently.\n",
      "\n",
      "\n",
      "James Stirling, who is 79 years old, is from Malaysia.\n",
      "James is a Master of Science doctorate in Science.\n",
      "The Pallonetto ligure is a favourite sport of James.\n",
      "Britcore is a favourite of James.\n",
      "Jacobin novel is a favourite of James.\n",
      "The Jogo de Cartas is the favourite games of James.\n",
      "Pindang is a favourite of James.\n",
      "James is interested in The Microbe Man.\n",
      "\n",
      "\n"
     ]
    }
   ],
   "source": [
    "generateDescriptions(myPersons)"
   ]
  },
  {
   "cell_type": "code",
   "execution_count": 76,
   "metadata": {
    "colab": {
     "base_uri": "https://localhost:8080/"
    },
    "executionInfo": {
     "elapsed": 16,
     "status": "ok",
     "timestamp": 1639579318048,
     "user": {
      "displayName": "Stefan Am Ende",
      "photoUrl": "https://lh3.googleusercontent.com/a-/AOh14Gj_hrHvJQnAnrHGOcz9J_HX56sCTip0nW2cK7npZQ=s64",
      "userId": "15393709540815104118"
     },
     "user_tz": -60
    },
    "id": "iXmYd5bI8GbU",
    "outputId": "aaf4964b-8d3c-4451-9fb1-1dac975b6a97"
   },
   "outputs": [
    {
     "name": "stdout",
     "output_type": "stream",
     "text": [
      "name: Aka / AKA / a.k.a.\n",
      "age: 75\n",
      "country: Argentina\n",
      "book: tenderness\n",
      "music: speed garage\n",
      "job: party leader\n",
      "sport: Laser-Run\n",
      "film: Pawe i Gawe\n",
      "game: Dystopian Wars\n",
      "food: BP-5 Compact Food\n",
      "object of interest: Tribute to Pierre Fermat\n",
      "\n",
      "name: Walter Adams\n",
      "age: 58\n",
      "country: Nauru\n",
      "book: disdain\n",
      "music: neofolk\n",
      "job: Kara-e mekiki\n",
      "sport: summer skiing area\n",
      "film: Mumford\n",
      "game: Ringo\n",
      "food: Black seabream\n",
      "object of interest: 'Blue gums in a billabong' by Kerry and Co\n",
      "\n",
      "name: Alan White\n",
      "age: 29\n",
      "country: Belarus\n",
      "book: Ecophobia\n",
      "music: cosmic disco\n",
      "job: poultry seller\n",
      "sport: kuningaspallo\n",
      "film: The Matrix\n",
      "game: BrikWars\n",
      "food: Fried Rice with Salted Fish and Chicken\n",
      "object of interest: Giraffe Head\n",
      "\n",
      "name: Edward Grant\n",
      "age: 46\n",
      "country: Republic of the Congo\n",
      "book: ferocity\n",
      "music: spirituals\n",
      "job: servant\n",
      "sport: league\n",
      "film: To Marry a Captain\n",
      "game: Blacks & Whites\n",
      "food: Crispy Crunch\n",
      "object of interest: Tribute to Corrado Ricci\n",
      "\n"
     ]
    }
   ],
   "source": [
    "for person in myPersons:\n",
    "    person.showProperties()"
   ]
  },
  {
   "cell_type": "code",
   "execution_count": 41,
   "metadata": {},
   "outputs": [],
   "source": [
    "def a():\n",
    "    text=input('input: ')\n",
    "    if text=='':\n",
    "        print('a')"
   ]
  },
  {
   "cell_type": "code",
   "execution_count": 42,
   "metadata": {},
   "outputs": [
    {
     "name": "stdout",
     "output_type": "stream",
     "text": [
      "input: \n",
      "a\n"
     ]
    }
   ],
   "source": [
    "a()"
   ]
  }
 ],
 "metadata": {
  "colab": {
   "collapsed_sections": [],
   "name": "projet tatia.ipynb",
   "provenance": []
  },
  "kernelspec": {
   "display_name": "Python 3 (ipykernel)",
   "language": "python",
   "name": "python3"
  },
  "language_info": {
   "codemirror_mode": {
    "name": "ipython",
    "version": 3
   },
   "file_extension": ".py",
   "mimetype": "text/x-python",
   "name": "python",
   "nbconvert_exporter": "python",
   "pygments_lexer": "ipython3",
   "version": "3.8.11"
  }
 },
 "nbformat": 4,
 "nbformat_minor": 1
}
