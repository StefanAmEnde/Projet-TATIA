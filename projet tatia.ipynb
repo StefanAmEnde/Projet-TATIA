{
 "cells": [
  {
   "cell_type": "code",
   "execution_count": 3,
   "metadata": {
    "colab": {
     "base_uri": "https://localhost:8080/"
    },
    "executionInfo": {
     "elapsed": 3732,
     "status": "ok",
     "timestamp": 1639579251708,
     "user": {
      "displayName": "Stefan Am Ende",
      "photoUrl": "https://lh3.googleusercontent.com/a-/AOh14Gj_hrHvJQnAnrHGOcz9J_HX56sCTip0nW2cK7npZQ=s64",
      "userId": "15393709540815104118"
     },
     "user_tz": -60
    },
    "id": "oGgWU9Mh4kbi",
    "outputId": "5e74c7bb-c761-477a-afad-14a9f455dfcf"
   },
   "outputs": [
    {
     "name": "stdout",
     "output_type": "stream",
     "text": [
      "Requirement already satisfied: SPARQLWrapper in /home/matthis/anaconda3/lib/python3.9/site-packages (1.8.5)\n",
      "Requirement already satisfied: rdflib>=4.0 in /home/matthis/anaconda3/lib/python3.9/site-packages (from SPARQLWrapper) (6.1.1)\n",
      "Requirement already satisfied: pyparsing in /home/matthis/anaconda3/lib/python3.9/site-packages (from rdflib>=4.0->SPARQLWrapper) (3.0.4)\n",
      "Requirement already satisfied: setuptools in /home/matthis/anaconda3/lib/python3.9/site-packages (from rdflib>=4.0->SPARQLWrapper) (58.0.4)\n",
      "Requirement already satisfied: isodate in /home/matthis/anaconda3/lib/python3.9/site-packages (from rdflib>=4.0->SPARQLWrapper) (0.6.1)\n",
      "Requirement already satisfied: six in /home/matthis/anaconda3/lib/python3.9/site-packages (from isodate->rdflib>=4.0->SPARQLWrapper) (1.16.0)\n",
      "Note: you may need to restart the kernel to use updated packages.\n"
     ]
    }
   ],
   "source": [
    "pip install SPARQLWrapper"
   ]
  },
  {
   "cell_type": "code",
   "execution_count": 3,
   "metadata": {
    "executionInfo": {
     "elapsed": 8,
     "status": "ok",
     "timestamp": 1639579251708,
     "user": {
      "displayName": "Stefan Am Ende",
      "photoUrl": "https://lh3.googleusercontent.com/a-/AOh14Gj_hrHvJQnAnrHGOcz9J_HX56sCTip0nW2cK7npZQ=s64",
      "userId": "15393709540815104118"
     },
     "user_tz": -60
    },
    "id": "pw-yCMECBUAW"
   },
   "outputs": [],
   "source": [
    "import random\n",
    "from SPARQLWrapper import SPARQLWrapper, JSON"
   ]
  },
  {
   "cell_type": "code",
   "execution_count": 4,
   "metadata": {
    "executionInfo": {
     "elapsed": 8,
     "status": "ok",
     "timestamp": 1639579251709,
     "user": {
      "displayName": "Stefan Am Ende",
      "photoUrl": "https://lh3.googleusercontent.com/a-/AOh14Gj_hrHvJQnAnrHGOcz9J_HX56sCTip0nW2cK7npZQ=s64",
      "userId": "15393709540815104118"
     },
     "user_tz": -60
    },
    "id": "0UP47mV-BYVg"
   },
   "outputs": [],
   "source": [
    "sparql = SPARQLWrapper(\"https://query.wikidata.org/sparql\",agent=\"Mozilla/5.0 (X11; Linux x86_64) AppleWebKit/537.11 (KHTML, like Gecko) Chrome/23.0.1271.64 Safari/537.11\")"
   ]
  },
  {
   "cell_type": "code",
   "execution_count": 171,
   "metadata": {},
   "outputs": [],
   "source": [
    "def getQidLabel(label):\n",
    "    sparql.setQuery(\"\"\"\n",
    "    SELECT ?item WHERE {\n",
    "      ?item rdfs:label \\\"\"\"\"+label+\"\"\"\\\"@en\n",
    "    }\n",
    "    \"\"\")\n",
    "    sparql.setReturnFormat(JSON)\n",
    "    results = sparql.query().convert()\n",
    "    result =results[\"results\"][\"bindings\"][0][\"item\"][\"value\"]\n",
    "    quid = result.split('/')\n",
    "    return quid[len(quid)-1]\n",
    "    "
   ]
  },
  {
   "cell_type": "code",
   "execution_count": 172,
   "metadata": {},
   "outputs": [
    {
     "data": {
      "text/plain": [
       "'Q222'"
      ]
     },
     "execution_count": 172,
     "metadata": {},
     "output_type": "execute_result"
    }
   ],
   "source": [
    "getQidLabel('Albania')"
   ]
  },
  {
   "cell_type": "code",
   "execution_count": 176,
   "metadata": {},
   "outputs": [],
   "source": [
    "def makelabeldict(Qid):\n",
    "    sparql.setQuery(\"\"\"\n",
    "    select distinct ?subject ?subjectLabel ?property ?propertyLabel {\n",
    "      values (?item) {(wd:\"\"\"+Qid+\"\"\")}\n",
    "      ?subject ?predicate ?item .\n",
    "      ?property wikibase:directClaim ?predicate\n",
    "      service wikibase:label { bd:serviceParam wikibase:language \"en\" }\n",
    "    }Limit 90\n",
    "    \"\"\")\n",
    "    #/wdt:P31/wdt:P279\n",
    "    \n",
    "    sparql.setReturnFormat(JSON)\n",
    "    results = sparql.query().convert()\n",
    "    mydict = []\n",
    "    for result in results[\"results\"][\"bindings\"]:\n",
    "        mydict.append((result[\"propertyLabel\"][\"value\"], result[\"subjectLabel\"][\"value\"]))\n",
    "    return mydict"
   ]
  },
  {
   "cell_type": "code",
   "execution_count": 177,
   "metadata": {},
   "outputs": [
    {
     "data": {
      "text/plain": [
       "[('country', 'Sinaballaj'),\n",
       " ('country', 'Drisht Castle'),\n",
       " ('country', 'Borsh'),\n",
       " ('country', 'ALBtelecom'),\n",
       " ('country', 'Environmentalist Agrarian Party'),\n",
       " ('country', 'Amantia'),\n",
       " ('country', 'Albanian Football Association'),\n",
       " ('country', 'Bojana'),\n",
       " ('country', 'Šar Mountains'),\n",
       " ('country', 'Albanian Declaration of Independence'),\n",
       " ('country', 'Skelë Castle'),\n",
       " ('country', 'Barbas, Albania'),\n",
       " ('country', 'Skanderbeg Monument'),\n",
       " ('country', 'Jablanica Mountain'),\n",
       " ('country', 'Myzeqe'),\n",
       " ('country', 'Trans Adriatic Pipeline'),\n",
       " ('country', 'Roman Catholic Archdiocese of Tiranë-Durrës'),\n",
       " ('country', '1972–73 Albanian Superliga'),\n",
       " ('country', '1993–94 Albanian Superliga'),\n",
       " ('country', 'Fushë-Arrëz'),\n",
       " ('country', 'Balkan Cup'),\n",
       " ('country', 'Albania at the 2011 World Aquatics Championships'),\n",
       " ('country', 'Zagori'),\n",
       " ('country', 'Q615228'),\n",
       " ('country', 'Burrel'),\n",
       " ('country', '2004–05 Albanian Cup'),\n",
       " ('country', 'Gjirokastër National Folklore Festival'),\n",
       " ('country', '1966–67 Albanian Superliga'),\n",
       " ('country', 'Adush Muça Stadium'),\n",
       " ('country', 'University of Tirana'),\n",
       " ('country', 'Greeks in Albania'),\n",
       " ('country', 'Small Prespa Lake'),\n",
       " ('country', 'Gur i Zi'),\n",
       " ('country', 'Kunë Island'),\n",
       " ('country', 'Zharrëz'),\n",
       " ('country', 'Apollonia'),\n",
       " ('country', 'Fushë-Bulqizë'),\n",
       " ('country', 'Borovë'),\n",
       " ('country', 'cinema of Albania'),\n",
       " ('country', 'Albania at the Olympics'),\n",
       " ('country', 'Sigurimi'),\n",
       " ('country', 'Pindus Mountains mixed forests'),\n",
       " ('country', 'Velçan'),\n",
       " ('country', 'Gjerbës'),\n",
       " ('country', 'Mourgana'),\n",
       " ('country', 'Prokletije'),\n",
       " ('country', 'Greater Albania'),\n",
       " ('country', 'Fushë-Krujë'),\n",
       " ('country', 'Diocese of Apollonia'),\n",
       " ('country', 'National Theatre of Opera and Ballet of Albania'),\n",
       " ('country', 'Red Mosque'),\n",
       " ('country', 'demographics of Albania'),\n",
       " ('country', 'Ada Air'),\n",
       " ('country', 'Albania in the Junior Eurovision Song Contest'),\n",
       " ('country', 'Epirus'),\n",
       " ('country', 'Shekulli'),\n",
       " ('country', 'Mirditë District'),\n",
       " ('country', 'White Drin'),\n",
       " ('country', '1974–75 Albanian Superliga'),\n",
       " ('country', '1989 Albanian Supercup'),\n",
       " ('country', 'rail transport in Albania'),\n",
       " ('country', 'Hylli i Dritës'),\n",
       " ('country', 'Skanderbeg Square'),\n",
       " ('country', 'Bulqizë'),\n",
       " ('country', 'Ashkali and Balkan Egyptians'),\n",
       " ('country', '1949 Albanian Superliga'),\n",
       " ('country', 'Albanian Naval Force'),\n",
       " ('country', 'European route E853'),\n",
       " ('country', 'Kolsh'),\n",
       " ('country', 'Albanian Armed Forces'),\n",
       " ('country', 'KS Bylis Ballsh'),\n",
       " ('country', 'Independent Albania'),\n",
       " ('country', 'Ottoman period in the history of Albania'),\n",
       " ('country', 'Mat'),\n",
       " ('country', 'Balkan Cup 1935'),\n",
       " ('country', 'Delvinë'),\n",
       " ('country', '1991 Albanian Constitutional Assembly election'),\n",
       " ('country', 'Tirana 1'),\n",
       " ('country', 'Xibër'),\n",
       " ('country', 'Communist Party of Albania'),\n",
       " ('country', 'Paštrik'),\n",
       " ('country', 'Pallati i Brigadave'),\n",
       " ('country', '1961 Albanian Superliga'),\n",
       " ('country', 'Albania national under-21 football team'),\n",
       " ('country', 'Sukth'),\n",
       " ('country', 'history of post-Communist Albania'),\n",
       " ('country', \"St Paul's Archcathedral\"),\n",
       " ('country', 'Shushicë, Vlorë'),\n",
       " ('country', 'Klos, Mat'),\n",
       " ('country', 'A2 motorway')]"
      ]
     },
     "execution_count": 177,
     "metadata": {},
     "output_type": "execute_result"
    }
   ],
   "source": [
    "makelabeldict(getQidLabel('Albania'))"
   ]
  },
  {
   "cell_type": "code",
   "execution_count": 57,
   "metadata": {
    "executionInfo": {
     "elapsed": 7,
     "status": "ok",
     "timestamp": 1639579251709,
     "user": {
      "displayName": "Stefan Am Ende",
      "photoUrl": "https://lh3.googleusercontent.com/a-/AOh14Gj_hrHvJQnAnrHGOcz9J_HX56sCTip0nW2cK7npZQ=s64",
      "userId": "15393709540815104118"
     },
     "user_tz": -60
    },
    "id": "jK9g6z6_BewI"
   },
   "outputs": [],
   "source": [
    "def research(Qid):\n",
    "    sparql.setQuery(\"\"\"\n",
    "    SELECT ?item ?itemLabel\n",
    "    WHERE \n",
    "    {\n",
    "      ?item wdt:P31 wd:\"\"\" + Qid + \"\"\". #on pourais rajouté des obligation de référance à des payes etc\n",
    "      SERVICE wikibase:label { bd:serviceParam wikibase:language \"[AUTO_LANGUAGE],en\". } # le label viendra de préférence dans votre langue, et autrement en anglais\n",
    "      \n",
    "    }LIMIT 1000\n",
    "    \"\"\")\n",
    "    #/wdt:P31/wdt:P279\n",
    "    \n",
    "    sparql.setReturnFormat(JSON)\n",
    "    results = sparql.query().convert()\n",
    "    mydict = []\n",
    "    for result in results[\"results\"][\"bindings\"]:\n",
    "        # ne prend pas ce ou il y a pas de nom ajouté\n",
    "        if(result[\"itemLabel\"][\"value\"][0]!=\"Q\"):\n",
    "            mydict.append(result[\"itemLabel\"][\"value\"])\n",
    "            \n",
    "    return mydict"
   ]
  },
  {
   "cell_type": "code",
   "execution_count": 58,
   "metadata": {
    "executionInfo": {
     "elapsed": 8,
     "status": "ok",
     "timestamp": 1639579251710,
     "user": {
      "displayName": "Stefan Am Ende",
      "photoUrl": "https://lh3.googleusercontent.com/a-/AOh14Gj_hrHvJQnAnrHGOcz9J_HX56sCTip0nW2cK7npZQ=s64",
      "userId": "15393709540815104118"
     },
     "user_tz": -60
    },
    "id": "2m3t8Je8Bg3p"
   },
   "outputs": [],
   "source": [
    "listofidqHuman = ['Q22808320', 'Q571', 'Q31629', 'Q188451', 'Q192581', 'Q11424', 'Q11410', 'Q2095', 'Q3624078']\n"
   ]
  },
  {
   "cell_type": "code",
   "execution_count": 59,
   "metadata": {
    "executionInfo": {
     "elapsed": 8956,
     "status": "ok",
     "timestamp": 1639579260659,
     "user": {
      "displayName": "Stefan Am Ende",
      "photoUrl": "https://lh3.googleusercontent.com/a-/AOh14Gj_hrHvJQnAnrHGOcz9J_HX56sCTip0nW2cK7npZQ=s64",
      "userId": "15393709540815104118"
     },
     "user_tz": -60
    },
    "id": "H_xrM79NB-35"
   },
   "outputs": [
    {
     "name": "stdout",
     "output_type": "stream",
     "text": [
      "head\n",
      "results\n",
      "head\n",
      "results\n",
      "head\n",
      "results\n",
      "head\n",
      "results\n",
      "head\n",
      "results\n",
      "head\n",
      "results\n",
      "head\n",
      "results\n",
      "head\n",
      "results\n",
      "head\n",
      "results\n"
     ]
    }
   ],
   "source": [
    "description=[]\n",
    "for i in range(len(listofidqHuman)):\n",
    "    description.append(research(listofidqHuman[i]))"
   ]
  },
  {
   "cell_type": "code",
   "execution_count": 32,
   "metadata": {},
   "outputs": [
    {
     "name": "stdout",
     "output_type": "stream",
     "text": [
      "['David Terry', 'Robert Newton', 'William Meredith', 'Robert Rose', 'William Gibson', 'Richard Thompson', 'John Gillis', 'William Hamilton', 'Ian Hamilton', 'José Martínez', 'James Johnson', 'Alan Ball', 'Thrasydaios', 'Mikhail Biryukov', 'Mark Foster', 'Arthur Mitchell', 'James Rogers', 'George Curzon', 'Francisco Hernández de Córdoba', 'Charles V', 'Johann Strauss', 'Michael Howard', 'Keith Campbell', 'Lukas Bauer', 'David McNally', 'William Jones', 'Gareth Thomas', 'Henry II', 'Jesse Williams', 'Michael Anderson', 'George Bush', 'Chris Nelson', 'John Carroll', \"Anna de' Medici\", 'Henk Visser', 'Nikos Politis', 'Alan Clark', 'Peter Karageorgevitch', 'Mikko Lehtonen', 'Manuel I', 'Manuel II', 'Margaret of Burgundy', 'Meto Jovanovski', 'Norman Scott', 'Hatice Sultan', 'Michael Clarke', 'Alex Harvey', 'Alexander Campbell', 'Alexander Gray', 'Alexander Smirnov', 'Aleksandr Petrov', 'Alexei Petrov', 'Walter Forster', 'John Chambers', 'Peter Schneider', 'Franz Koch', 'James Dennis', 'John Lawrence', 'Richard Morris', 'Francisco Rodriguez', 'Peter Hess', 'Antônio Carlos', 'Friedrich Schulz', 'Gordon Lee', 'James Wedderburn', 'Peter Urban', 'Roger Mortimer', 'Florus', 'Thomas Taylor', 'Andrew Clarke', 'Louis II', 'John Long', 'Jeffrey Weeks', 'Michael Berry', 'James Tyler', 'Kevin Johnson', 'Henry Grey', 'Gustaf Andersson', 'Rico Rodriguez', 'Alexander Tikhonov', 'Marcus Cocceius Nerva', 'Jean Durand', 'Paul Krüger', 'Olga Lepeshinskaya', 'Alexander Munro', 'David Thomas', 'Ben Parker', 'Alexander Gordon', 'William Henderson', 'Pyotr Shuvalov', 'Lee Archer', 'Andrew Kennedy', 'Edward Henderson', 'Scott Thomas', 'Peter Schenk', 'Anthony Williams', 'Peter of Oldenburg', 'Tony Curtis', 'Lucius Tarquinius', 'John Watts', 'Erik Andersson', 'Dave Hilton', 'William Monroe / Bill Monroe', 'Thomas Robinson', 'Poul Petersen', 'Rowland Hill', 'John Cutler', 'Alexander Fadeyev', 'Charles Joy', 'Friedrich Kohlrausch', 'Albert of Hohenzollern', 'David Beck', 'Frank Ross', 'Douglas Haig', 'David Gunn', 'Gregory Johnson', 'Bill Ward', 'Mary Parker', 'David Kemp', 'Zakir Hussain', 'Francis Lyon', 'Mucius Scaevola', 'Van Zandt', 'James Tomkins', 'Mona Lisa', 'David Jacobs', 'David Grant', 'Jorge Camacho', 'David Darling', 'John Stevens', 'William Sullivan', 'Charles Eaton', 'Hermann Fischer', 'Martin Rodriguez', 'Mike Riley', 'Henry Herbert', 'Jim Marshall', 'John Crowell', 'Kevin Lynch', 'George Spencer', 'Michael Myers', 'John Robson', 'Antonio de la Torre', 'Ross Bagdasarian', 'Jack Taylor', 'Peter Thomas', 'Peter Wilson', 'José Luis García', 'MacDonald Taylor', 'James Marshall', 'Andrew Marshall', 'David Hunt', 'James McCarthy', 'Stewart Hall', 'Eric Newman', 'Zbigniew Oleśnicki', 'Charles Spencer-Churchill', 'George Pendleton', 'William Foster', 'Zdzisław Żygulski', 'David Emanuel', 'François Dumont', 'Alexey Orlov', 'Eddie Johnson', 'Michel Bouvard', 'Bruno Bruni', 'George Morgan', 'João Vieira', 'Anthony Hancock', 'David Reed', 'Pedro Fernández de Castro', 'Joseph Hart', 'Peter Cornelius', 'Philip Klass', 'John Egan', 'Ernst Fraenkel', 'William Calder', 'Fernando Castro', 'Richard Bell', 'Steve Williams', 'José Luis Rodríguez', 'George Reid', 'Henry Harrison', 'William Baker', 'Juan Núñez', 'Ricardo Garcia', 'Otto Stapf', 'Zhang Shuai', 'Namiki Shōzō', 'Adam Czartoryski', 'Mark Harris', 'Edward Grant', 'Daniel Miller', 'Eric Wright', 'George Hoskins', 'Bill Williams', 'Alessandro Farnese', 'John Wentworth', 'Max Fleischer', 'William IX', 'Karl Alexander', 'Maurice of Saxony', 'Ewald von Kleist', 'Joachim Ernst', 'Scott Adams', 'Jonathan Davis', 'Franz Fischer', 'Friedrich Engel', 'Victor de Broglie', 'Richard Carpenter', 'Christian Mayer', 'Frank White', 'Joseph Johnson', 'Charles Saunders', 'Samuel Hood', 'Ludwig Bauer', 'Paul Verhoeven', 'Aleksandr Gorshkov', 'Andris Bērziņš', 'Charles Taylor', 'Casimir III', 'Jim Davis', 'Juan Velasco', 'Bill Brown', 'John Sinclair', 'David Johnson', 'Frank Wolff', 'Henryk Tomaszewski', 'Muslim Magomayev', 'John Tradescant', 'Georgi Markov', 'Steve Wynn', 'John Johnson', 'Volker Beck', 'Nicholas V', 'Hiroshi Shimizu', 'Carl Braun', 'Ludwig Traube', 'John de Warenne', 'Yuri Morozov', 'William Paterson', 'James Webb', 'Li Na', 'John Bennett', 'Alexander Walker', 'Thomas Ziegler', 'Charles Wood', 'Robert Hill', 'David Clark', 'George Nelson', 'Walter Krüger', 'David Harris', 'Heinrich Meibom', 'James Vance', 'Alex Jordan', 'Gnaeus Cornelius Dolabella', 'Ludwig Müller', 'Humphrey Marshall', 'Thomas Cochrane', 'John Ashley', 'Matthew Perry', 'Walter Schmidt', 'Henry Porter', 'Frans Pourbus', 'Hannibal Sehested', 'Cornelius Gurlitt', 'Richard Thomas', 'John Bailey', 'William Hunt', 'Isabelle of Orléans', 'Walter Adams', 'Phil Taylor', 'Bob Lutz', 'Franz Keller', 'William Dickson', 'Andronikos II', 'Hermann Vogel', 'Hugh Thompson', 'Brian Adams', 'Kelly Jones', 'Karel Komzák', 'Franz Wohlfahrt', 'Rudolf Fischer', \"John O'Brien\", 'Thomas Anderson', 'John Fitch', 'John Morton', 'David Cox', 'Dirk Müller', 'James Moore', 'Erskine Childers', 'Gavriil Popov', 'Michelle Williams', 'John Smith', 'Charles Wyndham', 'George Wyndham', 'John Phillips', 'Michael Brown', 'Richard Wright', 'Mary Tudor', 'James Morgan', 'Georg Winter', 'Henry VI', 'Marcus Aemilius Lepidus', 'Lucius Valerius Flaccus', 'Nicolas Lopez', 'Půta of Častolovice', 'Vladimír Weiss', 'William I', 'Mary I', 'Hans Holbein', 'Anna of Austria', 'Charles VII', 'John IV', 'Leo IV', 'John Watson', 'Graham Greene', 'James Stirling', 'Alexandra Feodorovna', 'Alexander Müller', 'Aleksandr Antonov', 'Tom Jones', 'Louis Renault', 'Theo van Gogh', 'John VI', 'Zoran Živković', 'Sancho I', 'Richard III', 'William Smith', 'Nicholas I', 'John Nash', 'Hilarius', 'Maximilian II', 'Charles IX', 'Leopold III', 'Chris Brown', 'Margaret of Austria', 'Don Carlos', 'Victor Emmanuel', 'Thomas Müller', 'Helmuth von Moltke', 'Constantine I', 'Jonathan Edwards', 'William IV', 'Michael Johnson', 'Yevgeny Petrov', 'John VIII', 'Luis García', 'Callimachus (disambiguation)', 'Zuzana Moravčíková', 'Roberto Carlos', 'Marco Polo', 'Tony Martin', 'Roger Taylor', 'David Brown', 'Robert Wilson', 'Jack Johnson', 'Charles VIII', 'Paul I', 'Nicholas II', 'Samuel Butler', 'Aka / AKA / a.k.a.', 'William Thomson', 'Leo I', 'John IX', 'Bernd Schneider', 'Maria Christina', 'George Wood', 'Eduard Müller', 'Leo VI', 'John XII', 'John XIII', 'Richard I', 'Leo III', 'John Hicks', 'Wang Hao', 'Archie Goodwin', 'Edward Wilson', 'Thomas Wentworth', 'Charles Russell', 'John the Good', 'Ernst Albrecht', 'Glenn Davis', 'Anthony Ulrich', 'Leo Smit', 'Alexander Smith', 'Peter Petersen', 'John X', 'Thomas Hardy', 'Appius Claudius', 'Louis of Anjou', 'Martin Wagner', 'Karl Müller', 'Augustus I', 'Frederick VIII', 'Ludwig II', 'John Walker', 'James Morrison', 'Maurice Greene', 'Viktor Tikhonov', 'David Jones', 'Dmitry Medvedev', 'John Gray', 'Zé Roberto', 'Archduchess Maria Anna of Austria', 'John Collins', 'Paul Lange', 'Olga Orlova', 'Heinrich Müller', 'David Thompson', 'William Gill', 'Alexander Volkov', 'Jim Clancy', 'John Clancy', 'Álvaro Gómez', 'Alceo', 'George Smith', 'Kevin Anderson', 'Álvaro de Luna', 'John VII', 'Ian Stewart', 'Thomas FitzAlan', 'Robert Brooke', 'Alfonso I', 'James Hepburn', 'Peter Wells', 'Michael Smith', 'Henry Kendall', 'William Miller', 'Hendrik VIII', 'Sergei Zhukov', 'William Atkinson', 'John Madden', 'Francis Harrison', 'Robert Hunter', 'James Stewart', 'Robert Cecil', 'Milan Jovanović', 'William Dean', 'Thomas Dekker', 'John Anderson', 'Kálmán Kovács', 'John Brooks', 'Alexander Mackenzie', 'Stephen III', 'Alexander Ivanov', 'Marcus Porcius Cato', 'Javier Suárez', 'Pieter Brueghel', 'Carlos Garcia', 'Catherine of Habsburg', 'Manius Acilius Glabrio', 'William III', 'Elisabeth of Austria', 'Mark Williams', 'William of Orange', 'Jürgen Schröder', 'Richard Vaughan', 'Jack Riley', 'Theodore Lyman', 'David Anderson', 'Richard Bacon', 'John Baron', 'Larry Johnson', 'Neil Adams', 'Mário Silva', 'Zheng Ji', 'William Chambers', 'San Diego', 'Yevgeny Alekseyev', 'Andreas Schmidt', 'Li Xiaopeng', 'William Caldwell', 'Ferenc Nádasdy', 'Jim Miller', 'Michael Andrews', 'George Gray', 'Samuel Colt', 'Ludwig Wolff', 'Wilhelmine of Prussia', 'Robert Davis', 'Ali Aliyev', 'Arthur Paget', 'Margaret Lee', 'Sergei Tarassow', 'John Owen', 'Vélez de Guevara', 'Friedrich Hoffmann', 'Frank Nelson', 'Henry Brandon', 'Brian Jones', 'Joseph Walsh', 'Dmitri Alekseyev', 'Stephen Nash', 'Johnny Moore', 'Paul Martin', 'David Schneider', 'Alfred Edwards', 'Tim Armstrong', 'Tom Morris', 'August von Finck', 'George Woods', 'Ivan Ilić', 'Jörg Müller', 'Margaret of France', 'James Harvey', 'Åke Andersson', 'Édouard Michelin', 'Émile Bernard', 'Elizabeth Anderson', 'Jitender Kumar', 'Ivan Ivanov', 'David Lowe', 'John Burnet', 'Charles Delporte', 'Michael I', 'Ali Khan', 'Edward Baker', 'Thomas Fletcher', 'Daniel Stern', 'Robert Bell', 'Liu Yun', 'Yang Hao', 'David Stone', 'Ferdinand II', 'Rafael Martinez', 'Michael Friedman', 'Anders Jacobsen', 'Edward Cooper', 'John Fuller', 'John Coates', 'Charles Barton', 'Alfred Baum', 'Paul Anderson', 'Friedrich Adler', 'Chen Hong', 'Edward Epstein', 'Joanna Cole', 'Billy Murray', 'Edward Mitchell', 'Jean Bart', 'Yu Hua', 'Martin Stone', 'Ernst Weber', 'Frederick Hall', 'John Rodgers', 'Charles of Lorraine', 'Tom Marshall', 'Joe Coleman', 'John Myers', 'János Kemény', 'John Berry', 'Benjamin Moore', 'William Shockley', 'Florentius', 'Barbu Știrbei', 'David Kelly', 'George Kennan', 'Joan the Lame', 'Agnes of France', 'Tuman bay', 'Imre Csáky', 'Émile Masson', 'Li Yang', 'Carl Thompson', 'John Bankhead', 'Daniel Gomez', 'Chris Burke', 'Jan Marek', 'John Thompson', 'Jørgen Sonne', 'Frank Mancuso', 'Andrew Jackson', 'Étienne Poncher', 'James Baldwin', 'Amaury Duval', 'Alan Ford', 'Brian Cox', 'Ólafur Jóhannesson', 'Sadi Carnot', 'Sancho II', 'John Davis', 'John Spencer', 'James Wilson', 'George Clinton', 'Eric Johnson', 'Scott Walker', 'Grand Duchess Maria Pavlovna of Russia', 'Robert Smith', 'Vladimir Gusev', 'Eleanor of Castile', 'Hans Krebs', 'John Marshall', 'Scott Brown', 'Elisabeth of Bavaria', 'Thomas Linley', 'Leslie Howard', 'Jonas Lie', 'Hans Hansen', 'Peter Rasmussen', 'Kim Christensen', 'Ferdinand of Austria', 'Gunnar Berg', 'Edvard Bull', 'Peter Madsen', 'John Hansen', 'Carl Joachim Hambro', 'Louis IV', 'Ludwig Lange', 'Wollert Konow', 'Robert I', 'John Hall', 'Henry Salt', 'Johannes Friedrich', 'Niels Hansen', 'Morten Nielsen', 'Titus Flavius Vespasianus', 'Bent Christensen', 'Richard Gordon', 'John Marston', 'Francis Bacon', 'Louis III', 'Louis I', 'Tom Kristensen', 'Benedict Arnold', 'Robert Duncan', 'Vladimír Dlouhý', 'Michael Madsen', 'Anders Nielsen', 'George II', 'Poul Jensen', 'Peter Abrahams', 'Franz Kugler', 'Princess Anne of Denmark', 'Ernst Meyer', 'Diego Velázquez', 'Mungo Park', 'Daniel Cooper', 'David Martin', 'Mads Christensen', 'Peter Hansen', 'Lau Lauritzen', 'Morten Rasmussen', 'Alan Taylor', 'Andrew Johnson', 'Nicholas Garay', 'Birger Magnusson', 'John Barry', 'Anna Jagiellon', 'Csaba Horváth', 'Howard Jones', 'Jakob Nielsen', 'Peter II', 'Michael Lewis', 'Max Adler', 'Reginald II', 'Francis II', 'Otto Müller', 'Karl Friedrich', 'Magnus Svensson', 'Sten Sture', 'Vladimir Solovyov', 'Hans Müller', 'Gregory III', 'Publius Septimius Geta', 'Hans Andersen 2eso A', 'Brian Wilson', 'James Blake', 'Hans Schmidt', 'Maximilian of Austria', 'Heinrich Hoffmann', 'Danny Williams', 'Josef Augusta', 'Filippo Strozzi', 'Salman Khan', \"Alfonso d'Este\", 'Louis VI', 'George I', 'Iamblichus', 'Ján Kozák', 'John Hawkins', 'John Snow', 'John Terry', 'John Ross', 'Joseph Kennedy', 'Alan Smith', 'Ole Olsen', 'Tom Hooper', 'Michael Powell', 'Martin Luther', 'Steve Perry', 'Radomír Šimůnek', 'Rudolf Lehmann', 'Richard Yates', 'Bob Ross', 'Christian Wolff', 'Margaret of Denmark', 'Hank Williams', 'Richard Davies', 'Carl Andersen', 'Leopold V', 'Caspar Bartholin', 'Jane Seymour', 'Martin I', 'Gustav Jäger', 'Engelbert Humperdinck', 'Jim Hall', 'Holger Nielsen', 'Marcus Wallenberg', 'Nils Vogt', 'Robert Devereux', 'Maria Feodorovna', 'Álvaro Mejía', 'Liu Xuan', 'Mark Murphy', 'Lonnie Smith', 'Georg Haas', 'Jørgen Jensen', 'Johann Friedrich', 'John Cook', 'Michael Schneider', 'Carl Petersen', 'Frederik av Danmark', 'Erik Hansen', 'Winston Smith', 'James Patterson', 'Stephen I', 'Benjamin Butler', 'Jørgen Brahe', 'Julius Friedländer', 'Carl Lange', 'David Healy', 'Johann Georg Gmelin', 'James Dickson', 'Dagmar of Denmark', 'David Cross', 'Liu Yong', 'Alexander Vencel', 'David King', 'Alexander Alexandrov', 'George MacDonald', 'Keith Scott', 'John Frandsen', 'Leopold IV', 'Niels Petersen', 'Georgia Brown', 'Peter Christensen', 'Jens Jensen', 'George Owen', 'Peter Nielsen', 'Carl Koch', 'Karl Larsen', 'Harry Armstrong', 'Hans Nielsen', 'Brian Nielsen', 'David Payne', 'Viggo Jensen', 'Poul Hansen', 'Bent Sørensen', 'Søren Frederiksen', 'Carl Jensen', 'Peter Jensen', 'Kim Andersen', 'John Olsen', 'William Bennett', 'Johannes Andersen', 'Manfred von Richthofen', 'John Caird', 'Francis Godolphin', 'Johannes Jensen', 'George V', 'Ivan the Terrible', 'Christian of Denmark', 'Sergey Volkov', 'Robert Jackson', 'Nicholas IV', 'Harry Potter', 'Łukasz Opaliński', 'Magnus Brahe', 'Ludvig Daae', 'Mariano Martínez', 'Peter Griffin', 'Anders Petersen', 'James Bond', 'Søren Larsen', 'Hans Beck', 'Alfred Schmidt', 'Ben Williams', 'Heinrich Weber', 'Dmitri Nabokov', 'Albert Wolff', 'Chris White', 'Kjell Johansson', 'Louise of Prussia', 'Isabella of France', 'Juan Fernández', 'Joan I', 'John Campbell', 'Maximinus', 'Titus Manlius Torquatus', 'John Bull', 'Yang Yang', 'Mohammed Ali', 'Andy Bell', 'Alexander of Serbia', 'John Howard', 'Simon de Montfort', 'Frank Marshall', 'Sergey Ivanov', 'Joe Perry', 'David Gray', 'Mary Stuart', 'Wilhelm of Prussia', 'Richard Taylor', 'Frederick V', 'Alexei Tolstoy', 'Stephen II', 'John Flanagan', 'Alexander IV', 'Walter Davis', 'John Carter', 'Charles Wilson', 'Vasily Smirnov', 'Roy Disney', 'Johann Christoph Bach', 'Thomas Watson', 'Joan of England', 'Maria of Portugal', 'Gaston of Foix', 'Charles of Austria', 'Hermann Muller', 'Louis Dumont', 'George Marshall', 'John Griffin', 'José Álvarez', 'Hidetoshi Nishijima', 'Aaron Brooks', 'Aaron Cook', 'Li Fei', 'Aaron Johnson', 'William Houston', 'Billy the Kid', 'Aaron Scott', 'Max Lorenz', 'Aarón Padilla', 'Paul Esterházy', 'Charles Wright', 'Ab DeMarco', 'Torsten Andersson', 'Liu Cong', 'John Harrison', 'Adolf Meyer', 'Olga Nazarova', 'Abdou Traoré', 'Abdoulaye Traoré', 'Alan White', 'Owen Jones', 'Dan Miller', 'Jonathan Ward', 'Abraham Darby', 'Abraham Klein', 'Abraham Robarts', 'Lucius Cary', 'Henry Cary', 'Alexius I', 'Abu Ibrahim', 'Markus Münch', \"Abu Sa'id\", 'Raúl González', 'James Fisk', 'Jason Donald', 'Henry Carey', 'Robert Martin', 'Mike Marshall', 'Anita Garibaldi', 'Peter Lehmann', 'William Taylor', 'Liu Xia', 'Patrick Alexander', 'John Fletcher', 'Per Brahe', 'Carlos Zárate', 'Hans Georg Jacob Stang', 'Thomas Hancock', 'Jens Juel', 'Jesper Jensen', 'Nicodemus Tessin', 'Christian Hansen', 'Michael Jones', 'John Winter', 'Max Friedländer', 'Martín García', 'John Ireland', 'Louis Dupré', \"Henri d'Orléans\", 'Marcus Herennius', 'Michael Gray', 'Max Weber', 'John Murray', 'Alexander Bell', 'Richard II', 'Philip VI', 'René Auberjonois', 'Maria Anna of Bavaria', 'Alfonso VI', 'Olga Romanova', 'George Adams', 'Pope Benedict', 'Gnaeus Octavius', 'Stephen V', 'Valentin Ivanov', 'Martina Müller', 'Paul Cohen', 'Paul Johnson', 'Louis VIII', 'Josef Suk', 'Julio Cesar', 'George Villiers', 'Albert III', 'Adalbert of Bavaria', 'James I', 'Michael McDonald', 'Ferdinand III', 'Robert Fischer', 'Maria Schneider', 'Giovanni Visconti', 'William Fox', 'William V', 'Wang Meng', 'Robert Morris', 'Adam Brown', 'Alexander Vinogradov', 'John Stewart', 'Vanessa Williams', 'Mariano Fortuny', 'Adam Davies', 'Jan Brueghel', 'Adam Holzman', 'Adam Hughes', 'John Fox', 'Roland Fischnaller', 'Richard Dana', 'Robert Kane', 'John Allen', 'Carlo Rossi', 'Robert Kaplan', 'Matthew Stewart', 'William Parker', 'Christopher Jones', 'Frederick VII', 'Henry of Prussia', 'Maria Anna of Saxony', 'Adam Moltke', 'Adam Mueller', 'John Paul Jones', 'Adam Perry', 'Aulus Cornelius Cossus', 'Eduardo Frei', 'Edward Smith', 'Dmitry Maksutov', 'Adam Scott', 'Billy Martin', 'Adam Smith', 'James Gibson', 'Adam Walker', 'Thomas Wilson', 'Marcus Minucius Rufus', 'Antonio Pinto', 'Felice Casorati', 'László Kovács', 'Joan Harrison', 'Vasili Kuznetsov', 'Thomas Arnold', 'John Clayton', 'Jean Petit', 'William Robinson', 'Jan Olsson', 'Arthur Wellesley', 'Otto Magnus von Stackelberg', 'Arthur Schlesinger', 'Kirk Jones', 'Richard Egan', 'Lennart Larsson', 'Jan Karlsson', 'Friedrich Weber', 'Lucius Aemilius Paullus', 'John Gregory', 'Roy Brown', 'Peter Martyr']\n",
      "['The Little Prince', 'Lehrbuch der Topologie', 'The Trial', \"Libro d'Oro\", 'Opticks, or a Treatise of the Reflections, Refractions, Inflections and Colours of Light', 'Combat Fleets of the World', 'Comentarios Reales de los Incas', 'Regular Polytopes', 'Augsburg Confession', 'Eclipse', 'Valaquenta', 'Never Cry Wolf', 'The Shack', 'Danube-bridges from the Black Forest to the Black Sea', 'The Cathedral and the Bazaar', \"Lions' Commentary on UNIX 6th Edition, with Source Code\", 'Homage to Catalonia', 'Animal Liberation', 'Baa, Baa, Black Sheep', 'The Book of Illusions', 'Steve Jobs', 'Industrial Culture Handbook', \"Everything's Eventual\", \"Dictionnaire d'histoire et de géographie ecclésiastiques\", 'The Foundations of Arithmetic', 'casebook', 'Arrowsmith', 'Book of Shadows', 'Highway Capacity Manual', 'Renri Hishō', 'Clarissa', 'Hahota', \"Bergey's Manual of Systematic Bacteriology\", 'Tafsir Ibn Kathir', 'Llibre del Repartiment (Majorca)', \"King Solomon's Mines\", 'Introduction to Algorithms', 'Jesus of Nazareth', 'Delta of Venus', 'The Man in the Brown Suit', 'History of Northern Dynasties', 'Der Hüttenmeister von Dornitz', 'The SS state: The system of German concentration camps', 'Great picture world history', 'interleaved copy', 'person-centered therapy', 'Encyclopedia of Mathematics', 'Reise in das innere Nord-America in den Jahren 1832 bis 1834', \"The Magicians' Guild\", 'Hear That Lonesome Whistle Blow', 'script', 'Little Flowers of St. Francis', 'Tabula Imperii Byzantini', 'Orientalism', 'Harenberg Verlag', 'Lebor na gCeart', 'The Man Who Counted', 'Legitimation durch Verfahren', 'Linguisten-Handbuch', 'Systema Mycologicum', 'The Dialectics of Myth', 'book of intentions', 'Time of Contempt', 'An Experiment with Time', 'Argonauts of the Western Pacific', \"The Skeptic's Dictionary\", 'Esio Trot', 'Scripture', 'The Last Wish', 'Women in Love', \"The Age of Empathy: Nature's Lessons for a Kinder Society\", 'Blood of Elves', 'The Sword of Destiny', 'The Amazing Adventures of Kavalier & Clay', \"Daddy's Roommate\", 'Vidal Mayor', 'Diccionario de términos médicos', 'Birds of South Asia. The Ripley Guide', 'Zhengdian', 'Brassens, le regard de « Gibraltar »', 'Brassens : Le libertaire de la chanson', 'De pictura', \"Heimans, Heinsius en Thijsse's geïllustreerde flora van Nederland\", 'My Autobiography', 'François Mitterrand, un dessein, un destin', 'Harmful to Minors', 'Diary of the trip made to the South Sea, with the freebooters of America in 1684 and following years', 'Kitab al-Kharaj', 'The North American Indian', \"The Way of the World (L'Usage du monde)\", 'Dark Night of the Soul', 'La reprise', 'The life of Toistoi', 'The Truth About the Harry Quebert Affair', 'The Myth of the Eternal Return', 'The Necrophiliac', 'The downfall of the Netherlands', 'book of the forty-eight positions', 'The Rainbow', 'AP Stylebook', 'A Guide to the Business Analysis Body of Knowledge', 'Physiology of taste', 'Tenggelamnya Kapal van der Wijck', 'Surnaturel', 'Tableau politique de la France de l’Ouest sous la Troisième République', 'Periya Puranam', 'Sex in Human Loving', 'The Yellow Claw', 'Jigsaw', 'Vortaro de Esperanto', \"Mus'haf\", 'This Is Water', 'Ragazza Emancipata', 'Observationes mycologicae', 'Synopsis methodica fungorum', 'The Tower of the Swallow', 'Baptism of Fire', 'Christus Victor', 'Tuhfat al-Nafis', 'Bucharest Bible', 'Octoechos', 'The Basics of Socio-Psychological Theory', 'The Cursed and Killed', 'Rauðskinna', 'Tawarikh-i Guzideye Nusrat Nameh', 'The Economics of Welfare', 'A Christmas Garland', 'A New Concordance of the Bible', 'Abundance: The Future Is Better Than You Think', 'Actual Air', 'Adab al-Tabib', 'Agricultural Involution', 'Amadas', 'Antiquarian science books', 'Arabic-English Lexicon', 'Arthur Koestler', 'Aspergirls', 'Audition', \"Ba'er Hetev\", 'Babiniotis dictionary', \"Babylon's Ark\", 'Balderdash and Piffle', 'Daomu Biji', 'Beyond a Boundary', 'Book: A Novel', 'Calculus on Manifolds', 'Colorblind', 'Crisis of Conscience', 'Croyland Chronicle', 'Cyberia', 'A General Abridgment of the Common Law, alphabetically digested under proper titles', 'Dead and Gone', 'Digging to America', 'Dogs: Their Fossil Relatives and Evolutionary History', 'Drums and Shadows', 'El Carnero', 'English Hexapla', \"Eoin Colfer's Legend of Spud Murphy\", 'Etiology, Concept and Prophylaxis of Childbed Fever', 'Facts and Arguments for Darwin', 'Family Catastrophe', \"Father Goose's Year Book\", 'Fourth Reich of the Rich', 'La revolución imposible', 'From Darwin to Hitler', 'Gifts Differing: Understanding Personality Type', 'Raveleijn', 'Handbook of the Birds of India and Pakistan', 'Al-Amali', 'Konuz al-Hikmah', 'Miftah al-Najat', 'Rahat al-sudur', \"The Calculators' Key to Arithmetic\", 'Safina al-Bihar', \"AL-Lahw wa'l-malahi\", 'Here', 'Tarikh-i guzida', 'Segundo tomo del ingenioso hidalgo don Quixote de La Mancha', 'In the Dark Places of Wisdom', 'Ancient Philosophy, Mystery and Magic. Empedocles and Pythagorean Tradition', 'Flora Carniolica, Editio Secunda', 'Kashf al-ghumma', 'The Course of Wisdom in Europe', \"Kitab 'uyun al-akhbar\", 'Libertad bajo palabra', 'I Never Told Anyone', 'Identical Strangers', 'The city of white musicians', 'Influence: Science and Practice', 'Aşk Yaşama Çok Uçuk', 'Can Kırıkları', 'The Science of Living', 'Calhoun Kardeşler', 'Schmetterlinge', 'Synopsis Generum Compositarum', 'Yo, Darwin', 'Journey to the Ants', 'Katherine Swynford: The Story of John of Gaunt and his Scandalous Duchess', 'Garshaspname', 'Kol HaTor', 'Li cinque libri della chitarra alla spagnola', 'Liberal Fascism', 'Life on the Screen', 'Leksikon Ofek le-sifrut yeladim', 'Aangan', 'Look Who It Is!', 'Xuanhe Fengshi Gaoli Tujing', 'Yadgar-e-Ghalib', 'Mind, Self and Society', 'Two Carriages and a Hot Air Balloon', 'My Self Scumbag', 'Mythologia Fennica', 'Halîn', 'New York', 'New York', 'Nomads of the Longbow', 'Official Handbook of Stations', 'On the Sizes and Distances', 'Paradigms of AI Programming', 'Picasso & Lump', 'Politics in Black and White', 'Practical Common Lisp', 'Zeng guang', 'Radio Navigational Aids', 'The Floating Island', 'Second Lives', 'Self-portrait in a Convex Mirror', 'Setsuyōshū', 'Seven Men', 'Shtick Shift', 'Socrates Cafe', 'Star Trek: Enterprise relaunch', 'Sun and Shadow', 'Tales of the Cochiti Indians', 'Telugu Cinema Charitra', 'The Archaeology of Death and Burial', 'The Atrocity Archives', 'The Beckham Experiment', 'The Black Jacobins', 'The Dictionary of Imaginary Places', 'The Fifty-Nine Icosahedra', 'The Happiness Hypothesis', 'The History of England', 'The Life and Times of Scrooge McDuck Companion', 'The Lion and the Jewel', 'The Mirror and the Light', 'The Oxford Companion to Wine', 'The Strange Case of Origami Yoda', 'The Violent Bear It Away', 'The Woman with the Whip', 'Times Guide to the House of Commons', 'Traces of Catastrophe', 'Models of Contextual Theology', 'Visitors from Oz', 'Waiting for Normal', 'Potable Water and Sanitation', 'Whispers: The Voices of Paranoia', \"WikiLeaks: Inside Julian Assange's War on Secrecy\", 'Womango', \"You Just Don't Understand\", 'Foucault', 'Enumeration des Bromeliacees Recoltees', 'Handbook of the Bromeliaceae', 'The Miracles of Our Lady', 'Synopsis plantarum succulentarum', 'The Prism and the Pendulum: The Ten Most Beautiful Experiments in Science', 'Une histoire du Paradis. Le Jardin des délices', 'Szachy od A do Z', 'Crime and Custom in Savage Society', 'Elucidário Madeirense', 'The Zurich Axioms', 'The Prester John of the India', 'Voyage Around My Room', 'Barnen ifrån Frostmofjället', 'The Boat', 'Det sovande folket', 'Framåt tillsammans', 'Heder och samvete', 'The Prison Diary of Ho Chi Minh', 'The Revolutionary Road', 'Chronicle of Samiilo Velychko', 'Slapping the Table in Amazement II', 'cultivation', 'A Complete Treatise on Agriculture', 'Evolution and Ethics', 'Accuracy of Death', 'The Nation-State and Violence', 'Lepsius-Projekt', 'Rani radovi', 'The Conduct War (1789-1961): A Study of the impact of the French, Industrial, and Russian Revolutions on War and its Conduct', 'Amoenitatum exoticarum', 'Famous Places in Sesshu province', 'Cityscape Aesthetics', 'Instructions for Large Unit Commanders', 'Bromba and others', 'English–Tagalog–Cebuano Translator', 'Letters to a German Princess', 'Visitors', 'Why Should I Cut Your Throat?', 'Why Would Anyone Believe in God?', 'Catalunya Visió', 'Draug (role-playing game)', 'Encyclopedia of Viticulture', 'al-Asmau wa-s-sifat', 'Al-Shawqiyt', \"Al-Mu'jam al-Awsat\", \"Al-Mu'jam as-Saghir\", 'The Unified Medical Dictionary', \"Al-Mu'jam al-Kabir\", 'Fadl al-kilab ʻala man labisa al-thiyab', 'Tabaqat Wad Dayf Allah', 'Al-manhal: Dictionary French - Arabic', 'Deun-ixendegi euzkotarra', 'Die Slaven in Griechenland', 'Bildotabuloj por la instruado de Esperanto', 'Wanradt-Koell Catechism', 'Encyclopedia of the Jewish story', 'Dolly city', 'Pratigya', 'Ensiklopedi Nasional Indonesia', 'Badai al-Waqai', \"Kitab al-A'laq al-Nafisah\", 'Psychiatry', 'Admonitions on Governing the People', 'The Faith of Millions', 'Katuri', 'Yojeol', 'Yuseo Pilji', 'Japgi Godam', 'Missal of Prince Novak', 'Zlatarevo zlato', 'lolipop', 'Nohan', 'Cavazza', 'History of the Hungarian Nation (Szilágyi)', 'On Right Pleasure and Good Health', 'Historia numorum', 'Contes de Gasconha', 'Purapporul Venbamaalai', 'Molla Ramayana', 'Swarnayuga Sangeeta Darsakulu', \"Newman's birds of southern Africa\", 'Sasol Birds of Southern Africa', 'Mountaineering adventure stories', 'Kurban', 'Habis Gelap Terbitlah Terang', 'favour', 'Kerala Sahitya Charithram', 'Falls Memories', 'The Life of Nephi, the Son of Lehi', 'Aagat', 'Biography and Contribution of Karmavir Mani Singh Gurung', 'Nepalko Balinali ra Tinko Digo Kheti', 'Pratyek Thau : Pratyek Manchhe', 'Bhimsen Ko Antya', 'Makaiko Kheti', 'Mohan Koiralaka Kavita', 'Yojana Gandha', 'Baikuntha Express', 'Bairagi Kailaka Kabitaharu', 'Catalogue of International Exhibition of Modern Art', '10,000 Dresses', 'Pravidlá slovenskej výslovnosti', 'Plantae rariores quas maximam partem', 'Clear dictionary Esperanto Arabic', \"You Can't Read this Book\", 'Roman Missal', 'US Marine Corps Pacific Theater of Operations 1941-43', 'Fleets of World War II', \"Jane's Fighting Aircraft of World War II\", 'Dictionary of Weapons & Military Terms', 'World Military Aviation', 'World War II Order of Battle', 'Sefer Hamadda, Mishneh Torah', 'Amerila sarconota', 'Frame Analysis', 'Minerals first discovered in Switzerland and minerals named after Swiss individuals', 'The Empire of the Steppes', 'Kitāb al-Muʻǧib fī talḫīṣ aḫbār al-Maġrib', 'Those Were the Days', 'Maimonides and the Book That Changed Judaism: Secrets of \"The Guide for the Perplexed\"', 'Chalomo Shel Hakuzari', 'Samkshepavedartham', 'English–Japanese dictionary', 'Gyeogam Yurok', 'Breach of Trust: How Americans Failed Their Soldiers and Their Country', 'Chain Saw Confidential', 'Tamilil Ariviyal Ithlgal', 'Vemana', 'Dansk Rockleksikon', 'Vrikshasastramu', 'Kryeministrat dhe ministrat e shtetit shqiptar në 100 vjet', 'Downsize This!', 'The Fire Next Time', 'Fornmanna sögur', 'A History of the Warfare of Science with Theology in Christendom', 'Three Chestnut Horses', 'Kleines Destillierbuch', 'Shahjahannama', 'Confessions of a Sociopath', 'Sirat Sayf ibn Dhi-Yazan', 'The English-Chinese dictionary (unabridged)', 'Aid on the Edge of Chaos', 'The Etymologicon', 'Oblivion', 'law book', \"Hoffman's Course of Legal Study\", 'Urania Propitia', 'Lady Jane Grey', 'Živalske podobe', 'Babanız Atatürk', 'Moi znajomi', 'Star Names: Their Lore and Meaning', 'La Xava', 'Victorian Age: Vampire', 'Chavs: The Demonization of the Working Class', 'The Complete Book of Wargames', 'The Orchid Album', 'Dialectical Logic', 'Bumi Manusia', 'Franz Kampers - Kaiser Friedrich II. Der Wegbereiter der Renaissance', 'Records of Kangxi Dynasty', \"Ghost in the Wires: My Adventures As the World's Most Wanted Hacker\", 'Face to Face with the Mexicans', 'Famous Speeches of the Chicago Anarchists', 'Fasti Hellenici', 'Sawdust and Spangles', 'Mars', \"AK-47 Operator's Manual\", \"Memoirs of Sir Isaac Newton's life\", 'Modern Rationalism', 'GNU Emacs Manual', 'Athletics and Manly Sport', 'War Damage in the Nanking area Dec. 1937 to Mar. 1938', 'Mystery Tales of Edgar Allan Poe', 'Narrative of a survey of the intertropical and western coasts of Australia', 'The Amazing Emperor Heliogabalus', 'The Apostle and the Wild Ducks', 'The Awful Tale of Maria Monk', \"The Black Man's Burden\", 'The City of the Saints', 'The Divine Institutes', 'The Grateful Dead; the history of a folk story', 'The Great Events by Famous Historians', 'The Homilies of the Anglo-Saxon Church']\n",
      "['athletics', 'chess', 'tennis', 'field hockey', 'volleyball', 'association football', 'table tennis', 'motorsport', 'baseball', 'basketball', 'cricket', 'golf', 'rugby', 'auto racing', 'badminton', 'water polo', 'ski jumping', 'diving', 'handball', 'rugby league', 'triathlon', 'martial arts', 'karate', 'judo', 'fencing', 'climbing', 'footvolley', 'orienteering', 'swimming', 'boxing', 'modern pentathlon', 'taekwondo', 'figure skating', 'sumo', 'Shōtōkan-ryū', 'American football', 'ice hockey', 'wrestling', 'roller derby', 'gymnastics', 'Australian rules football', 'water sport', 'wife carrying', 'weightlifting', 'tug of war', 'Sambo', 'archery', 'mixed martial arts', 'Muay Thai', 'bodybuilding', 'skiing', 'professional wrestling', 'squash', 'polo', 'curling', 'Cuju', 'kabaddi', 'rowing', 'capoeira', 'surfing', 'air hockey', 'biathlon', 'breakdance', 'Kendo', 'softball', 'futsal', 'ten-pin bowling', 'Ricochet', 'bobsleigh', 'snowboarding', 'paragliding', 'Novuss', 'kickboxing', 'cross-country skiing', 'synchronized swimming', 'archery biathlon', 'bandy', 'lacrosse', 'skeleton', 'alpine skiing', 'Mounted games', 'sepak takraw', 'petanque', 'freestyle skiing', 'windsurfing', 'speed skating', 'korfball', 'acrobatics', 'skydiving', 'croquet', 'bungee jumping', 'juggling', 'Jeu de mail', 'pankration', 'Nordic combined', 'Horseball', 'canyoning', 'floorball', 'shooting sport', 'rafting', 'rodeo', 'Olympic sport', 'Basque pelota', 'hurling', 'powerlifting', 'canoeing and kayaking', 'team sport', 'airsoft', 'kite surfing', 'League of Legends', 'netball', 'ultimate', 'Frontenis', 'savate', 'kyūdō', 'luge', 'oil wrestling', 'esports', 'motorcycle sport', 'Whitewater kayaking', 'wakeboarding', 'underwater rugby', 'Slamball', 'Akontion', 'duathlon', 'Cycle polo', 'AcroCap', 'biathle', 'water skiing', 'dodgeball', 'palla', 'parkour', 'Wheelchair DanceSport', 'Klootschieten', 'Aerial dance', 'underwater hockey', \"acrobatic rock'n'roll\", 'Silat', 'paralympic sports', 'camogie', 'Mesoamerican ballgame', 'international game', 'inline speed skating', 'gliding', 'Gōjū-ryū', 'Harri-jasotze', 'synchronized diving', 'swamp football', 'air sports', 'goalball', 'Cresta Run', 'glima', 'Schwingen', 'canoe polo', 'flag football', 'bull riding', 'Jianzi', 'camel racing', 'Taidō', 'dancesport', 'budō', 'racquetball', 'axe throwing', 'jeu de paume', 'baguazhang', 'hot air ballooning', 'ball throwing', 'BASE jumping', 'beachminton', 'beach basketball', 'amateur wrestling', 'skateboarding', 'football tennis', 'canne de combat', 'cycling biatholon', 'pickleball', 'disc golf', 'ball game', 'bowls', 'Water Jousting', 'equestrian sport', 'casting', 'Kurash', 'truck racing', 'para ice hockey', 'land sailing', 'International draughts', 'Kite buggy', 'Buschball', 'cat agility', 'fistball', 'pallone', 'nine-ball', 'ice stock sport', 'rounders', 'football codes', 'street football', 'speed-ball', 'Cricko', 'Wadō-ryū', 'roque', 'gateball', 'pentathlon', 'racketlon', 'Parasailing', 'Longue paume', 'skater hockey', 'Krolf', 'Japanese martial arts', 'pesäpallo', 'Egg-and-spoon race', 'individual pursuit', 'single-handed sailing', 'ice sailing', 'Western riding', 'English billiards', 'greyhound racing', 'Haidong Gumdo', 'arena football', 'speed skiing', 'Marathon mountain bike races', 'Jugger', 'jeu provençal', 'Mallakhamb', 'boule lyonnaise', 'fire-fighting sport', 'competitive dance', 'Chilean rodeo', 'fives', 'indoor cycling', 'bare-knuckle boxing', 'River surfing', 'artistic roller skating', 'water basketball', 'military pentathlon', 'Schleuderballwurf', 'memory sport', 'Skijoring', 'Moraingy', 'soft tennis', 'trail orienteering', 'summer skiing area', 'sport climbing', 'powerboating', 'aquathlon', 'hockey', 'Riverboarding', 'Gaelic handball', 'Table shuffleboard', 'modern jazz dance', 'biribol', 'Kiiking', 'Kin-Ball', 'Classical dressage', 'roller hockey (quad)', 'puroresu', 'mountain bike trials', 'Touch (sport)', 'monté racing', 'team chess', 'wildwater canoeing', 'Frisian handball', 'Isshin-ryū', 'Calcio Fiorentino', 'radiosport', 'sled dog racing', 'ringette', 'farmersgolf', 'Nordic Blading', 'pencak silat', 'eight-ball', 'Paralympic Judo', 'belt wrestling', 'Footgolf', 'Tae Bo', 'mountain running', 'cycle sport', 'five-a-side football', 'Tescao', 'Njinga', 'real tennis', 'surf ski', 'What? Where? When?', 'Roliball', 'Tankendō', 'military patrol', 'racket sport', 'gaelic games', 'aizkolaritza', 'barrel racing', 'surf lifesaving', 'Partie Bonnard', 'Piguaquan', 'Waffenlauf', 'Chuiwan', 'Chuck Norris System', 'IJscolf', 'muggle quidditch', 'Kissaki-kai', 'Yoseikan Budo', 'summer biathlon', 'alindesis', 'Crosskart', 'Ballon au poing', 'dragon boat sport', 'iron arm', 'woodchopping', 'Hikuta', 'bowling', 'Joutes languedociennes', 'Kipura', 'KoKowa', 'boccia', 'metallic silhouette shooting', 'winter pentathlon', 'British baseball', 'wushu', 'Sport Chanbara', 'Town ball', 'freestyle scootering', 'Wu Dao', 'paletta', 'palla elastica', 'pallina', 'pallone col bracciale', 'artistic skating', 'aeronautical pentathlon', 'naval pentathlon', 'pallapugno', 'skyrunning', 'spaola', 'Kazakh wrestling', 'Kaisa', 'Accuracy landing', 'Kok-borou', 'freestyle', 'deaf basketball', 'sport crossbow shooting', 'blind soccer', 'Ampe', 'Asian Games sports', 'balkline and straight rail', 'Banger rally', 'Bar billiards', 'candlepin bowling', 'Carpet Bowls', 'Chinese eight-ball', 'cliff jumping', 'Commonwealth Games sports', 'competitive karuta', 'equitation', 'Kholi', 'Linao', 'Indian rodeo', 'inline skating', 'Inuoumono', 'hand-pelota', 'Kitō-ryū', 'vitilla', 'National Hunt racing', 'Pickup truck racing', 'Production car racing', 'Rapid ball', 'Han Moo Do', 'Rossall hockey', 'Sepak raga', 'Southeast Asian Games sports', 'Turbo Tennis', 'Universiade sports', 'vert skateboarding', 'winter duathlon', 'World Games sports', 'yacht racing', 'deaf floorball', 'Laser-Run', 'wing surfing', 'Rakuminton', '5 pin billiards', 'Teqvoly', 'snow tubing', 'Silat perisai', 'Yongmudo', 'urban sport', 'high diving', 'individual gundersen', 'aquatic hiking', 'Template:Netball', 'shuttlecock', 'gymnastics', 'snowmobile racing', 'ice polo', 'LudoSport', 'sawanobori', 'erremonte', 'Dodder', 'Escrima', 'indoor athletics', 'Fiddy', 'Forza', 'Hugg', 'Istrav', 'Japanese-style baseball', 'Self Caught Flight', 'Tiohuggarrodd', 'Unicurl', 'whippet racing', 'X-kan', 'Ryukyuan horse racing', 'precision flying', 'low kick', 'raffa', 'handball sports', 'Sega-joko', 'Kirib', 'Snadi', 'Badmini', 'pacu jawi', 'ancient pentathlon', 'international fronton', 'street workout', 'sailing', 'skating', 'Taistelupetankki', 'pallapugno leggera', 'pallonetto ligure', 'pantalera', 'skiing', 'snow volleyball', 'Speed-Badminton', 'Seven-a-side football', 'Aquabike', 'Peteca', '9-man', 'motorcycle racing', 'Padbol', 'Nouka Baich', 'Walking football', 'swimrun', 'mushing', 'parabadminton', 'kuningaspallo', 'balle pelote', 'Teqball', 'Er Enish', 'uphill time trial', 'medium mountain stage', 'Aki Kiti', 'canoeing', \"women's surfing\", \"women's triathlon\", 'traditional rowing in Provence', 'Pigeon-shooting', 'running disciplines of track and field', 'drone racing', 'Korbball', 'league', 'flying disc sports', 'Welsh handball', 'rinkball', 'Frisian-rules draughts', 'fell running', 'Gigathlon', 'Pole sports', 'kick scooter racing', 'indoor rowing', 'joko garbi', 'helicopter sport', 'dog racing', 'Fencing Santamaria', 'Aquaplaning sport', 'Wheelball', 'eight-a-side football', 'trainera rowing', 'tonsimin ball']\n",
      "['opera', 'musical', 'punk rock', 'music of Israel', 'conjunto', 'rap', 'rock and roll', 'jazz', 'Baroque music', 'classical music', 'symphony', 'concerto', 'blues', 'flamenco', 'electronic music', 'reggae', 'hardcore punk', 'emo', 'screamo', 'grunge', 'alternative rock', 'rock music', 'hip hop music', 'samba', 'bagad', 'Classical period', 'ancient music', 'batucada', 'alternative metal', 'dubstep', 'house music', 'brostep', 'moombahton', 'Huju', 'music of Uruguay', 'German rock', 'Argentine tango', 'Gregorian chant', 'protopunk', 'Taiwanese opera', 'pop music', 'jazz-funk', 'heavy metal', 'bachata', 'Cavatina', 'post-metal', 'yodeling', 'independent music', 'folk music', 'rhythm and blues', 'baroque pop', 'jump-up', 'Albanian iso-polyphony', 'mashup', 'progressive rock', 'ska', 'digital hardcore', 'power metal', 'disco', 'dhrupad', 'Khyal', 'Christian punk', 'Thumri', 'Tappa', 'glam rock', 'ca trù', 'hard rock', 'acclamatio', 'country music', 'oratorio', 'bebop', 'jazz fusion', 'reel', 'Austrian hip hop', 'white voice', 'music of the Soviet Union', 'soul music', 'visual kei', 'J-pop', 'black metal', 'Tafelmusik', 'chiptune', 'French hip hop', 'conscious hip hop', 'Igbo music', 'Zamrock', 'zarzuela', 'mazurka', 'polka', 'Cuarteto', 'music of Ukraine', 'ars antiqua', 'medieval music', 'funk', 'Kansas City jazz', 'trance', 'techno', 'vocal house', 'West Coast blues', 'threnody', 'gothic metal', 'polyphony', 'gospel music', 'hard bop', 'noise rock', 'stride', 'minimal electro', 'ska jazz', 'indie rock', 'metalcore', 'Latin rock', 'a cappella', 'ragtime', 'fado', 'Contemporary vocal music', 'doom metal', 'folk rock', 'new wave', 'music of Cape Verde', 'electropop', 'grindcore', 'glam metal', 'drum and bass', 'Britpop', 'chamber music', 'ambient music', 'madrigal', 'blues rock', 'lullaby', 'nocturne', 'gamelan', 'Zeuhl', 'Ziglibithy', 'Renaissance music', 'overture', 'berceuse', 'tribal house', 'reggaeton', 'polonaise', 'rockabilly', 'swing music', 'Swedish hip hop', 'world music', 'trip hop', 'circus music', 'psychedelic rock', 'Romantic music', 'canzona', 'opera buffa', 'salsa', 'pasodoble', 'industrial metal', 'sarabande', 'post-rock', '2 tone', 'programme music', 'concerto grosso', 'opera seria', 'Ars nova', 'march', 'British Invasion', 'garage rock', 'speed metal', 'dance-pop', 'free jazz', 'spirituals', 'bel canto', 'dub music', 'klezmer', 'boogie-woogie', 'new age music', 'viking metal', 'Neue Deutsche Härte', 'beatboxing', 'K-pop', 'bluegrass music', 'serenade', 'Lied', 'raga', 'Eurodance', 'soft rock', 'art rock', 'electro', 'Rebetiko', 'surf music', 'rhumba', 'twelve-tone technique', 'acid jazz', 'narcocorrido', 'marinera', 'hardstyle', 'white power music', 'noh', 'zouglou', 'zouk', 'traditional folk music', 'space rock', 'acid rock', 'trip rock', 'groove metal', 'Zydeco', 'music of Cyprus', \"Ruba'i\", 'downtempo', 'jota', 'Viennese couplet', 'Alpine folk music', 'rock opera', 'melodic death metal', 'Schuhplattler', 'nova cançó', 'jazz rap', 'music of Japan', 'ultra', 'dithyramb', 'Tswana music', 'nu metal', 'sophisti-pop', 'jingle', 'Dunedin sound', 'neo soul', 'music of the United Kingdom', 'symphonic poem', 'shoegaze', 'Oi!', 'music of China', 'Oshare kei', 'Hokkien pop', 'German jazz', 'ghazal', 'merengue', 'punta', 'ethereal wave', 'acoustic music', 'galliard', 'Son montuno', 'punkabilly', 'schranz', 'lowercase', 'dance music', 'Abendmusik', 'Krautrock', 'tarantella', 'indietronica', 'electronic rock', 'cool jazz', 'GDR rock', 'schottische', 'Colindă', 'absolute music', 'Peking opera', 'cosmic disco', 'Accentus', 'happy hardcore', 'acid house', 'acid techno', 'acidcore', 'Chicago jazz', 'Argentinian folk music', 'strathspey', 'disco house', 'Wienerlied', 'electrotango', 'Pachanga', 'music of Africa', 'Cabaletta', 'new wave of British heavy metal', 'twee pop', 'timba', 'electronic body music', 'popular music', 'Logobi', 'music of the Netherlands', 'singspiel', 'post-hardcore', 'Russian pop', 'adult contemporary music', 'arena rock', 'Kulning', 'post-grunge', 'nortec', 'music of Afghanistan', 'afoxê', 'street punk', 'Arietta', 'psychedelic pop', 'African gospel', 'freestyle rap', 'villanelle', 'African hip hop', 'Twist', 'Afro-house', 'African-American music', 'Afrobeat', 'Cuban rumba', 'hardcore techno', 'Jeongak', 'Jumpstyle', 'saya', 'Intuitive music', 'air', 'Air de cour', 'LGBT hip hop', 'Acousmatic music', 'music of Puerto Rico', 'album-oriented rock', 'West Coast hip hop', 'Maxixe', 'tejano music', 'early music', 'alternative country', 'alternative hip hop', 'Old classical vocal polyphony', 'crab canon', 'neo-medieval music', 'Swing revival', 'Ensalada', 'German hip hop', 'samba reggae', 'neotraditional country', 'ska punk', 'music in advertising', 'Mariachi', 'extreme metal', 'American primitive guitar', 'British hip hop', 'Canadian hip hop', 'German opera', 'Italian hip hop', 'troubadoric poetry', 'music of Poland', 'dancehall', 'deathcore', 'slow jam', 'synth-punk', 'piphat', 'café-chantant', 'acid trance', 'Pansori', 'death metal', 'thrash metal', 'Anatolian rock', 'folk metal', 'progressive metal', 'pop rock', 'hymn', 'gothic rock', 'trot', 'bossa nova', 'anarcho-punk', 'symphonic metal', 'pop punk', 'industrial music', 'bolero', 'tusch', 'Buddhist music', 'Andean music', 'film score', 'trad jazz', \"children's song\", 'maloya', 'Pungmul', 'nueva trova', 'reggae en Español', 'Reggaecrunk', 'coco', 'morna', 'work song', 'xote', 'Madchester', 'Christmas carol', 'ciranda', 'crossover', 'jongo', 'serialism', 'chastushka', 'Memphis blues', 'music of ancient Egypt', 'coupé-décalé', 'Louisiana blues', 'New Orleans blues', 'Europop', 'Circuit bending', 'regional hymn', 'music of Asia', 'Detroit techno', 'bambuco', 'boom bap', 'Berlin School of electronic music', 'music of India', 'National Socialist black metal', 'lambada', 'swamp blues', 'Gaita zuliana', 'Tropipop', 'third stream', 'anthem', 'melodic hardcore', 'progressive death metal', 'filmi music', 'Miami bass', 'beat music', 'doo-wop', 'Latin pop', 'mbalax', 'Aria di sorbetto', 'music of Jamaica', 'minimalist music', 'rocksteady', 'anti-folk', 'lauda', 'P-Funk', 'descant', 'regueifa', 'antiphon', 'género chico', 'pornogrind', 'Khaliji', 'forró', 'bend-skin', 'jazz standard', 'free improvisation', 'dream pop', 'radif', 'music of Bhutan', 'New Romantic', 'chacarera', 'tech house', 'post-punk', 'grand opera', 'romance', 'organum', 'paean', 'hip house', 'Nazi punk', 'electro swing', 'comedy hip hop', 'Sichuanese opera', 'responsory', 'skiffle', 'Hi-NRG', 'music of Namibia', 'anisong', 'kaseko', 'contemporary classical music', 'country rock', 'expressionist music', 'neoclassical new-age music', 'Sonorism', 'Lhamo', 'Pirekua', 'mathcore', 'stoner rock', 'apala', 'Andean new age music', 'psychedelic trance', 'aleatoric music', 'arabesque', 'Arabesque', 'Andalusi classical music', 'Arabic music', 'Arabic pop music', 'Arabic hip hop', 'Industrial folk music', 'electro house', 'bongo flava', 'bertsolaritza', 'archaic jazz', 'Tiento', 'siciliana', 'fanfare', 'instrumental music', 'electric blues', 'Medieval folk rock', 'avant-garde metal', 'Tulsa sound', 'manele', 'music of Argentina', 'Argentine rock', 'trancestep', 'new wave music in Yugoslavia', 'Neue Deutsche Welle', 'divertimento', 'Detroit blues', 'progressive folk', 'country blues', 'drone', 'rapso', 'Latin freestyle', 'barcarolle', 'art punk', 'intelligent dance music', 'show tune', 'French opera', 'breakbeat', 'unyago', 'glee', 'luk thung', 'funk metal', 'rock and roll revival', 'Yass', 'music of France', 'pasticcio', 'Kunqu', 'sevdalinka', 'swamp rock', 'Riot grrrl', 'Sogak', 'vocal music', 'overtone singing', 'Komagaku', 'Austropop', 'Schrammelmusik', 'Nanguan', 'neo-psychedelia', 'Ars subtilior', 'Samul nori', 'Korean court music', 'Nakasi', 'aak', 'Sanjo', 'music of Korea', 'Changgeuk', 'Nanxi', 'gagaku', 'symphonic rock', 'sludge metal', 'Da capo aria', 'Hungarian folk music', 'cumbia', 'Ashiqs of Azerbaijan', 'music of Azerbaijan', 'chorale', 'early hardcore', 'neo-classical metal', 'Italian progressive rock', 'csárdás', 'noise music', 'ranchera', 'music of Latin America', 'Canterbury scene', 'balwo', 'hands up', 'Chinese opera', 'teen pop', 'ragga', 'melologue', 'modern creative', 'joik', 'Italo disco', 'Ricercar', 'heartland rock', 'psybient', 'minimal house', 'Musique mesurée', 'passacaglia', 'calypso music', 'Christian rock', 'gangsta rap', 'Atlanta blues', 'dark ambient', 'chill-out music', 'aubade', 'music of Laos', 'prehistoric music', 'cueca', 'Mestizo', 'sean-nós song', 'Norwegian hip hop', 'bitpop', 'cantu a tenore', 'neofolk', 'speed garage', 'piyyut', 'intermezzo', 'passion', 'college rock', 'Australian hip hop', 'nasheed', 'electro hop', 'opéra comique', 'Italian opera', 'turbo-folk', 'Guajira', 'autonomous music', 'Bagatelle', 'avant-garde jazz', 'Bakersfield sound', 'Baladi', 'Balkan brass', 'ballade', 'barbershop music', 'Baul', 'Bavarian polka', 'biguine', 'Belgian hip hop', 'electronica', 'Bergamask', 'gabber', \"miner's song\", 'cerdd dant', 'Christian metal', 'no wave', 'musique concrète', 'crust punk', 'Rock Against Communism', 'futurepop', 'skate punk', 'protest song', 'horror punk', 'Minnesang', 'smooth jazz', 'hard trance', 'music of Norway', 'Ganga', 'samba-rock', 'Goa trance', 'habanera', 'funk rock', 'crunk&B', 'fantasia', 'Latin jazz', 'power pop', 'Raï', 'new jack swing', 'Iranian hip hop', 'indie pop', 'Gypsy jazz', 'Ryūka', 'psychedelic music', 'Gagok', 'conductus', 'music of Sweden', 'crossover jazz', 'easy listening', 'speedcore', 'Eurobeat', 'contemporary R&B', 'electronic dance music', 'riddim', 'music of Romania', 'Southern rock', 'cantopop', 'Celtic music', 'Bhajan', 'Bhangra', 'Christian hymn', 'rap metal', 'big beat', 'bikutsi', 'electroclash', 'biomusic', 'bourrée', 'music of Thailand', 'old-school hip hop', 'corrido', 'Okinawan music', 'chalga', 'canzone', 'enka', 'deep house', 'East Coast hip hop', 'rap rock', 'traditional black gospel', 'Garba', 'blue-eyed soul', 'blue yodeling', 'skweee', 'deathgrind', 'punk metal', 'Eurotrance', 'boogaloo', 'Hamburger Schule', 'field holler', 'Wagnerian rock', 'rave music', 'neoclassical dark wave', 'music of Brazil', \"Min'yō\", 'breakcore', 'Detroit rock', 'Dixieland', 'Duranguense', 'tragédie en musique', 'music of Brittany', 'Furniture music', 'progressive house', 'chamber opera', 'exotica', 'Britcore', 'British blues', 'revue', 'Troparion', 'music of Greenland', 'music of Colombia', 'trancecore', 'French overture', 'garage house', 'Italo dance', 'Zaju', 'queercore', 'music of Hungary', 'crossover thrash', 'music of Qatar', 'liturgical music', 'music of Tunisia', 'crunk', 'post-industrial music', 'music hall', 'milonga', 'jazz rock', 'Frottola', 'Kirtan', 'funky house', 'tobas', 'Stile antico', 'kwaito', 'Carnatic music', 'music of Taiwan', 'saeta', 'schlager music', 'Liederspiel', 'chilena', 'highlife', 'vispop', 'outlaw country', 'music of Spain', 'underground hip hop', 'Znamenny chant', 'hardcore hip hop', 'Russendisko', 'neurofunk', 'music of Belize', 'Brukdown', 'industrial rock', 'political hip hop', 'unblack metal', 'old-time music', 'African popular music', 'mandopop', 'Tumba francesa', 'imayō', 'Giddha', 'sutartinė', 'empfindsamkeit', 'bubblegum music', 'music of Bulgaria', 'Burger-highlife', 'burlesque', 'bühnenmusik', 'caccia', 'Cajun music', 'cakewalk', 'vocal trance', 'candomblé music', 'candombe', 'cantiga de amigo', 'cantilena', 'canticle', 'hard dance', 'canzonetta', 'Cape jazz', 'carimbó', 'históriás ének', 'modern rock', 'G-funk', 'microtonal music', 'música popular brasileira', 'turntablism', 'new wave of American heavy metal', 'Dōjin music', 'Italian folk music', 'music of Scotland', 'humppa', 'soca music', 'neo-progressive rock', 'cayambe', 'Ceòl Beag', 'Japanese rock', 'chamamé', 'champeta', 'Changüí', 'chanson', 'chanson', 'video game music', 'Chinese rock', 'religious music', 'throat singing', 'Punk revival', 'music of Hawaii', 'Chicago blues', 'Chicago house', 'music of Turkey', 'chipmunk soul', 'jug band', 'music of Albania', 'technical death metal', 'choral music', 'Bilbainada', 'Dutch house', 'lamentation', 'villancico', 'retro-prog', 'epinikion', 'music of Croatia', 'doomcore', 'lento violento', 'quodlibet', 'spectral music', 'Singjay', 'Roma jazz', 'Montuno', 'Southern hip hop', 'Bećarac', 'lyric opera', 'dramma giocoso', 'tower music', 'drill and bass', 'mento', 'dub techno', 'terrorcore', 'Dumka', 'Romani music', 'Chicago soul', 'Danish hip hop', 'Texas blues', 'punk pathetique', 'Raggacore', 'early reggae', 'trivial music', 'cantilena', 'Protestant hymn', 'makam', 'music of Guatemala', 'synth-pop', 'roots reggae', 'Hokum', \"punk'n'roll\", 'classic female blues', 'sacred concerto', 'indie folk', 'versicle', 'Indian classical music', 'electro', 'electro funk', 'electro wave', 'electroacoustic music', 'fauxbourdon', 'Trallpunk', 'embolada', 'techstep', 'Kontakion', 'Swiss hip hop', '20th-century classical music', 'dream trance', 'contemporary worship music', 'Kagura', 'Seconda pratica', 'background music', 'Geisslerlieder', 'jōruri', 'Neue Deutsche Todeskunst', 'New Simplicity', 'Minnelied', 'Esperanto music', 'estampie', 'musical theater', 'humoresque', 'ethno jazz', 'underground music', 'Eurodisco', 'music of Ireland', 'contemporary Christian music', 'Japanese ska', 'comedy rock', 'Favola', 'Guggenmusik', 'Chicano rap', 'uplifting classical', 'electro-industrial', 'Ahellil', 'tropicália', 'sardana', 'filk', 'New York death metal', 'filter house', 'rondeau', 'music of Finland', 'kayōkyoku', 'partido alto', 'Northern band style', 'mapalé', 'Western music (country)', 'folk punk', 'flamenco jazz', 'Daina', 'Ambrosian chant', 'Klapa', 'choro', 'instrumental hip hop', 'sentimental ballad', 'martial industrial', 'jig', 'Latin alternative', 'chutney music', 'string orchestra', 'funktronica', 'aggrotech', 'music of Madagascar', 'Celtic fusion', 'post-bop', 'villotta', 'stornello', 'glitch', 'jungle', 'close harmony', 'clownstep', 'Țara Călatei folk music and dance', 'Piedmont blues', 'ragga hip hop', 'dub poetry', 'Tin Pan Alley', 'nursery rhyme', 'Concentus', 'glam punk', 'kávéházi cigányzene', 'Conga', 'congada', 'conscious reggae', 'modal jazz', 'Delta blues', 'literal music video', 'fandango', 'music of Kazakhstan', 'math rock', 'music of Botswana', 'traditional heavy metal', 'coronation anthem', 'wonky', 'torch song', 'nu jazz', 'uplifting trance', 'Sinfonia concertante', 'honors music', 'horrorcore', 'music of ancient Greece', 'wedding march', 'lounge music', 'Galante music', 'cumbia andina', 'cumbia romántica', 'digital cumbia', 'cumbia villera', 'goregrind', 'incidental music', 'nueva canción', 'D-beat', 'novelty music', 'carnavalito', 'Dabke', 'music of Vietnam', 'Dadra', 'dangdut', 'Hungarian folk song', 'Nóta', 'French pop music', 'death rock', 'Danzón', 'UK garage', 'dark cabaret', 'dark metal', 'dark rock', 'darkstep', 'grime', 'dastgah', \"death 'n' roll\", 'deep funk', 'disco polo', 'post-disco', 'jangle pop', 'opera semiseria', 'industrial hardcore', 'kuduro', 'depro-punk', 'C-pop', 'Yukar', 'theme music', 'Yue opera', 'sea shanty', 'canzone napoletana', 'traditional pop music', 'joropo', 'German volkslied', 'Deutschfolk', 'Shibuya-kei', 'Gebrauchsmusik', 'music of Indonesia', 'Die anderen Bands']\n",
      "['electrician', 'eunuch', 'yakuza', 'dictator', 'Burgmann', 'official receiver', 'Scientific management', 'Rebbe', 'cupping therapy', 'Lord Marshal', 'Amtsarzt', 'Av Beit Din', 'maintenance', 'digital journalism', 'day trading', 'honorary consul', 'Master chef', 'production management', 'sacred prostitution', 'Fliegel-Adjutant', 'party leader', 'apron supervision', 'museum education', 'location scouting', 'agronomist', 'delivery', 'Individual support', 'Gerichtsassessor', 'Monuments, Fine Arts, and Archives program', 'slam poet', 'Wheeltapper', 'Shabbos goy', 'yoga instructor', 'horse trader', 'Health at work in France', 'timpanist', 'employment counsellor', 'malting', 'backup dancer', 'European Authorized Representative', 'Intelligence Specialist', 'Call screener', 'Szadhen', 'drawing teacher', 'Councillor', 'Kara-e mekiki', 'sales position', 'employee of the Diet', 'kaseifu', 'tonoi', 'Nōgaku artist', 'stage dancer', \"funadon'ya\", 'baseball commentator', 'Prince', 'contractor', 'treasure hunter', 'bellfounding', 'stage management', 'internal auditor', 'Administration and Service Personnel', 'Court lady', 'eunuch official', 'priest of a city', 'government employees in the United States', 'supervising director', 'sequence director', 'afrofeminist', 'excavation director', 'Paestan vase-painter', 'cyberfeminist', 'Stationsleiter', 'factory employee', 'servant', 'Music recording supervisor', 'secularist', 'aquarist', 'sandwich man', 'type of high court barrister in France', 'body washer', 'aviation pioneer', 'directing', 'flower grower', 'slaughterer', 'course grader', 'research scientist', 'field technician', 'nihon-buyō dancer', 'pure finder', 'figure skating coaching', 'road roller operator', 'swimming instructor', 'synchronized skating coaching', 'Chief Teleprocessing Officer', 'trunk maker', 'digital journalist', 'toll collector', 'leather cutter', 'ragpicker', 'poultry seller', 'kindergarten teacher', 'exchanger', 'flax trader', 'Technical Services Coordinator', 'Technical Manager', 'Recapping', 'dream interpreter', 'Museum Technician', 'Associate Curator']\n",
      "['We Live in Public', 'A Gang Story', 'The Intouchables', 'Swept Away', 'Kick-Ass', '12 Angry Men', 'Gone with the Wind', 'The Man Between', 'Rough Night in Jericho', 'Alien Raiders', 'A Fantastic Fear of Everything', 'The Manchurian Candidate', 'Nalai Manithan', 'Adhisaya Manithan', 'Vaa Arugil Vaa', 'Cleopatra', 'Wanted', 'Delirious', 'Mirageman', 'Matchstick Men', 'Percy', 'Bloodbath at the House of Death', 'The Oranges', 'Das wandernde Bild', \"Percy's Progress\", 'Skyfall', 'Four Lions', 'V for Vendetta', \"Pirates II: Stagnetti's Revenge\", 'Gotcha!', 'Special Effects: Anything Can Happen', '¿¡Revolución!?', 'The Last Airbender', 'Eraserhead', 'E.T. the Extra-Terrestrial', 'Swing Vote', '8½', 'Hackers', 'The Day After Tomorrow', 'Oxygen', 'And Now for Something Completely Different', 'Bichhoo', 'The Sisterhood of the Traveling Pants 2', 'Thursday', 'Buried', 'Star Wars: Episode IV – A New Hope', 'Konungens af Siam landstigning vid Logårdstrappan', 'Docking the Boat', 'Variety Lights', 'The White Sheik', 'I Vitelloni', 'La Strada', 'Il bidone', 'Nights of Cabiria', 'La Dolce Vita', 'Juliet of the Spirits', 'Spirits of the Dead', 'Satyricon', \"Fellini: A Director's Notebook\", 'The Clowns', 'Roma', 'Amarcord', \"Fellini's Casanova\", 'Orchestra Rehearsal', 'City of Women', 'And the Ship Sails On', 'Ginger and Fred', 'Intervista', 'The Voice of the Moon', 'Lo vedi come sei... lo vedi come sei?', 'Birthday Girl', \"National Lampoon's Van Wilder\", 'The Magnificent Seven', 'GoldenEye', 'Paradise Alley', 'Tu mi turbi', 'Farewell to Enrico Berlinguer', 'Nothing Left to Do But Cry', 'The Little Devil', 'Johnny Stecchino', 'The Monster', 'Life is Beautiful', 'Pinocchio', 'The Tiger and the Snow', 'Whale Rider', 'The Ninth Gate', 'Dances with Wolves', 'Yojimbo', 'Signs', 'Do Bigha Zamin', 'Fear and Loathing in Las Vegas', 'El astronauta', 'The Brest Fortress', 'Africa Screams', 'Abbott and Costello in the Foreign Legion', 'Godzilla', 'Alligator II - The Mutation', \"Van Diemen's Land\", 'The Hidden Face', 'Visions of Light', 'Anna Karamazoff', 'Shaolin', 'July 14', 'Jaded', 'The Broken Coin', 'Citizen Kane', 'Aftermath', 'The Last Winter', 'The Haunted Castle', 'Monty Python’s Life of Brian', \"Monty Python's The Meaning of Life\", 'Rio Rita', 'Brazil', 'The Ogre', 'Pay or Die', 'American Beauty', 'Aliens vs Avatars', 'Inception', 'Black Box BRD', '36 Views from the Pic Saint-Loup', 'Invitation to a Gunfighter', 'Gang of Four', 'Escape from Zahrain', 'Bommalattam', 'Ammavin Kaipesi', 'Aarohanam', 'Le Pont du Nord', 'Flight from Ashiya', 'Love on the Ground', 'Noroît', 'Paris Belongs to Us', 'Charisma', 'Merry-Go-Round', 'Testament of Orpheus', 'Hurlevent', 'Unakkaga Ellam Unakkaga', 'Top Secret', 'Emil and the Detectives', 'The American Soldier', 'Up, Down, Fragile', 'Terminal Velocity', 'Cast a Giant Shadow', 'Kings of the Sun', 'Strike Commando 2', 'Bandits in Milan', 'Tokyo Story', 'Podaa Podi', 'Knight Moves', 'What Ever Happened to Baby Jane?', 'Prabhuvinte Makkal', 'Wildcats', 'Moon', 'The Men I Wanted', 'Joy Ride', 'Daredevil Jack', \"The Hawk's Trail\", 'King of the Circus', 'Hamlet', 'Live and Let Die', 'The People Under the Stairs', 'Warm Bodies', 'Scream', 'Jack the Giant Slayer', 'The Hills Have Eyes Part II', 'Gangster Squad', 'The New World', 'World War Z', 'Les Misérables', '51', 'Confession of Murder', 'The Master', 'Basic', 'Cloud Atlas', 'The Watch', 'The Tunnel', 'Mama', 'Aimée & Jaguar', 'Les Jolies Choses', 'To Rome with Love', 'The Broken Hearts Club', 'Apollo 18', 'Mother', 'Jour de Fête', 'Life or Something Like It', 'Die Another Day', 'The Double Man', 'Tell Me a Riddle', 'The Seventh Victim', 'Assassination Games', 'More Than a Miracle', 'The Company Men', 'The Children of Sanchez', 'Reap the Wild Wind', 'On the Town', 'Soldier Boyz', 'The Nutty Professor', 'Incident at Loch Ness', 'The Hunt', 'Legend of Crystania', 'Map of the Human Heart', 'Lincoln', \"That's My Boy\", 'Yor-yor', 'Cold Sweat', 'My Boss', '916', 'Red Sun', 'Domino', 'Be Like Others', 'Nothing like the Holidays', 'To Die like a Man', 'Dead like Me: Life After Death', 'Wolfhound', 'People Like Us', 'Deathdream', 'Rear Window', 'Stranger', 'Celluloide', 'The Trial', 'Frida', 'Grunts', 'Zemlya, do vostrebovaniya', 'Men of Israel', 'The Postman Always Rings Twice', 'The File of the Golden Goose', 'Basileus Quartet', 'The Girl from Nowhere', 'Back to Stay', 'The Long Duel', 'The Death and Life of Bobby Z', 'The Madwoman of Chaillot', 'The Day of the Owl', 'Rumpelstiltskin', 'The Pleasure Garden', 'The Green Archer', 'Our Very Own', 'My Forbidden Past', 'The Hidden Fortress', 'Iron Eagle', 'Iron Eagle II', 'Aces: Iron Eagle III', 'Buffy the Vampire Slayer', 'Dazed and Confused', 'Mallrats', '200 Cigarettes', 'School Ties', 'Harmony', 'Chasing Amy', 'The Sisterhood of the Traveling Pants', 'Forces of Nature', 'Dogma', 'Barbarella', 'Under the Tuscan Sun', 'The Good, the Bad and the Ugly', 'Between Love and Lies', 'Ghost Rider', 'Ghost Rider: Spirit of Vengeance', 'Goodfellas', 'Star Wars: Episode III – Revenge of the Sith', 'Heat', 'Goodbye, Mr. Chips', 'A Very Harold & Kumar Christmas', 'The Bartered Bride', 'Liebe, Tod und Teufel', 'Catlow', 'Chakra', 'Penny Gold', 'Steal', 'The Trapp Family', 'Private School', 'Jab Tak Hai Jaan', 'Moonwalker', \"Michael Jackson's This Is It\", 'Titanic', '42nd Street', 'City Hall', 'Achanurangatha Veedu', 'Race 2', 'Madigan', \"The Angels' Share\", 'Carrie', 'Invasion of the Body Snatchers', \"Coogan's Bluff\", 'The Cabin in the Woods', 'The Last Stand', 'The Indian Scarf', 'The Haunting in Connecticut', 'Attila flagello di Dio', 'Altered', 'Memoirs of a Geisha', 'Motherhood', 'Main Madhuri Dixit Banna Chahti Hoon', 'Pancho Villa', 'Labyrinth of Passion', 'Lettere di una novizia', \"L'imprevisto\", 'Don Giovanni in Sicilia', 'Favorites of the Moon', 'The Prestige', 'Sweet Delusions', 'Una spina nel cuore', 'Maximum Overdrive', 'Pirates of the Caribbean: The Curse of the Black Pearl', 'Plumíferos', 'Roadside Romeo', 'Scarface', 'Taxi Driver', 'Family Plot', 'Saturday Night Fever', 'The Godfather', 'Marmaduke', 'Wonderful Apples', 'Liar Liar', 'Married to the Mob', 'Ghost', 'Fly Away Home', 'Message in a Bottle', 'Lonely Are the Brave', 'The Black Windmill', 'A Nightingale Sang in Berkeley Square', 'Deep Impact', 'The Housemaid', 'All Good Things', 'Stagecoach', 'Live Free or Die Hard', 'Skřítek', 'It Came from Beneath the Sea', 'Vítejte v KLDR!', 'Eugene Onegin', 'Eugene Onegin', 'Onegin', 'The Midas Touch', 'Jeon Woo Chi', 'Men in Black', 'The Passion of the Christ', 'Love Is Not Blind', 'Duelist', 'Curse of the Golden Flower', 'The King and the Clown', 'Painted Skin', 'The Banquet', 'The Kick', 'The Patriots', 'Hopscotch', 'Made in Dagenham', 'Moscow Does Not Believe in Tears', 'Sátántangó', 'Pepi, Luci, Bom', 'Drop Dead Fred', 'Looper', 'Sexmission', 'Brunet wieczorową porą', 'What Will You Do When You Catch Me?', 'Czlowiek z M-3', 'Ewa chce spać', 'How I Unleashed World War II', 'Kiler', 'Kiler-ów 2-óch', 'Kingsajz', 'Małżeństwo z rozsądku', 'Teddy Bear', 'Mąż swojej żony', 'I Hate Mondays', 'Nic śmiesznego', 'A Jungle Book of Regulations', 'Pan Anatol szuka miliona', 'The Adventures of Anton', 'Controlled Conversations', \"Women's Republic\", 'Sami swoi', 'Skarb', 'In Heaven as It Is on Earth', 'Vabank', 'Point of No Return', 'Paweł i Gaweł', 'Miracle of Marcelino', 'Opera House', 'To Live and Die in Tsimshatsui', 'Drunken Master III', 'Vennila Kabadi Kuzhu', 'Samar', 'White Blood', 'Marcellino', 'Akele Hum Akele Tum', 'Masters of the Universe', 'Three Worlds', 'Places in the Heart', 'Mutiny on the Bounty', 'Two Weeks in Another Town', \"Hachi: A Dog's Tale\", 'Arsenic and Old Lace', 'Johnny Guitar', 'The Mortal Instruments: City of Bones', 'Barbara Frietchie', 'Endangered Species', 'Sex Is Comedy', 'Heading South', 'Three Seasons', 'Varudu', 'Stash House', 'The Escort', 'Small Cuts', 'Fat Girl', 'The Pleasure Is All Mine', 'Anatomy of Hell', 'Planet of the Apes', 'Son of the Bride', 'The Upside of Anger', 'Tell No One', 'In the Cut', 'Mr. Deeds', 'Seven Psychopaths', 'Elisa, vida mía', 'Not Here to Be Loved', 'Argo', 'Salsa', 'A Touch of Spice', 'Russian Ark', 'Secret Things', 'Luna Park', 'Garden State', 'Kiss the Girls', 'Cabaret Balkan', 'The Sound of Music', 'The Weather Man', 'The Puppet Masters', \"Let's Dance\", 'The Twilight Saga: Breaking Dawn – Part 2', 'The Twilight Saga: Breaking Dawn – Part 1', 'Wheels on Meals', 'Gorgeous', 'Paradesi', 'Midnight Cowboy', 'Indramalati', 'Jetuka Pator Dore', 'Adajya', 'Jatinga Ityadi', 'Konikar Ramdhenu', 'Xagoroloi Bohudoor', 'Mon Jaai', 'She Done Him Wrong', 'The Kautokeino Rebellion', 'The Sting', 'Das Boot', 'Soldier of Orange', 'Human Desire', 'The Prince of Tides', 'The English Patient', 'The Woman in the Fifth', 'Red Road', 'Mr. Fix It', 'The Three Stooges', 'Trouble Every Day', 'Silent Hill: Revelation', \"Sweet Rosie O'Grady\", 'Cruel Intentions 3', 'Cruel Intentions 2', 'The Third Part of the Night', 'Cruel Intentions', 'Find Me Guilty', 'The Wild Geese', 'Thoothukudi', 'District 13', 'Coronado', 'Never Say Never Mind: The Swedish Bikini Team', 'Hue and Cry', 'La Moustache', 'Save the Last Dance', 'Together', 'God Willing', 'Joyeux Noël', 'Clandestine Childhood', 'Deathstalker and the Warriors from Hell', 'Addiction', 'One Swallow Brought Spring', 'A Good Day to Die Hard', 'Merci pour le chocolat', 'A Short Film About Killing', 'The Color of Lies', 'Shall We Dance?', 'They Live', \"She's the Man\", 'Reservoir Dogs', 'Underclassman', 'Evil Dead', 'Kampfgeschwader Lützow', 'The Year 1914', 'Return from the River Kwai', 'Cirque du Soleil: Worlds Away', 'Double Jeopardy', 'Rust and Bone', 'The Friends', 'Two Tickets to Broadway', 'Ginger Snaps Back', 'The Maltese Falcon', 'Dark Tide', 'Phagun', 'Typhoon Club', 'Wait and See', 'Aftermath', 'Sadko', 'The Seventh Son', 'Whiteout', 'Killer Joe', 'Diary of a Wimpy Kid', 'Dhool Ka Phool', 'Blood Diamond', 'Lobos de Arga', 'Just like Heaven', 'A Lot Like Love', 'Oh! Sabella', \"Arturo's Island\", 'Monte Carlo Madness', 'A Fistful of Dollars', 'The Chess Players', 'Cat Ballou', 'Intimacy', 'Paparazzi', 'Night of the Creeps', 'Last Stop 174', 'Black City', 'Juno', 'Anna Karenina', 'Repentance', 'Tulips', 'One Night with the King', 'Ken Park', 'The Hobbit: An Unexpected Journey', 'Baran', 'The Game of Their Lives', 'The Love of Marja', \"Keep 'Em Flying\", 'My Wife Is a Gangster', 'Illustrious Corpses', 'The Color of Paradise', 'A Feast at Midnight', 'My Friends', 'A Short Film About Love', 'Elysium', 'Step Up 3D', 'Step Up Revolution', 'The Eagle', 'Inside Man', 'Step Up 2: The Streets', 'New Jersey Drive', 'The Bells of Nagasaki', 'Vallanzasca - Angels of Evil', 'A Time for Dying', 'Dillinger', 'Private Number', 'Walter Defends Sarajevo', 'Gangnam for Freedom', 'O-Bi, O-Ba: The End of Civilization', 'Be-Imaan', 'Moving', 'Radio', 'Dharmputra', 'Billy Two Hats', 'Foxes', 'Prohibition', 'The Landlord', 'Pokémon 4Ever', 'Thale', 'The Italian Brigands', 'Agent 077 From the Orient with Fury', 'Rocky V', 'Ultraman Mebius & Ultraman Brothers', 'Gates to Paradise', '2 Girls 1 Cup', 'The Matrix', 'Khosla Ka Ghosla', 'Resident Evil: Retribution', 'Sisters', 'The Skulls', 'Best Friends', 'My Life Without Me', 'Private Benjamin', 'Kinsey', 'He Loves Me... He Loves Me Not', 'December Boys', 'The Ladykillers', 'The Blue Lagoon', 'Calendar Girls', 'Saving Grace', 'Haray', 'Bossa Nova', 'Bread and Tulips', 'Anna Karenina', 'Johnny Got His Gun', 'Breathless', 'And When Did You Last See Your Father?', \"St Trinian's\", 'Muzhskaya intuitsiya', 'For Those We Love', 'Water Lilies', 'Mein Führer – Die wirklich wahrste Wahrheit über Adolf Hitler', 'Intimate Enemies', 'Two in One', '31 North 62 East', 'Ta Ra Rum Pum', 'Love, Wedding, Marriage', 'The Man from Earth', 'Notte prima degli esami – Oggi', 'La Maison jaune', 'Bad Girls', 'The Ferryman', 'End of the Spear', 'A Terminal Trust', 'Once Upon a Time in Mexico', 'Material Girls', 'The Condemned', 'The Twilight Samurai', 'The Miracle of P. Tinto', 'Broken Sky', 'Haven', 'The Butcher, the Chef and the Swordsman', 'Suite 16', 'My Girlfriend Is an Agent', 'Tear This Heart Out', 'Kiki', 'Canal', 'Hum Paanch', 'Angélique, Marquise des Anges', 'Harry Potter and the Goblet of Fire', 'Harry Potter and the Order of the Phoenix', 'Harry Potter and the Chamber of Secrets', \"Harry Potter and the Philosopher's Stone\", 'Dr. No', '2001: A Space Odyssey', 'Alien', 'Pulp Fiction', 'Unforgiven', 'Aliens', 'Home Alone', 'Independence Day', 'Die Hard', 'The Bourne Identity', 'Dr. Strangelove', 'Stargate', 'Die Hard 2', 'X-Men', 'Dead Poets Society', 'Apollo 13', 'Goldfinger', 'The Fifth Element', 'From Russia with Love', 'Veer-Zaara', 'Die Hard with a Vengeance', 'Sleepless in Seattle', 'The Bourne Ultimatum', 'Lost in Translation', 'Thunderball', 'You Only Live Twice', \"On Her Majesty's Secret Service\", 'Diamonds Are Forever', 'Star Trek: The Motion Picture', 'Speed', 'Spartacus', 'The Untouchables', 'Alien 3', 'The Proposal', 'A Few Good Men', 'Marked for Death', 'The Great Dictator', 'Trainspotting', 'Rope', 'The Blues Brothers', 'The Birds', 'Top Gun', 'Collateral', 'Dirty Harry', 'Vanilla Sky', 'The Great Escape', 'Dancer in the Dark', 'True Lies', '20,000 Leagues Under the Sea', 'Who Saw Her Die?', 'Vampire Circus', 'King Kong Appears in Edo', 'Aitbaar', 'Live Free or Die', 'Tokumei Sentai Go-Busters vs. Kaizoku Sentai Gokaiger: The Movie', 'Dolu', 'Wedding Day', 'The Charge of the Light Brigade', 'God Is My Colt .45', 'Le cousin', 'Words in Blue', 'Replay', 'Wonderland', \"God Is Great and I'm Not\", 'Trouble with the Curve', 'Colour Me Kubrick', 'Elizabethtown', 'Take This Waltz', 'Rollover', 'Long Live the Lady!', 'Infested', 'The Profession of Arms', 'Nuovomondo', \"A Knight's Tale\", \"Plato's Academy\", 'Henry V', \"Man's Castle\", 'A Night in the Life of Jimmy Reardon', 'Strange Lady in Town', 'Dune', 'Unterwegs zu Lenin', 'Innocents with Dirty Hands', 'Death Watch', 'The Lady Banker', 'Ichi', 'Il Divo', 'Dying Breed', 'Garde à Vue', 'The Spy in Black', \"I Know Where I'm Going!\", \"World's Greatest Dad\", 'Forbidden Fruit', 'Hello Stranger', 'Catwoman', 'The Mad', 'Summer Snow', 'A Werewolf Boy', 'Tomorrow, When the War Began', 'Last Days of Mussolini', 'Rock & Rule', 'Grbavica', 'Thieves and Robbers', 'The Beautiful City', 'No More Ladies', 'De Lift', 'Runaway', 'Talentime', 'Gendarme in New York', 'Silver Linings Playbook', 'Batman', \"Lemony Snicket's A Series of Unfortunate Events\", 'The Twilight Saga: New Moon', 'Der Herrscher', 'How I Won the War', 'The Piano', 'Stoic', 'Wilbur Wants to Kill Himself', 'Le Gendarme de Saint-Tropez', 'Remember the Titans', 'Beyond the Mat', 'The Tour', 'The Rest Is Silence', 'Bus Conductor', \"Lion's Den\", 'Fried Green Tomatoes', 'Passion Despair', 'Gay Sex in the 70s', 'The Cowboy and the Lady', 'Virus', 'Alexander Nevsky', 'The Bride', 'Dragonfly', 'In the House', 'Pedar', 'Aliens in the Attic', 'The Woodsman', 'Fair Game', 'Song of the Thin Man', 'Grown Ups', 'Super', 'Men of War', 'Krabat', 'Insidious', 'Maniac Cop 2', 'Gettysburg', \"Abraham's Valley\", 'The Flame of New Orleans', 'Cloverfield', 'The Immortal Heart', 'Put on Ice', 'Creature from the Black Lagoon', '1900', 'American Samurai', 'Henry: Portrait of a Serial Killer', 'Slumdog Millionaire', 'Red Trousers – The Life of the Hong Kong Stuntmen', 'Bread and Roses', 'Solaris', 'Solaris', 'Aspern', \"Lady Windermere's Fan\", 'Working Girl', '...som en tjuv om natten', 'I, Monster', 'The Treasure of San Teresa', 'Albino', 'See You in the Morning', 'Dark Places', 'Safari 3000', 'The Girl', 'Corridor of Mirrors', 'Funny Man', 'Jaguar Lives!', \"Malibu's Most Wanted\", 'Wedding Daze', 'Frantic', 'Transmorphers', 'Gran Torino', 'In the Valley of Elah', 'Tale of the Mummy', 'In Your Hands', 'M', 'The Last Supper', 'Kismat Konnection', 'Inu to Anata no Monogatari', 'Attenberg', 'The Lord of the Rings: The Fellowship of the Ring', 'The Strategy of the Snail', \"Henry's Crime\", 'King Kong Lives', 'Puppet Master II', 'King Kong Escapes', \"Puppet Master III: Toulon's Revenge\", 'A*P*E', 'Maurice Richard', 'Wasei Kingu Kongu', 'The Son of Kong', 'Flirting', 'He Said, She Said', 'Jersey Girl', 'Machete Kills', 'Tokyo Drifter', 'The Golden Stallion', 'Machete', \"It's All Gone Pete Tong\", 'Scent of a Woman', 'Gladiator', 'Extreme Ops', 'Mission to Mars', 'El bosque animado', '2 Days in Paris', 'In Prison Awaiting Trial', 'Thirteen Days', 'Furtivos', 'Two Women', 'Diary of King Yeonsan', 'Y tu mamá también', 'The Painted Veil', 'Chopper', \"The World's Fastest Indian\", 'Monsieur Ibrahim', 'Scarlet Street', 'Duplex', 'Pillar of Mist', 'Mother', 'The Last Frontier', 'Cyrano de Bergerac', 'The House of Mirth', 'Max, Mon Amour', 'Dishonored Lady', 'Lines of Wellington', 'The Fast and the Furious', 'Retro Puppet Master', 'Puppet Master 5: The Final Chapter', \"The Brain That Wouldn't Die\", 'Puppet Master: The Legacy', 'Puppet Master 4', 'The Lusty Men', 'Curse of the Puppet Master', \"'Tis Pity She's a Whore\", 'Batman: Year One (film)', 'Come Come Come Upward', 'Puppet Master', 'Junior', 'King Ralph', 'Renaissance Man', 'Tatarak', 'Ritratto di borghesia in nero', 'It Happened Here', 'The Feast of the Goat', 'An American Carol', 'Boystown', 'Gantz', 'Enduring Love', 'Torrente 4: Lethal Crisis', 'The Tenant', 'Wrong', 'Marnie', \"Beethoven's 3rd\", 'Il malato immaginario', 'Santo vs. Evil Brain', \"Miller's Crossing\", 'Putih Abu-Abu dan Sepatu Kets', 'Live and Become', \"L'avaro\", 'Metroland', 'Agi Murad, il diavolo bianco', 'Fighting with Buffalo Bill', 'San Francisco', 'The Magliari', 'Some Kind of Wonderful', 'Have Dreams, Will Travel', 'The Lord of the Rings: The Return of the King', '300', 'Pin', 'Eleni', 'The Legend of the 7 Golden Vampires', \"Dr. Seuss' How the Grinch Stole Christmas\", 'Flashpoint', 'Goal III: Taking on the World', 'Act of Valor', 'Fun with Dick and Jane', 'The Usual Suspects', 'Casablanca', 'A City of Sadness', 'The Moon and Other Lovers', 'A Canterbury Tale', 'Freeze Die Come to Life', 'The Silence of the Lambs', 'Mayak', 'Les Mystères de Paris', 'Forrest Gump', 'The Heat', 'Bullet to the Head', 'Kamen Rider × Kamen Rider Fourze & OOO: Movie War Mega Max', \"OOO, Den-O, All Riders: Let's Go Kamen Riders\", 'Kamen Rider × Kamen Rider OOO & W Featuring Skull: Movie War Core', 'A Shriek in the Night', 'Sex Madness', 'Puppet Master: Axis of Evil', 'The Sweet Hereafter', 'Bird on a Wire', 'Eva & Adam', 'Lady Frankenstein', 'Xingu', 'Puppet Master X: Axis Rising', 'Rashomon', 'The Las Vegas Story', 'The Invisible Man', 'Killing Them Softly', 'Man of a Thousand Faces', 'Z', 'Salon', 'The Gendarme and the Extra-Terrestrials', 'The Gendarme and the Gendarmettes', 'Grace of Monaco', 'Plunkett & Macleane', 'Da Thadiya', 'Pitch Perfect', 'Mumford', 'Surovyye kilometry', 'To Marry a Captain', 'Four Days in September', 'Once', 'The Yards', 'Vasiliy Buslaev', 'Rooster Cogburn', 'Goemon', 'Rampart', 'Ambush', 'The Millionairess', '13 Moons', 'Zabou', 'Zabriskie Point', 'Just the Ticket', 'La Bamba', 'The Lives of a Bengal Lancer', 'The Wrestler', 'Ghost World', 'The Man Who Loved Women', 'Tattoo', 'Blue Eyed', 'Zack and Miri Make a Porno', \"She's Out of My League\", \"Lorna's Silence\", 'Three Nuts for Cinderella', 'Le gendarme se marie', 'The gendarme to stroll', 'Yakshiyum Njanum', 'Tatort: Zahn um Zahn', 'Oliver!', 'Town & Country', 'Big Business', 'The Cousins', 'Traffic', 'Elite Squad: The Enemy Within', 'The Train', 'Romeo, Juliet and Darkness', 'Tooth Fairy', 'Abduction', 'Holy Smoke!', 'Flashback', 'The Headless Horseman', 'Zaina, Rider of the Atlas', 'Berserk!', 'The Last of the Mohicans', 'Titicut Follies', 'Car Wash', 'Let the Right One In', 'Adam']\n",
      "['Dreamblade', 'Zauberturm', 'strip poker', 'Sim', '1000 Blank White Cards', 'Russian roulette', 'Puzz-3D', 'skipping rope', 'Egg tapping', 'The Game', 'Halli Galli', 'Kings of War', 'Dreamspell', 'Call of Cthulhu: The Card Game', 'tag', 'Vs. System', 'Clix', 'Oshi', 'Square game', 'Battleship', 'footbag', 'beer distribution game', 'craps', 'Bouts-Rimés', 'Aeronautica Imperialis', 'buzzword bingo', 'shell game', 'Eden: the Deceit', 'Chouette', 'doughnut', 'Cricko', 'Lonpos', 'Stare-Out', 'Eve: The Second Genesis', 'Mornington Crescent', 'Entdecker', 'Ticayo', 'wire loop game', 'Sugaku', 'Nomic', 'Odds and evens', 'Pentelios', 'Hazard', 'Shagai', 'Mia', 'Juego del Palo', 'killer sudoku', 'Paper Chase', 'Strebkatzenziehen', 'beer relay race', 'Pelele', 'Looping Louie', 'paint by number', 'Marco Polo', 'Wink murder', 'goose hitting', 'Labyrinth', 'soggy biscuit', 'Nard', 'Ploy (board game)', 'PowerPoint Karaoke', 'Shut the Box', 'Warmachine', 'Warmaster', 'Nintendo tumbler puzzle', 'paddle ball', 'shooting paper darts', 'Pin the Tail on the Donkey', 'Dutch Blitz', 'World Tree', 'Tables', 'AT-43', 'Buck buck', 'CirKis', 'rock-paper-scissors-lizard-Spock', 'Diaballik', 'Dreadfleet', 'He loves me... he loves me not', 'Spot the difference', 'Illuminati: New World Order', 'Mighty Empires', 'The New York Times crossword puzzle', 'Scruples', 'Axis & Allies Miniatures', 'The Spoils', 'Pallanguzhi', 'The World of Synnibarr', 'Lambs and Tigers', 'Three player mahjong', 'Wordox', 'Advanced HeroQuest', 'Crystal ball', 'Toad in the hole', 'Mazzascudo', 'Zirè', 'Daldøs', 'Santorini', \"Tereshka's Wedding\", 'Android', 'Knife game', 'Chubby bunny', 'Sports table football', 'Rucheёk', 'Freestyle footbag', 'Tōsenkyō', '1935 Sugar Bowl', '1999 ASEAN University Games', '2006 ASEAN University Games', '2010 ASEAN University Games', '24 Game', '25 Words or Less', '7th Sea', 'Aeroplane Chess', 'Air Charter', 'Alak Dolak', 'Alfred Hitchcock Edition Clue', 'Ani-Mayhem', 'Armorica', 'Attack Vector: Tactical', 'Axis & Allies: Europe 1940', 'Axis & Allies: Pacific 1940', 'Basilinda', 'BattleCards', 'Battle of the Bulge', 'Battlefield Evolution', 'Beer die', 'Before I Kill You, Mr. Bond', 'Big Taboo', 'Blood Wars', 'Borella', 'Bridgette', 'BrikWars', 'Brushfire', 'Tâb', 'Bunco', 'Butts Up', 'Cakewalk', 'Caliban', 'Póker', 'Carnelli', 'Catch Phrase', 'Chaos Marauders', 'Charmed board games', 'Chess Attack', 'Choko', 'Classic BattleTech', 'Clue Suspects', 'Cluedo Card Game', 'Cluedo Mysteries', 'Cluedo SFX', 'Coan ki', 'Conflict of Heroes', 'Conflict of Heroes: Awakening the Bear!', 'Conquest of Pangea', 'Couch of Power', 'Cover the spot', 'Craits', 'Crosstrack', 'd20 Apocalypse', 'Dance Dance Revolution DVD Game', 'Danger Run', 'Darebase', 'Dark•Matter', 'Dartball', \"Dead Man's Dice\", 'Death Heart', 'Double Cross', 'Dragon Ball Collectible Card Game', 'Draim arena', 'Dungeon Command', 'Dungeons & Dragons Computer Labyrinth Game', 'Dystopian Wars', 'Egg hunt', 'Egg tossing', 'fantasy baseball', 'Payana', 'Express Monopoly', 'Fairy Tale', 'Family Business', 'Fantasy Interactive Scenarios by Telephone', 'Fantasy Warlord', 'Fascination', 'Filthy Rich', 'Fingers', 'Finnish skittles', 'Fish out of Water', 'Flip-O-Potamus', 'FloodSim', 'Fruit Basket Turnover', 'GL Golf', 'Galactic Empires', 'Gear Antique', 'German Solo', 'Get Out', 'Giog', 'Glasnost The Game', 'Gnip Gnop', 'Goofspiel', 'The Great Train Robbery', 'Gridiron Fantasy Football', 'HDL System', 'Hack Slap', 'handball', 'Havic: The Bothering', 'High score Scrabble', 'Humankind', 'Hotshot', 'How to Host a Murder', 'Hybrid', 'Icehouse pieces', 'Ilinx', 'In a Pickle', 'Bengi', 'Tamburlaine the Great', 'Inou Tsukai', 'Jack Change It', 'Follow the leader', 'Shadow Hunters', 'Jesus Dress Up', 'Jutland', 'Kelly pool', 'Khufu the Mummy', 'Kings Cribbage', 'lawn darts', 'Leela', 'Loaded Questions', 'Shengguan Tu', 'Lucky Seven', 'Lycèe Trading Card Game', 'Magi-Nation Duel', 'Malarkey', 'Malarky', 'Marvel Superstars', \"Miwin's dice\", 'Mojo', 'Monopoly: The Card Game', 'Monopoly: The Mega Edition', 'Monopoly City', 'Monster Hunter Hunting Card', 'Mortal Kombat Kard Game', 'Mozaic', 'Musical statues', 'Heftok', 'Hilûr', 'Narro', 'Mok', 'Pîpê', 'Nightmare', 'Nontransitive game', 'Nubian Jak', 'Nuclear Renaissance', 'Omlevex', 'On the Edge', 'Ophidian 2350', \"Optimal solutions for Rubik's Cube\", 'Outpost', 'OverPower', 'Pack & Stack', 'Palago', 'Paper Soccer', 'Patterns II', 'Pecking Order', 'Perquackey', 'Petits-Chevaux', 'Pez Card Game', 'Picture consequences', 'Pie', 'Pinners', 'Play On Words', 'Pokémon Trading Figure Game', 'Poleconomy', 'Ponytail Canasta', 'Power Rangers Collectible Card Game', 'Power Yahtzee', 'Power hour', 'Princess and the Pea', 'Pub Golf', 'Pyramid Power', 'quiz bowl', 'Rack-O', 'Raw Deal', 'ReCharge Collectible Card Game', 'Rejection Therapy', 'Rhumb Line', 'Ring toss', 'Ringo', 'Risk: Star Wars Original Trilogy Edition', 'Risk: The Lord of the Rings Trilogy Edition', 'Rook', \"Rubik's Brain Racker\", 'Rumis', 'Saganami Island Tactical Simulator', 'Sancakbey', 'Scrabble ME', 'Sector 41', 'Seven minutes in heaven', 'Sevens, Elevens, and Doubles', 'Ship, captain, and crew', 'Shout About Movies', 'Showdown', 'Showdown', 'Siege of Bodenburg', 'Skirmish Tactics Apocalypse', 'Sky Galleons of Mars', 'Snout!', 'Song of Blades and Heroes', 'Space Fleet', 'Spot the ball competition', 'Square Deal', 'StarPower', 'Star Legend', 'Star Riders', 'Star Wars Trading Card Game', 'Summit', 'Super Deck!', 'Sáhkku', 'TerraDrive', 'TerraDrive Live', 'The Citadel of Thunder', 'The Clinic', 'The Game of Life: Twists & Turns', 'The Gatekeeper', 'The Harbingers', 'The Howling Tower', 'The Perfect Present', 'The Sword and The Flame', 'Three Man', 'Tiers', 'Torpedo Run!', 'Tribbles', 'Trickster', 'Tsere tsere', 'U.S. Patent No. 1', 'Ultimate Werewolf', 'Duel Masters Trading Card Game', 'United States Othello Association', 'Universal Fighting System', 'Up Jenkins', 'Urban Arcana', 'Vineta', 'WARS Trading Card Game', 'Warhammer 40,000: Rogue Trader', 'Warhammer 40,000 Collectible Card Game', 'Warheads: Medieval Tales', 'Warlord', \"Washington's War\", \"What's the time, Mr Wolf?\", 'When Worlds Collide', \"Who's Missing\", 'WildStorms: The Expandable Super-Hero Card Game', 'Tapa', 'Witch Hunter: The Invisible World', 'Wizard Staff', 'Word chain', \"World's Largest Dungeon\", 'Would you rather', 'X-Men Trading Card Game', 'Xeko', 'Xiaolin Showdown Trading Card Game', 'Yu Yu Hakusho Trading Card Game', 'Zatch Bell! The Card Battle', 'Mooncake Festival Dice Game', 'Chiaroscuro: Game', 'Mr. Bucket', 'Seterra', 'Lexicon', 'Mutant', 'Catch', 'Tokyo NOVA', 'Goho', 'Choco', 'billiard-hockey', 'Barca', 'Logtes', 'Sokoj', 'Karapan sapi', 'Selambut', 'Diradoyma', 'pistol', 'Star Trek Customizable Card Game', 'Confrontation', 'Wordament', 'Mansions of Madness', 'Brigada Ligeira Estelar', 'GURPS In Nomine', 'Dark Parables', 'Hijara', 'Iron Grip: Lords of War', 'Khar-polis', 'nuntaa', 'The Lord of the Rings Dice Building Game', 'Mythos', 'Chana a morrillo', 'RisiKo!', 'Aksharit', 'Army of Zero', 'Fowling', 'Mascarade', 'Kyogami', 'Spank the monkey', 'Have You Herd?', 'Robotech Collectible Card Game', 'Pirate King', 'Dark Ages: Fae', 'Hi Ho! Cherry-O', 'London', 'Dappa Kali', 'GURPS Autoduel', 'Midway', 'Friday Night at the ER', 'Savage Coast', 'Ecolibrium', 'CSR Classics', 'Ex illis', 'Picture Gallery', 'Orcslayer', 'Whack & Slaughter', 'Kokkuri', 'Gyan chauper', 'Simple System Table-Top RPG', 'Kismet', 'Trains and Stations', 'Tephra: The Steampunk RPG', 'Enchanted Palace', 'Tank Battle', 'History of Chaotic Trading Card Game', 'Shadowfist', 'Touring', 'Makoto', \"Steve Jackson's Man to Man\", 'trust fall', 'Seven Up', 'Pirateer', 'live-action game', 'table ice hockey games', 'Red Book', 'bambu gila', 'Dark Ages: Inquisitor', 'Dark Ages: Mage', 'Darklings', 'Girls Like Robots', 'Horus Heresy', 'Dark Ages: Werewolf', 'GURPS Monsters', 'Survivalcraft', 'Exploding Kittens', 'GURPS Alpha Centauri', 'GURPS Bili the Axe – Up Harzburk!', 'GURPS Lite', 'GURPS Martial Arts', 'GURPS Mixed Doubles', 'GURPS Ultra-Tech', 'Bungees', 'krupuk eating competition', 'Jaipur', 'Freespace Fest', 'Charlie Charlie Challenge', 'Swing Dodgeball', 'Masters of the Elements', 'patacó', 'The Contender: The Game of Political Debate', 'boule bernerienne', \"boule bretonne des Côtes-d'Armor\", 'Warhammer: Age of Sigmar', 'Dabble', 'Knock Down Barns', 'Puzzlage', 'The Revenge of Kang', 'Take The Test board game', 'WordSpot', 'Deadzone', 'Game Of Dice', 'Deluxe City Campaign Set', 'Avengers Coast-to-Coast', 'The Ultimate Powers Book', 'The Fantastic Four Compendium', 'Cosmos Cubed', 'The Left Hand of Eternity', 'The Breeder Bombs', 'Murderworld!', 'Gates of What If?', \"Judge's Screen\", 'Avengers Assembled!', 'Adventure Fold-Up Figures', 'Pit of the Viper', 'Realms of Magic', 'Mutating Mutants', 'The Weird, Weird West', 'Nightmares of Futures Past', 'The X-Potential', 'Flames of Doom', 'Krosmaster', 'Korps Commander', 'Twin Tin Bots', 'Hooop!', 'Mutant Meeples', 'Children of the Atom', \"Cat's Paw\", 'The Last Resort', 'Fault Line', 'Project Wideawake', 'New York, New York', 'Concrete Jungle', 'Weapons Locker', 'Hyperborea', 'After Midnight', 'Night Moves', 'Reap the Whirlwind', 'Stalking the Night Fantastic', 'Classic Warfare', 'Be a Broadway Star', 'Cul-de-sac conquest', 'Secret Wars', 'Secret Wars II', 'Little Big Horn', 'Russian Railroads', 'yes, no, black, white', 'Päskksiõr', 'Rosan koodi', 'Crazy Clock Game', 'Trump: The Game', 'The Witcher Adventure Game', 'Pilolo', 'Kingdom Death: Monster', 'Sepak Tekong', 'The Oregon Trail', 'Planetarium', 'Tanzanian draughts', 'Notakto', 'Bears vs. Babies', 'Elevator game', 'Shout About Music', 'Shout About TV', 'Climball', 'Deus', 'Dragonriders of Pern', 'The Ninth Age: Fantasy Battles', 'Inside the Box Board Games', 'uchikake', 'Cooking Fever', 'FISTF', 'Wasteland Express Delivery Service', 'Legend of the Five Rings: The Card Game', 'rock-paper-scissors-well', 'rondo', 'Giganten (board game)', 'Kah', 'Starship & Empire', 'Final Fantasy Trading Card Game', 'Kult', 'Hyborian Gates', 'Tomb Raider Collectible Card Game', 'Fantasy Adventures', 'Firestorm Tactical Card Game', 'Killer Instinct', 'Star Trek: The Card Game', 'Tempest of the Gods', 'Flights of Fantasy', 'Star Quest', 'Banemaster: The Adventure', 'C-23', 'G.I. Joe Trading Card Game', \"The Dragon's Wrath\", 'Eagles', 'Echelons of Fire', 'Star Sisterz', 'Battle for Andromeda', 'Near and Far', 'Bloodtree Rebellion', 'Apple Lane', 'Evolution: Random Mutations', 'Myths and Legends', 'Potion-making: Practice', 'Civilization: A New Dawn', 'Dark Age', 'Diceball', 'Digi-Battle', 'Echelons of Fury', 'James Bond 007', 'Monster Magic', 'PowerCardz', 'Red Zone', 'RuinsWorld', 'The Terminator Collectible Card Game', 'Top of the Order', 'Evolution', 'matrix wargame', 'lyanga', 'Wings of War', 'Shatra', 'The Game About Wikipedia', 'Whamageddon', 'Kleilat', 'Werewords', 'Telestrations', 'Charterstone', 'Fastbreak', 'Deception', 'Rising Sun', 'Monty Python and the Holy Grail Collectible Card Game', 'Jogo de Cartas \"Conquista do Ar\"', 'Chaskele', 'dodecahedron-X-37086', 'Taudis Poly', 'Diketo', 'riquitillas', 'Jogo de Paciência \"A Caminho da Roça\"', 'Jogo de Cartas', 'Jogo de Montar', 'Jogo de Varetas', 'Jogo - Quebra-Cabeça', 'Jogo - Baby Engineer', 'Jogo - Roleta', 'Jogo de Cartas', 'Jogo de Cartas', 'Jogos (Caixa Contendo Originalmente 6 Jogos)', 'Jogo de Praia (Tamboretes)', 'Jogo \"Lojas e Armazens\"', 'Jogo de Palavras Cruzadas', 'Jogo Quebra-Cabeça', 'Jogo - Copo para Jogo de Dados', 'Jogo - Copo para Jogo de Dados', 'Jogo de Dominó', 'Jogo - Peça de Dominó', 'Jogo de Dardos', 'Jogo de Cartas', 'Jogo de Cartas', 'Jogo de Cartas', 'Jogo Demandes Réponses', 'Jogo de Loto', 'Jogo \"Bolsa de Immoveis\"', 'GURPS Casey and Andy', 'Chickapig', 'tonsimin ball', 'Wingspan', 'Skoeloeloe', 'Hamer spyker', 'mécanicartes', 'Ashes to Ashes', 'In the Shadows', 'Lost Souls', 'The Golden Dawn', 'fox hunt', 'Morse-Electric', 'Green and Pleasant Land', 'Fizgames', 'RuneQuest Companion', 'Mozzarella Cheese Game', 'Game of dares', 'Traveller Alien Module 6: Solomani', 'Stitching', 'Monster Coliseum', 'Vikings', 'Catan Scenarios: Helpers of Catan', 'Pinko Pallino', 'Banana Boys', 'Calico', \"Tellstones: King's Gambit\", 'Kafer Dawn', 'Kafer Sourcebook', 'Kanawa Land Vehicles', 'King of Chicago', 'Killer Crosshairs', 'Tiro de barra', 'The Fungi from Yuggoth', 'Renegades', 'Cult of Ecstasy Tradition Book', 'A World of Darkness', 'The Shadow Court', 'Beyond the Barriers: The Book of Worlds', 'Charnel Houses of Europe: The Shoah', 'Megoak-goakan', 'Under a Blood Red Moon', 'Middle-earth Role Playing Combat Screen', 'Get Me Out', 'Lordly Domains', 'The London Guidebook', 'Five Tribes', 'Rebellion Sourcebook', \"MegaTraveller Referee's Companion\", 'Snakepipe Hollow', 'Pet-en-gueule', 'Strike Force: Shantipole', 'Evolution', 'Jeu de la guerre', 'Blacks & Whites', 'Mage Knight Board Game', 'Battle Plan', 'Galac-tac', 'Flesh & Blood', 'Gauchali game', 'Irish', 'Invisible Sun', 'Pax Pamir', 'Ludus Anglicorum', 'Doublets']\n",
      "['rendang', 'griessnockerl', 'Skolebrød', 'Heumilch', 'lontong', 'Lemang', 'kabsa', 'kaşar', 'Soused herring', 'Romaine lettuce', 'cioccolato di Modica', 'pissaladière', 'Khubz', 'Nasi krawu', 'Jin deui', 'Sauce ravigote', 'Racuchy', 'tofu skin', 'Liege waffle', 'Lacquemant waffles', 'Fusarium venenatum', 'Fasole cu cârnaţi', 'lemper', 'sate kambing', 'çiğ köfte', 'Idiyappam', 'frog cake', 'qatayef', 'yufka bread', 'tandoor bread', 'flat peach', 'tumpeng', 'rolled dough', 'condensed milk', 'salted duck egg', 'fried green tomatoes', 'tklapi', 'rice and beans', 'falooda', 'Calentica', 'blackcurrant', 'Rissole', 'picada', 'stuffed food', 'grelos', 'Piquillo pepper', 'thyme', 'otak-otak', 'Christmas ham', 'campagne bread', 'somun', 'Tangia', 'neera', 'Ternasco de Aragón', 'Sadya', 'peanut', 'kattama', 'kuymak', 'Twisties', 'Simomactra falcata', 'es doger', 'kidney', 'lumpia Semarang', 'mixed nuts', 'nagasari', 'Oncom', 'botok', 'mung bean soup', 'lawar', 'pempek', 'rawon', 'sega lengko', 'lupis', 'karedok', 'nasi kebuli', 'Saksang', 'bakwan', 'mie celor', 'katsu sandwich', 'kofte bozbash', 'geplak', 'Tongseng', 'Papeda', 'chicken tabaka', 'Akumaki', 'Amala(yam flour)', 'Tempoyak', 'L40029-S1', 'L40818-S1', 'Timbits', 'jam', 'potato', 'Glycine max', 'Allium sativum', 'Garden cress', 'common sole', 'chocolate cake', 'Curcuma longa', 'emping', 'Caridea', 'olive oil', 'tempeh', 'sausage', 'Chlorella', 'Capelin', 'fish and chips', 'herb', 'gado-gado', 'Kanafeh', 'dried fruit', 'Albacore', 'quark', 'Pandanus amaryllifolius', 'tarte flambée', 'imambayıldı', 'Hornazo', 'nachos', 'mochi', 'pepernoot', 'Vigna radiata', 'Charqui', 'hazelnut', 'Cumberland sausage', 'refried beans', 'Brem', 'manjū', 'rempeyek', 'Fischbrötchen', 'Kruidnoten', 'arroz con pollo', 'zongzi', 'Youtiao', 'bubble tea', 'anju', 'pork ball', 'rojak', 'BP-5 Compact Food', 'banana chip', 'berry fruit', 'chub mackerel', 'Jollof rice', 'beni shōga', 'meze', 'tzatziki', 'meju', 'Coto Makassar', 'Cendol', 'shahe fen', 'Bosnian pot', 'simit', 'dulce de leche', 'dosa', 'Soto ayam', 'Alfajor', 'muktuk', 'petit four', 'fufu', 'Manuka honey', 'beef bourguignon', 'Caldo galego', 'gözleme', 'Carnaroli', 'Furikake', 'kısır', 'instant noodle', 'Sōki', 'shabu-shabu', 'United States military chocolate', 'Fried Rice', 'tripe soup', 'corned beef', 'Black seabream', 'jajangmyeon', 'Cuajada', 'Gefilte fish', 'sofrito', 'profiterole', 'Sanuki udon', 'korokke', 'rolled oats', 'ampyang', 'kilishi', 'ghormeh sabzi', 'geophagy', 'fruit preparation', 'asam pedas', 'pide', 'şehriye', 'kumru', 'pepes', 'betutu', 'nasi ulam', 'red tortoise cake', 'Buntil', 'kelle', 'Chin chin', 'Chocolate Crunchies', 'Cicchetti', 'Cimpa', 'Coca flour', 'Serabi', 'corn fritter', 'Crispy Crunch', 'Elote en vaso', 'rengginang', 'kolak', 'Tapai', 'Pecel', 'klepon', 'Empal gentong', 'Food Biotechnology', 'fried eggplant', 'Gaplek', 'pantruca', 'alfajores', 'Castilian asado', 'Berza gaditana', 'Chacina', 'Chorizo cular', 'blueberry', 'Enfrijoladas', 'Humanitarian daily ration', 'Iced VoVo', 'Kayseri yağlaması', 'ıslama köfte', 'Imokilly Regato', 'Manisa kebap', 'büryan', 'Circassian chicken', 'kuzu fırın', 'Kandil simidi', 'Dilber dudağı', 'Peynir helva', 'pumpkin dessert', 'morcilla de Burgos', 'yuvalama', 'tahini roll', 'Gavurdağı salatası', 'Ankara tava', 'kuzu kapama', 'Tokat kebabı', 'testi kebabı', 'stuffed intestines', 'Patatas con costillas adobadas', 'İskilip dolması', 'hoşmerim', 'Karadeniz pidesi', 'Jolpan', 'Kemplang', 'Tabriz köfte', 'kerak telor', 'Ketoprak', 'keşkül', 'Konro', 'Kuli-kuli', 'hanımgöbeği', \"ka'ak al-Quds\", 'paçanga', 'Pitzuchim', 'Hedik', 'mackerel', 'Etli ekmek', 'Mezcal worm', 'Gullisuwa', 'Encûr', 'Nasi bakar', 'Nasi bogana', 'Nasi liwet', 'Soryaz', 'Pallubasa', 'Penne alla vodka', 'perdeli pilav', 'pig roast', 'piti', 'Pizza Rolls', 'cabbage', 'uih sepit', 'Roti buaya', 'kue leker', 'Nisan', 'rujak cingur', 'Sate padang', 'screwball', 'scrod', 'Soto Madura', 'Sega Jamblang', 'sowans', 'Swikee', 'tahinli pide', 'Tekwan', 'Ting Ting Jahe', 'Tinutuan', 'tipatipa', 'wingko', 'kalburabastı', 'stuffed zucchini flower', 'Frutas de Aragón', 'alphabet pasta', 'Tatranky', 'Ekuru', 'Knake', 'vanilla extract', 'Goheimochi', 'tofu sheet', 'Taiwan ramen', 'timphan', 'Pekasam', 'Sate Madura', 'seruit', 'arem-arem', 'cenil', 'cilok', 'cireng', 'navy curry', 'brown sugar', 'Soto mie', 'SOYJOY', 'Ankake spaghetti', 'Anmaki', 'kishimen', 'Hitsumabushi', 'Chinese thorowax root', 'Yokosuka navy burger', 'jambo mochi', 'Nanbangashi', 'Miso-katsu', 'Ogura toast', 'grilled fish', 'Boiled Bean', 'Fukuyamasu', 'Katsuo no tataki', 'Kurohampen', 'Persetorsk', 'Zviti', 'Chiroti', 'Celimpungan', 'colenak', 'Dawet Ice', 'Es bir', 'garang asem', 'Getuk Goreng', 'Itak Gurgur', 'Kapurung', 'Kelan Antep', 'krupuk kulit', 'pohulpohul', 'Ombusombus', 'Kuluban', 'Kupat tahu', 'Kuwah Pliëk U', 'Laksan', 'lontong kupang', 'Madumongso', 'mendol', 'Menjes', 'Model', 'Nasi gandul', 'nasi jagung', 'nasi tempong', 'nopia', 'rica-rica', 'Rujak Kuah Pindang', 'rujak soto', 'buah keluak', 'Soto Banjar', 'Soto Jepara', 'Soto Kediri', 'soto betawi', 'Soto Kudus', 'Soto Sokaraja', 'suwar-suwir', 'Kue talam', 'Teh poci', 'Mendoan', 'tengkleng', 'timlo', 'Nasi tutug oncom', 'yangko', 'Uja', 'tahu campur', 'Cicvara', 'stuffed artichoke', 'artichoke rechel', 'Badımcan çığırtması', 'Zerde', 'chigirtma', 'Urfa pepper', 'Blessed thistle with lamb', 'Jizza', 'Arzuman', 'Miki', 'Putok', 'Luk chup', 'Kodma', 'Cethil', 'Gablog', 'Geblek', 'lentho', 'molen banana', 'satay maranggi', 'Nasi Kapau', 'Paripuvada', 'dodol garut', 'Géco', 'lontong balap', 'strawberry', 'kadaif noodles', 'Ampo snack', 'Waakye', 'jenang kudus', 'lotek', 'İnegöl meatballs', 'smoked egg', 'cornetto', 'Pepeçura', 'Kakharu Fula Bhaja', 'oat bran', 'Moroccan Rziza', 'Shanxi knife-cut noodles', 'ayam pop', 'pappada vada', 'Bakpia', 'Prawn cracker', 'Gujia', 'Batasa', 'Sitabhog', 'Patatas revolconas', 'Mie ayam', 'Putri salju cake', 'Bubur ketan hitam', 'dürüm', 'bubur pedas', 'rice-stuffed artichoke', 'Bandros (food)', 'Frikkadel', 'kuru fasulye', 'es goyobod', 'es buah', 'Shizuoka oden', 'palm nut soup', 'clorot', 'empal gepuk', 'Sate Bandeng', 'Aguapanela', 'Haşhaşlı çörek', 'fırın sütlaç', 'balık-ekmek', 'boyoz', 'pandispanya', 'Welnaldi', 'gooseberry', 'Costrada de Alcalá', 'kue rangi', 'barongko pisang', 'Beberuk terong', 'Talkan', 'Ikadabae', 'tas kebab', 'kuzu paça', 'rowanberry jelly', 'Kaz tiridi', 'supangle', 'Sate Lilit', 'traditional food', 'fava', 'binte biluhuta', 'Bulung', 'dadar gulung', 'dawet ayu', 'getuk pisang', 'memek', 'Kagape kambing', 'keumamah', 'kue ape', 'Kumbu', 'Ongol-ongol', 'Sambal pepaya', 'Sambalingkung', 'Sate sapi', 'Mie gomak', 'Pindang', 'Javanese fried rice', 'roti gambang', 'Vakfıkebir ekmeği', 'sárgatúró', 'kabak kalye', 'açma', 'nasi tumpang', 'petis', 'Pukis', 'Hamsi tava', 'Allioli de codony', 'Kuzu haşlama', 'panadons', 'patlıcanlı köfte', 'Cennet çamuru', 'Hamsili pilav', 'Jalangkote', 'Sop saudara', 'Köftes in the Turkish cuisine', 'kuru köfte', 'Turkish soups', 'cream soup', 'Kpekpele', 'Puchero de hinojos', 'milk pilaf', 'máchica', 'pig skin', 'Kue gapit', 'Zaalouk', 'Lamb chops', 'uyutma', 'balık böreği', 'pirzola', 'cranberry', 'hooked surfclam, cooked', 'türlü', 'Ezme', 'fu', 'shimadōfu', 'Cuisine of Ceuta', 'breakfast burrito', 'Tuwo masara(corn meal)', 'Efo riro', 'Kue bugis', 'Kue satu', 'Nsala soup', 'Plecing kangkung', 'tarama', 'Alu Bhaja', 'Pancong', 'kunun Tsamiya', 'Ofada rice', 'Pecel pitik', 'Keema Matar', 'rolex', 'Kue precet', 'ayam goreng jepara', 'Laz böreği', 'kacimuih', 'Sate taichan', 'Tauto Pekalongan', 'Gupo Sandesh', 'anise seed', 'Fried Rice with Salted Fish and Chicken', 'cipera', 'Braised Chicken', 'Red peach cake', 'Rendang Itiak', 'salça', 'Pasta gratin', 'cacık', 'Bataw', 'sambal shrimp', 'Çökertme', 'Impossible burger', 'asinan Bogor', 'Bagiak', 'biapong', 'bipang rice', 'carang mas', 'Cilok Goreng', 'Cilung', 'es Goyang', 'Jaja Giling', 'jenang grendul', 'jenang krasikan']\n",
      "['Canada', 'Japan', 'Norway', 'Ireland', 'Hungary', 'Spain', 'United States of America', 'Belgium', 'Luxembourg', 'Finland', 'Sweden', 'Denmark', 'Poland', 'Lithuania', 'Italy', 'Switzerland', 'Austria', 'Greece', 'Turkey', 'Portugal', 'Uruguay', 'Egypt', 'Mexico', 'Kenya', 'Ethiopia', 'Ghana', 'France', 'United Kingdom', \"People's Republic of China\", 'Brazil', 'Russia', 'Germany', 'Belarus', 'Iceland', 'Estonia', 'Latvia', 'Ukraine', 'Czech Republic', 'Slovakia', 'Slovenia', 'Moldova', 'Romania', 'Bulgaria', 'North Macedonia', 'Albania', 'Croatia', 'Bosnia and Herzegovina', 'Azerbaijan', 'Andorra', 'Cyprus', 'Georgia', 'Kazakhstan', 'Malta', 'Monaco', 'Montenegro', 'Vatican City', 'San Marino', 'Cuba', 'Belize', 'Barbados', 'Indonesia', 'South Africa', 'Algeria', 'Uzbekistan', 'Chile', 'Singapore', 'Liechtenstein', 'Bahrain', 'Armenia', 'Serbia', 'Australia', 'Argentina', 'Peru', 'North Korea', 'Cambodia', 'Timor-Leste', 'Chad', 'New Zealand', 'India', 'Tuvalu', 'Tonga', 'Samoa', 'Solomon Islands', 'Vanuatu', 'Papua New Guinea', 'Palau', 'Nauru', 'Federated States of Micronesia', 'Marshall Islands', 'Kiribati', 'Mongolia', 'Fiji', 'Venezuela', 'Suriname', 'Paraguay', 'Guyana', 'Ecuador', 'Colombia', 'Bolivia', 'Trinidad and Tobago', 'State of Somaliland', 'Transitional Islamic State of Afghanistan', 'Islamic Republic of Afghanistan', 'Saint Vincent and the Grenadines', 'Saint Lucia', 'Saint Kitts and Nevis', 'Jamaica', 'Grenada', 'Guatemala', 'The Bahamas', 'Antigua and Barbuda', 'Honduras', 'Dominica', 'Dominican Republic', 'Haiti', 'El Salvador', 'Iran', 'Iraq', 'Costa Rica', 'Israel', 'Panama', 'Yemen', 'Jordan', 'Nicaragua', 'Kyrgyzstan', 'Kuwait', 'Laos', 'Lebanon', 'Maldives', 'Malaysia', 'Myanmar', 'Nepal', 'Oman', 'Pakistan', 'Saudi Arabia', 'Sri Lanka', 'Syria', 'Tajikistan', 'Taiwan', 'Thailand', 'Turkmenistan', 'United Arab Emirates', 'Vietnam', 'South Korea', 'Afghanistan', 'Bangladesh', 'Mali', 'Angola', 'Bhutan', 'Brunei', 'Tanzania', 'Philippines', 'Central African Republic', 'Togo', 'Tunisia', 'Zambia', 'Zimbabwe', 'South Sudan', 'Benin', 'Botswana', 'Burkina Faso', 'Burundi', 'Comoros', 'Republic of the Congo', 'Democratic Republic of the Congo', 'Djibouti', 'Equatorial Guinea', 'Eritrea', 'Gabon', 'The Gambia', 'Guinea', 'Guinea-Bissau', \"Côte d'Ivoire\", 'Cameroon', 'Cape Verde', 'Lesotho', 'Liberia', 'Libya', 'Madagascar', 'Malawi', 'Mauritania', 'Mauritius', 'Morocco', 'Mozambique', 'Namibia', 'Niger', 'Nigeria', 'Uganda', 'Rwanda', 'São Tomé and Príncipe', 'Senegal', 'Seychelles', 'Sierra Leone', 'Somalia', 'Sudan', 'Eswatini', 'Kingdom of the Netherlands', 'Weimar Republic', 'Crown of Aragon', 'Islamic Emirate of Afghanistan', 'Romanian Old Kingdom', 'Danish Realm']\n"
     ]
    }
   ],
   "source": [
    "for descript in description:\n",
    "    print(descript)"
   ]
  },
  {
   "cell_type": "code",
   "execution_count": 8,
   "metadata": {
    "colab": {
     "base_uri": "https://localhost:8080/"
    },
    "executionInfo": {
     "elapsed": 4058,
     "status": "ok",
     "timestamp": 1639579264712,
     "user": {
      "displayName": "Stefan Am Ende",
      "photoUrl": "https://lh3.googleusercontent.com/a-/AOh14Gj_hrHvJQnAnrHGOcz9J_HX56sCTip0nW2cK7npZQ=s64",
      "userId": "15393709540815104118"
     },
     "user_tz": -60
    },
    "id": "gZn3Qx3KIlr7",
    "outputId": "73f6340d-78f5-4f44-fba4-7db07f3d996d"
   },
   "outputs": [],
   "source": [
    "import torch\n",
    "from transformers import T5Tokenizer, T5ForConditionalGeneration,Adafactor"
   ]
  },
  {
   "cell_type": "code",
   "execution_count": 9,
   "metadata": {
    "colab": {
     "base_uri": "https://localhost:8080/"
    },
    "executionInfo": {
     "elapsed": 2565,
     "status": "ok",
     "timestamp": 1639579267271,
     "user": {
      "displayName": "Stefan Am Ende",
      "photoUrl": "https://lh3.googleusercontent.com/a-/AOh14Gj_hrHvJQnAnrHGOcz9J_HX56sCTip0nW2cK7npZQ=s64",
      "userId": "15393709540815104118"
     },
     "user_tz": -60
    },
    "id": "qkJL-bO9Ix2D",
    "outputId": "4a3d0201-0180-4377-ffa4-ec6ba4991ed3"
   },
   "outputs": [],
   "source": [
    "model_path = \"./generation model/\""
   ]
  },
  {
   "cell_type": "code",
   "execution_count": 10,
   "metadata": {
    "executionInfo": {
     "elapsed": 14185,
     "status": "ok",
     "timestamp": 1639579281453,
     "user": {
      "displayName": "Stefan Am Ende",
      "photoUrl": "https://lh3.googleusercontent.com/a-/AOh14Gj_hrHvJQnAnrHGOcz9J_HX56sCTip0nW2cK7npZQ=s64",
      "userId": "15393709540815104118"
     },
     "user_tz": -60
    },
    "id": "T12-NpP2JSQk"
   },
   "outputs": [],
   "source": [
    "tokenizer = T5Tokenizer.from_pretrained(model_path)\n",
    "model =T5ForConditionalGeneration.from_pretrained(model_path, return_dict=True)"
   ]
  },
  {
   "cell_type": "code",
   "execution_count": 11,
   "metadata": {
    "executionInfo": {
     "elapsed": 12,
     "status": "ok",
     "timestamp": 1639579281454,
     "user": {
      "displayName": "Stefan Am Ende",
      "photoUrl": "https://lh3.googleusercontent.com/a-/AOh14Gj_hrHvJQnAnrHGOcz9J_HX56sCTip0nW2cK7npZQ=s64",
      "userId": "15393709540815104118"
     },
     "user_tz": -60
    },
    "id": "Y2FcHZP3KDil"
   },
   "outputs": [],
   "source": [
    "def generate(text,model,tokenizer):\n",
    "    model.eval()\n",
    "    input_ids = tokenizer.encode(\"WebNLG:{} </s>\".format(text), return_tensors=\"pt\")  \n",
    "    outputs = model.generate(input_ids, max_length=300, temperature=0.1)\n",
    "    return tokenizer.decode(outputs[0])"
   ]
  },
  {
   "cell_type": "code",
   "execution_count": 12,
   "metadata": {
    "executionInfo": {
     "elapsed": 11,
     "status": "ok",
     "timestamp": 1639579281454,
     "user": {
      "displayName": "Stefan Am Ende",
      "photoUrl": "https://lh3.googleusercontent.com/a-/AOh14Gj_hrHvJQnAnrHGOcz9J_HX56sCTip0nW2cK7npZQ=s64",
      "userId": "15393709540815104118"
     },
     "user_tz": -60
    },
    "id": "d_lByTihSY4Y"
   },
   "outputs": [],
   "source": [
    "import unicodedata"
   ]
  },
  {
   "cell_type": "code",
   "execution_count": 14,
   "metadata": {},
   "outputs": [
    {
     "name": "stdout",
     "output_type": "stream",
     "text": [
      "Requirement already satisfied: gensim in /home/matthis/anaconda3/lib/python3.9/site-packages (4.1.2)\n",
      "Requirement already satisfied: smart-open>=1.8.1 in /home/matthis/anaconda3/lib/python3.9/site-packages (from gensim) (5.2.1)\n",
      "Requirement already satisfied: scipy>=0.18.1 in /home/matthis/anaconda3/lib/python3.9/site-packages (from gensim) (1.7.1)\n",
      "Requirement already satisfied: numpy>=1.17.0 in /home/matthis/anaconda3/lib/python3.9/site-packages (from gensim) (1.20.3)\n",
      "Note: you may need to restart the kernel to use updated packages.\n"
     ]
    }
   ],
   "source": [
    "pip install gensim"
   ]
  },
  {
   "cell_type": "code",
   "execution_count": 13,
   "metadata": {},
   "outputs": [],
   "source": [
    "import gensim\n",
    "\n",
    "# Load Google's pre-trained Word2Vec model.\n",
    "word2vecModel = gensim.models.KeyedVectors.load_word2vec_format('generation model/GoogleNews-vectors-negative300.bin', binary=True) "
   ]
  },
  {
   "cell_type": "code",
   "execution_count": 14,
   "metadata": {},
   "outputs": [],
   "source": [
    "#topics contient les sujets pour lesquels il y a des méthodes pour le dialogue\n",
    "#quand on implémente des nouvelles méthodes il faut rajouter le sujet ici\n",
    "topics=['music', 'job', 'food', 'game', 'sport', 'book', 'film', 'introduction']"
   ]
  },
  {
   "cell_type": "code",
   "execution_count": 15,
   "metadata": {
    "executionInfo": {
     "elapsed": 556,
     "status": "ok",
     "timestamp": 1639582644530,
     "user": {
      "displayName": "Stefan Am Ende",
      "photoUrl": "https://lh3.googleusercontent.com/a-/AOh14Gj_hrHvJQnAnrHGOcz9J_HX56sCTip0nW2cK7npZQ=s64",
      "userId": "15393709540815104118"
     },
     "user_tz": -60
    },
    "id": "epRB2c2SCFOL"
   },
   "outputs": [],
   "source": [
    "nameofspeaker = \"\"\n",
    "askedname = False\n",
    "class Person:\n",
    "   \n",
    "    def __init__(self):\n",
    "        self.age = random.randint(18, 80)\n",
    "        self.name = unicodedata.normalize('NFD', random.choice(description[0])).encode('ascii', 'ignore').decode('utf-8')\n",
    "        self.book = unicodedata.normalize('NFD', random.choice(description[1])).encode('ascii', 'ignore').decode('utf-8')\n",
    "        self.sport = unicodedata.normalize('NFD', random.choice(description[2])).encode('ascii', 'ignore').decode('utf-8')\n",
    "        self.music = unicodedata.normalize('NFD', random.choice(description[3])).encode('ascii', 'ignore').decode('utf-8')\n",
    "        self.job = unicodedata.normalize('NFD', random.choice(description[4])).encode('ascii', 'ignore').decode('utf-8')\n",
    "        self.film =  unicodedata.normalize('NFD', random.choice(description[5])).encode('ascii', 'ignore').decode('utf-8')\n",
    "        self.game =  unicodedata.normalize('NFD', random.choice(description[6])).encode('ascii', 'ignore').decode('utf-8')\n",
    "        self.food =  unicodedata.normalize('NFD', random.choice(description[7])).encode('ascii', 'ignore').decode('utf-8')\n",
    "        self.country = unicodedata.normalize('NFD', random.choice(description[8])).encode('ascii', 'ignore').decode('utf-8')\n",
    "        \n",
    "        \n",
    "    def generateDescription(self):\n",
    "        surname=self.name.split(' ')[0]\n",
    "        string=self.name+' | age | '+str(self.age)+' && '+self.name+' | country | '+self.country\n",
    "        print(generate(string, model, tokenizer))\n",
    "        string=surname+' | job | '+self.job\n",
    "        print(generate(string, model, tokenizer))\n",
    "        string=surname+' | favouriteBook | '+self.book\n",
    "        print(generate(string, model, tokenizer))\n",
    "        string=surname+' | favouriteSport | '+self.sport\n",
    "        print(generate(string, model, tokenizer))\n",
    "        string=surname+' | favouriteMusic | '+self.music\n",
    "        print(generate(string, model, tokenizer))\n",
    "        string=surname+' | favouriteFilm | '+self.film\n",
    "        print(generate(string, model, tokenizer))\n",
    "        string=surname+' | favouriteGame | '+self.game\n",
    "        print(generate(string, model, tokenizer))\n",
    "        string=surname+' | favouriteFood | '+self.food\n",
    "        print(generate(string, model, tokenizer))\n",
    "\n",
    "    def showProperties(self):\n",
    "        print('name: '+self.name+'\\nage: '+str(self.age)+'\\ncountry: '+self.country+'\\njob: '+self.job+'\\nbook: '+self.book+'\\nsport: '+self.sport+'\\nmusic: '+self.music+'\\nfilm: '+self.film+'\\ngame: '+self.game+'\\nfood: '+self.food+'\\n')\n",
    "        \n",
    "    def introduce(self):\n",
    "        text=self.name.split(' ')[0]+':   '\n",
    "\n",
    "        #Greeting\n",
    "        rand=random.randint(0,3)\n",
    "        if rand==0:\n",
    "            text+='Hello, '\n",
    "        elif rand==1:\n",
    "            text+='Hi, '\n",
    "        elif rand==2:\n",
    "            text+='Hey, '\n",
    "        elif rand==3:\n",
    "            text+='Good day, '\n",
    "      \n",
    "        #Name\n",
    "        rand=random.randint(0,2)\n",
    "        if rand==0:\n",
    "            text+=\"I'm \"\n",
    "        elif rand==1:\n",
    "            text+=\"I am \"\n",
    "        elif rand==2:\n",
    "            text+=\"my name is \"\n",
    "        text+=self.name+', '\n",
    "\n",
    "        #Age\n",
    "        rand=random.randint(0,1)\n",
    "        if rand==0:\n",
    "            text+='I am '\n",
    "        elif rand==1:\n",
    "            text+=\"I'm \"\n",
    "        text+=str(self.age)+' years old '\n",
    "\n",
    "        #Country\n",
    "        rand=random.randint(0,3)\n",
    "        if rand==0:\n",
    "            text+=\"and I'm from \"\n",
    "        elif rand==1:\n",
    "            text+=\"and I am from \"\n",
    "        elif rand==2:\n",
    "            text+=\"and I come from \"\n",
    "        elif rand==3:\n",
    "            text+=\"and I live in \"\n",
    "        text+=self.country+'.'\n",
    "\n",
    "        print(text)\n",
    "\n",
    "    def tellYourFavouriteFood(self):\n",
    "        text=''\n",
    "        rand=random.randint(0,4)\n",
    "        if rand==0:\n",
    "            text+='My favourite food is '\n",
    "        elif rand==1:\n",
    "            text+='I like to eat '\n",
    "        elif rand==2:\n",
    "            text+='I love '\n",
    "        elif rand==3:\n",
    "            text+='My favourite dish is '\n",
    "        elif rand==4:\n",
    "            text+='I really enjoy '\n",
    "        text+=self.food+'.'\n",
    "        return text\n",
    "\n",
    "    def startTopicFood(self):\n",
    "        name=self.name.split(' ')[0]+':   '\n",
    "        text=self.tellYourFavouriteFood()+' '\n",
    "        #Ask the others about their favourite food\n",
    "        rand=random.randint(0,4)\n",
    "        if rand==0:\n",
    "            text+='What is your favourite food?'\n",
    "        elif rand==1:\n",
    "            text+='What do you like to eat most?'\n",
    "        elif rand==2:\n",
    "            text+='What is your preferred dish?'\n",
    "        elif rand==3:\n",
    "            text+='What is your favourite dish?'\n",
    "        elif rand==4:\n",
    "            text+='Which food do you enjoy most?'\n",
    "        print(name+text)\n",
    "        return text\n",
    "\n",
    "    def respondToFood(self):\n",
    "        text=self.name.split(' ')[0]+':   '\n",
    "        text+=self.tellYourFavouriteFood()\n",
    "        print(text)\n",
    "\n",
    "    def tellYourJob(self):\n",
    "        text=''\n",
    "        rand=random.randint(0,4)\n",
    "        if rand==0:\n",
    "            text+='I work as a '\n",
    "        elif rand==1:\n",
    "            text+='I am '\n",
    "        elif rand==2:\n",
    "            text+=\"I'm \"\n",
    "        elif rand==3:\n",
    "            text+='My job is '\n",
    "        elif rand==4:\n",
    "            text+='I make a living from working as a '\n",
    "        text+=self.optimizeJob(self.job)+'.'\n",
    "        return text\n",
    "    \n",
    "    def optimizeJob(self, job):\n",
    "        split=job.split(' ')\n",
    "        for i in range(len(split)):\n",
    "            if split[i]=='management':\n",
    "                split[i]='manager'\n",
    "            elif split[i]=='support':\n",
    "                split[i]='supporter'\n",
    "            elif split[i]=='therapy':\n",
    "                split[i]='therapist'\n",
    "            elif split[i]=='supervision':\n",
    "                split[i]='supervisor'\n",
    "            elif split[i]=='scouting':\n",
    "                split[i]='scout'\n",
    "        optimizedJob=''\n",
    "        for word in split:\n",
    "            optimizedJob+=word+' '\n",
    "        optimizedJob=optimizedJob[:len(optimizedJob)-1]\n",
    "        return optimizedJob\n",
    "\n",
    "    def startTopicJob(self):\n",
    "        name=self.name.split(' ')[0]+':   '\n",
    "        text=self.tellYourJob()+' '\n",
    "        #Ask the others about their job\n",
    "        rand=random.randint(0,4)\n",
    "        if rand==0:\n",
    "            text+='What is your job?'\n",
    "        elif rand==1:\n",
    "            text+='What are you doing for a living?'\n",
    "        elif rand==2:\n",
    "            text+='What are you working?'\n",
    "        elif rand==3:\n",
    "            text+='What do you do?'\n",
    "        elif rand==4:\n",
    "            text+='What do you work as?'\n",
    "        print(name+text)\n",
    "        return text\n",
    "\n",
    "    def respondToJob(self):\n",
    "        text=self.name.split(' ')[0]+':   '\n",
    "        text+=self.tellYourJob()\n",
    "        print(text)\n",
    "\n",
    "    def tellYourFavouriteMusic(self):\n",
    "        text=''\n",
    "        rand=random.randint(0,5)\n",
    "        if rand==0:\n",
    "            text+='My favourite music is '\n",
    "        elif rand==1:\n",
    "            text+='I like listening to '\n",
    "        elif rand==2:\n",
    "            text+='I like '\n",
    "        elif rand==3:\n",
    "            text+='My favourite music genre is '\n",
    "        elif rand==4:\n",
    "            text+='I really enjoy listening to '\n",
    "        elif rand==5:\n",
    "            text+='I usually listen to '\n",
    "        text+=self.music+'.'\n",
    "        return text\n",
    "\n",
    "    def startTopicMusic(self):\n",
    "        name=self.name.split(' ')[0]+':   '\n",
    "        text=self.tellYourFavouriteMusic()+' '\n",
    "        #Ask the others about their favourite music\n",
    "        rand=random.randint(0,4)\n",
    "        if rand==0:\n",
    "            text+='What is your favourite music?'\n",
    "        elif rand==1:\n",
    "            text+='What do you like to listen to?'\n",
    "        elif rand==2:\n",
    "            text+='What is your favourite music genre?'\n",
    "        elif rand==3:\n",
    "            text+='What music do you like to listen to?'\n",
    "        elif rand==4:\n",
    "            text+='Which type of music do you enjoy most?'\n",
    "        print(name+text)\n",
    "        return text\n",
    "\n",
    "    def respondToMusic(self):\n",
    "        text=self.name.split(' ')[0]+':   '\n",
    "        text+=self.tellYourFavouriteMusic()\n",
    "        print(text)\n",
    "        \n",
    "    def tellYourFavouriteGame(self):\n",
    "        text=''\n",
    "        rand=random.randint(0,5)\n",
    "        if rand==0:\n",
    "            text+='My favourite game is '\n",
    "        elif rand==1:\n",
    "            text+='I like playing '\n",
    "        elif rand==2:\n",
    "            text+='I like '\n",
    "        elif rand==3:\n",
    "            text+='I like to play '\n",
    "        elif rand==4:\n",
    "            text+='I really enjoy playing '\n",
    "        elif rand==5:\n",
    "            text+='I often play '\n",
    "        text+=self.game+'.'\n",
    "        return text\n",
    "\n",
    "    def startTopicGame(self):\n",
    "        name=self.name.split(' ')[0]+':   '\n",
    "        text=self.tellYourFavouriteGame()+' '\n",
    "        #Ask the others about their favourite game\n",
    "        rand=random.randint(0,4)\n",
    "        if rand==0:\n",
    "            text+='What is your favourite game?'\n",
    "        elif rand==1:\n",
    "            text+='What do you like to play?'\n",
    "        elif rand==2:\n",
    "            text+='Which games do you play?'\n",
    "        elif rand==3:\n",
    "            text+='Are there games that you like to play?'\n",
    "        elif rand==4:\n",
    "            text+='Which game do you enjoy most?'\n",
    "        print(name+text)\n",
    "        return text\n",
    "\n",
    "    def respondToGame(self):\n",
    "        text=self.name.split(' ')[0]+':   '\n",
    "        text+=self.tellYourFavouriteGame()\n",
    "        print(text)\n",
    "        \n",
    "    def tellYourFavouriteSport(self):\n",
    "        text=''\n",
    "        rand=random.randint(0,9)\n",
    "        if rand==0:\n",
    "            text+='My favourite sport is '\n",
    "        elif rand==1:\n",
    "            text+='I like playing '\n",
    "        elif rand==2:\n",
    "            text+='I like '\n",
    "        elif rand==3:\n",
    "            text+='I like to play '\n",
    "        elif rand==4:\n",
    "            text+='I really enjoy playing '\n",
    "        elif rand==5:\n",
    "            text+='I often play '\n",
    "        elif rand==6:\n",
    "            text+='I like watching '\n",
    "        elif rand==7:\n",
    "            text+='I like to watch '\n",
    "        elif rand==8:\n",
    "            text+='I\\'m a fan of '\n",
    "        elif rand==9:\n",
    "            text+='I\\'m a '+self.sport+' fan.'\n",
    "        if not rand==9:\n",
    "            text+=self.sport+'.'\n",
    "        return text\n",
    "\n",
    "    def startTopicSport(self):\n",
    "        name=self.name.split(' ')[0]+':   '\n",
    "        text=self.tellYourFavouriteSport()+' '\n",
    "        #Ask the others about their favourite sport\n",
    "        rand=random.randint(0,4)\n",
    "        if rand==0:\n",
    "            text+='What is your favourite sport?'\n",
    "        elif rand==1:\n",
    "            text+='Are you a sports fan?'\n",
    "        elif rand==2:\n",
    "            text+='Which sport are you interested in?'\n",
    "        elif rand==3:\n",
    "            text+='What is your preferred sport?'\n",
    "        elif rand==4:\n",
    "            text+='Which kind of sport do you like most?'\n",
    "        print(name+text)\n",
    "        return text\n",
    "\n",
    "    def respondToSport(self):\n",
    "        text=self.name.split(' ')[0]+':   '\n",
    "        text+=self.tellYourFavouriteSport()\n",
    "        print(text)\n",
    "        \n",
    "    def tellYourFavouriteFilm(self):\n",
    "        text=''\n",
    "        rand=random.randint(0,4)\n",
    "        if rand==0:\n",
    "            text+='My favourite film is '\n",
    "        elif rand==1:\n",
    "            text+='I really liked the film '\n",
    "        elif rand==2:\n",
    "            text+='I really enjoyed watching the film '\n",
    "        elif rand==3:\n",
    "            text+='I like films like '\n",
    "        text+=self.film\n",
    "        if rand<4:\n",
    "            text+='.'\n",
    "        elif rand==4:\n",
    "            text+=' was the film that I liked most.'\n",
    "        return text\n",
    "    \n",
    "    def startTopicFilm(self):\n",
    "        name=self.name.split(' ')[0]+':   '\n",
    "        text=self.tellYourFavouriteFilm()+' '\n",
    "        rand=random.randint(0,3)\n",
    "        if rand==0:\n",
    "            text+='What is your favourite film?'\n",
    "        elif rand==1:\n",
    "            text+='Which film did you like most?'\n",
    "        elif rand==2:\n",
    "            text+='Which films do watch?'\n",
    "        elif rand==3:\n",
    "            text+='Which film did you enjoy most?'\n",
    "        print(name+text)\n",
    "        return text\n",
    "    \n",
    "    def respondToFilm(self):\n",
    "        text=self.name.split(' ')[0]+':   '\n",
    "        text+=self.tellYourFavouriteFilm()\n",
    "        print(text)\n",
    "        \n",
    "    def tellYourFavouriteBook(self):\n",
    "        text=''\n",
    "        rand=random.randint(0,5)\n",
    "        if rand==0:\n",
    "            text+='My favourite book is '\n",
    "        elif rand==1:\n",
    "            text+='I really like the book '\n",
    "        elif rand==2:\n",
    "            text+='I enjoyed reading the book '\n",
    "        elif rand==3:\n",
    "            text+='I am currently reading '\n",
    "        elif rand==4:\n",
    "            text+='I like the book '\n",
    "        elif rand==5:\n",
    "            text+='I find '\n",
    "        text+=self.book\n",
    "        if rand<3:\n",
    "            text+='.'\n",
    "        elif rand==3:\n",
    "            text+=' and i really like it.'\n",
    "        elif rand==4:\n",
    "            text+=' a lot.'\n",
    "        elif rand==5:\n",
    "            text+=' is a pretty good book.'\n",
    "        return text\n",
    "    \n",
    "    def startTopicBook(self):\n",
    "        name=self.name.split(' ')[0]+':   '\n",
    "        text=self.tellYourFavouriteBook()+' '\n",
    "        rand=random.randint(0,4)\n",
    "        if rand==0:\n",
    "            text+='What is your favourite book?'\n",
    "        elif rand==1:\n",
    "            text+='What do you like to read?'\n",
    "        elif rand==2:\n",
    "            text+='Which kind of books do you like?'\n",
    "        elif rand==3:\n",
    "            text+='Do you read books?'\n",
    "        elif rand==4:\n",
    "            text+='Which book do you like most?'\n",
    "        print(name+text)\n",
    "        return text\n",
    "    \n",
    "    def respondToBook(self):\n",
    "        text=self.name.split(' ')[0]+':   '\n",
    "        text+=self.tellYourFavouriteBook()\n",
    "        print(text)\n",
    "\n",
    "    def respond(self, message):\n",
    "        #TODO alles beachten\n",
    "        global nameofspeaker\n",
    "        phrases = []\n",
    "        questions = []\n",
    "        words = \"\"\n",
    "        for letters in message:\n",
    "            if(letters == '.' or letters == '!'):\n",
    "                phrases.append(words)\n",
    "                words = \"\"\n",
    "            elif(letters == '?'):\n",
    "                questions.append(words)\n",
    "                words = \"\"\n",
    "            else:    \n",
    "                words+=letters     \n",
    "        \n",
    "        SWITCH_DICT={\n",
    "            'sport':self.respondToSport,\n",
    "            'music':self.respondToMusic,\n",
    "            'job':self.respondToJob,\n",
    "            'game':self.respondToGame,\n",
    "            'food':self.respondToFood,\n",
    "            'film':self.respondToFilm,\n",
    "            'book':self.respondToBook,\n",
    "        }\n",
    "        topicsquestions = []\n",
    "        if(len(questions)!= 0):\n",
    "            for question in questions:\n",
    "                guessedTopic=self.guessTopic(question)\n",
    "                if not guessedTopic==None:\n",
    "                    topicsquestions.append(guessedTopic)\n",
    "        if(len(topicsquestions)!=0):            \n",
    "            SWITCH_DICT.get(topicsquestions[random.randint(0,len(topicsquestions)-1)])()\n",
    "        topicsphrases = []\n",
    "        \n",
    "        if(len(phrases) != 0):\n",
    "            for phrase in phrases:\n",
    "                guessedTopic=self.guessTopic(phrase)\n",
    "                if not guessedTopic==None:\n",
    "                    topicsphrases.append(guessedTopic)\n",
    "        if(len(topicsphrases)!=0):            \n",
    "            SWITCH_DICT.get(topicsphrases[random.randint(0,len(topicsphrases)-1)])()\n",
    "        if(len(topicsquestions)==0 and len(topicsphrases)==0):     \n",
    "            print(\"I'm sorry  \" + nameofspeaker + \". I don't know what you are speaking about. :( \\n Do you wan't to speak about sport, Films, music ?\")\n",
    "        \n",
    "    def guessTopic(self, text):\n",
    "        bestTopic=None\n",
    "        bestDistance=None\n",
    "        words=text.split(' ')\n",
    "        for word in words:\n",
    "            #print(word)\n",
    "            for topic in topics:\n",
    "                try:\n",
    "                    distance=word2vecModel.distance(word, topic)\n",
    "                    #print(distance)\n",
    "                    if bestTopic==None or distance<bestDistance:\n",
    "                        bestTopic=topic\n",
    "                        bestDistance=distance\n",
    "                except:\n",
    "                    continue\n",
    "        return bestTopic\n",
    "    \n",
    "    def startTopic(self, doneTopics):\n",
    "        openTopics=[topic for topic in topics if topic not in doneTopics]\n",
    "        if len(openTopics)==0:\n",
    "            return None\n",
    "        rand=random.randint(0,len(openTopics)-1)\n",
    "        if openTopics[rand]=='music':\n",
    "            doneTopics.append('music')\n",
    "            return self.startTopicMusic()\n",
    "        elif openTopics[rand]=='job':\n",
    "            doneTopics.append('job')\n",
    "            return self.startTopicJob()\n",
    "        elif openTopics[rand]=='food':\n",
    "            doneTopics.append('food')\n",
    "            return self.startTopicFood()\n",
    "        elif openTopics[rand]=='game':\n",
    "            doneTopics.append('game')\n",
    "            return self.startTopicGame()\n",
    "        elif openTopics[rand]=='sport':\n",
    "            doneTopics.append('sport')\n",
    "            return self.startTopicSport()\n",
    "        elif openTopics[rand]=='film':\n",
    "            doneTopics.append('film')\n",
    "            return self.startTopicFilm()\n",
    "        elif openTopics[rand]=='book':\n",
    "            doneTopics.append('book')\n",
    "            return self.startTopicBook()\n",
    "        else:\n",
    "            return None"
   ]
  },
  {
   "cell_type": "code",
   "execution_count": 18,
   "metadata": {},
   "outputs": [
    {
     "name": "stdout",
     "output_type": "stream",
     "text": [
      "Csaba:   I'm a water polo fan.\n",
      "Csaba:   My favourite book is The Happiness Hypothesis.\n"
     ]
    }
   ],
   "source": [
    "person = Person()\n",
    "person.respond(\"my name is Leo . What sport do you like ? i love Sandwiches.\")"
   ]
  },
  {
   "cell_type": "code",
   "execution_count": 17,
   "metadata": {
    "executionInfo": {
     "elapsed": 12,
     "status": "ok",
     "timestamp": 1639579282376,
     "user": {
      "displayName": "Stefan Am Ende",
      "photoUrl": "https://lh3.googleusercontent.com/a-/AOh14Gj_hrHvJQnAnrHGOcz9J_HX56sCTip0nW2cK7npZQ=s64",
      "userId": "15393709540815104118"
     },
     "user_tz": -60
    },
    "id": "k4HqzH2HOHoy"
   },
   "outputs": [],
   "source": [
    "def generatePersons(nPersons):\n",
    "    persons=[]\n",
    "    for i in range(nPersons):\n",
    "        person = Person()\n",
    "        persons.append(person)\n",
    "    return persons"
   ]
  },
  {
   "cell_type": "code",
   "execution_count": 18,
   "metadata": {
    "executionInfo": {
     "elapsed": 11,
     "status": "ok",
     "timestamp": 1639579282376,
     "user": {
      "displayName": "Stefan Am Ende",
      "photoUrl": "https://lh3.googleusercontent.com/a-/AOh14Gj_hrHvJQnAnrHGOcz9J_HX56sCTip0nW2cK7npZQ=s64",
      "userId": "15393709540815104118"
     },
     "user_tz": -60
    },
    "id": "HXIlYCREDPwT"
   },
   "outputs": [],
   "source": [
    "def startChat(persons, nTopics):\n",
    "    doneTopics=[]\n",
    "    for person in persons: \n",
    "        person.introduce()\n",
    "    for i in range(nTopics):\n",
    "        personToStart=persons[random.randint(0, len(persons)-1)]\n",
    "        message=personToStart.startTopic(doneTopics)\n",
    "        if message==None:\n",
    "            return\n",
    "        random.shuffle(persons)\n",
    "        for person in persons:\n",
    "            if not person==personToStart:\n",
    "                person.respond(message)"
   ]
  },
  {
   "cell_type": "code",
   "execution_count": 19,
   "metadata": {},
   "outputs": [],
   "source": [
    "import time\n",
    "def startChatInteractive(persons):\n",
    "    global nameofspeaker\n",
    "    nameofspeaker=input('Input your name : ')\n",
    "    for person in persons: \n",
    "        person.introduce()\n",
    "        time.sleep(2)\n",
    "    while True:\n",
    "        message=input(nameofspeaker + ': ')\n",
    "        if message=='bye':\n",
    "            return\n",
    "        if not message=='':\n",
    "            random.shuffle(persons)\n",
    "            for person in persons:\n",
    "                time.sleep(2)\n",
    "                res=person.respond(message)\n",
    "                if res==-1:\n",
    "                    break           "
   ]
  },
  {
   "cell_type": "code",
   "execution_count": 20,
   "metadata": {
    "executionInfo": {
     "elapsed": 11,
     "status": "ok",
     "timestamp": 1639579282377,
     "user": {
      "displayName": "Stefan Am Ende",
      "photoUrl": "https://lh3.googleusercontent.com/a-/AOh14Gj_hrHvJQnAnrHGOcz9J_HX56sCTip0nW2cK7npZQ=s64",
      "userId": "15393709540815104118"
     },
     "user_tz": -60
    },
    "id": "jWsNaYnMN9zT"
   },
   "outputs": [],
   "source": [
    "def generateDescriptions(persons):\n",
    "    for person in persons:\n",
    "        person.generateDescription()\n",
    "        print('\\n')"
   ]
  },
  {
   "cell_type": "code",
   "execution_count": 21,
   "metadata": {
    "executionInfo": {
     "elapsed": 224,
     "status": "ok",
     "timestamp": 1639582652896,
     "user": {
      "displayName": "Stefan Am Ende",
      "photoUrl": "https://lh3.googleusercontent.com/a-/AOh14Gj_hrHvJQnAnrHGOcz9J_HX56sCTip0nW2cK7npZQ=s64",
      "userId": "15393709540815104118"
     },
     "user_tz": -60
    },
    "id": "MXnso_Pc-qWU"
   },
   "outputs": [],
   "source": [
    "myPersons=generatePersons(4)"
   ]
  },
  {
   "cell_type": "code",
   "execution_count": 89,
   "metadata": {
    "colab": {
     "base_uri": "https://localhost:8080/"
    },
    "executionInfo": {
     "elapsed": 11,
     "status": "ok",
     "timestamp": 1639579282378,
     "user": {
      "displayName": "Stefan Am Ende",
      "photoUrl": "https://lh3.googleusercontent.com/a-/AOh14Gj_hrHvJQnAnrHGOcz9J_HX56sCTip0nW2cK7npZQ=s64",
      "userId": "15393709540815104118"
     },
     "user_tz": -60
    },
    "id": "bAU7vGKYDTXw",
    "outputId": "e90922c6-de10-4bfd-958f-dd59507596c5"
   },
   "outputs": [
    {
     "name": "stdout",
     "output_type": "stream",
     "text": [
      "John:   Hello, I am John VI, I am 69 years old and I am from Albania.\n",
      "Ivan:   Hey, I'm Ivan the Terrible, I am 23 years old and I live in Guatemala.\n",
      "Kevin:   Good day, my name is Kevin Johnson, I am 48 years old and I come from Andorra.\n",
      "Grand:   Hey, I'm Grand Duchess Maria Pavlovna of Russia, I'm 61 years old and I'm from Zambia.\n",
      "John:   I like playing Jogo Quebra-Cabeca. Which game do you enjoy most?\n",
      "Ivan:   I like Power Rangers Collectible Card Game.\n",
      "Ivan:   I often play Power Rangers Collectible Card Game.\n",
      "Kevin:   I really enjoy playing Fish out of Water.\n",
      "Kevin:   My favourite game is Fish out of Water.\n",
      "Grand:   I like to play Hyperborea.\n",
      "Grand:   I like Hyperborea.\n",
      "Kevin:   I'm a fan of wildwater canoeing. What is your favourite sport?\n",
      "Ivan:   I like playing sumo.\n",
      "Ivan:   I'm a sumo fan.\n",
      "John:   I like mountain running.\n",
      "John:   I really enjoy playing mountain running.\n",
      "Grand:   My favourite sport is Rapid ball.\n",
      "Grand:   I like watching Rapid ball.\n",
      "Kevin:   I find The Divine Institutes is a pretty good book. What is your favourite book?\n",
      "John:   I really like the book The Amazing Emperor Heliogabalus.\n",
      "John:   I find The Amazing Emperor Heliogabalus is a pretty good book.\n",
      "Ivan:   I find Grete Herball is a pretty good book.\n",
      "Ivan:   My favourite book is Grete Herball.\n",
      "Grand:   I really like the book La reprise.\n",
      "Grand:   I really like the book La reprise.\n",
      "Grand:   Ginger and Fred was the film that I liked most. Which films do watch?\n",
      "John:   Dr. No was the film that I liked most.\n",
      "John:   I really liked the film Dr. No.\n",
      "Kevin:   I really liked the film Scarlet Street.\n",
      "Kevin:   I like films like Scarlet Street.\n",
      "Ivan:   My favourite film is Evil Dead.\n",
      "Ivan:   I like films like Evil Dead.\n",
      "Ivan:   I really enjoy buah keluak. What do you like to eat most?\n",
      "John:   I like to eat memek.\n",
      "John:   I am yakuza.\n",
      "Kevin:   I like to eat kuymak.\n",
      "Kevin:   I'm nihon-buyo dancer.\n",
      "Grand:   I really enjoy Hamsi tava.\n",
      "Grand:   My job is government employees in the United States.\n"
     ]
    }
   ],
   "source": [
    "startChat(myPersons, 5)           "
   ]
  },
  {
   "cell_type": "code",
   "execution_count": 22,
   "metadata": {
    "scrolled": true
   },
   "outputs": [
    {
     "name": "stdout",
     "output_type": "stream",
     "text": [
      "Input your name : matthis\n",
      "Jonathan:   Hello, I'm Jonathan Edwards, I am 36 years old and I live in Nicaragua.\n",
      "Nikolaes:   Hey, my name is Nikolaes Heinsius, I'm 68 years old and I live in Libya.\n",
      "Earl:   Hi, I am Earl Johnson, I'm 68 years old and I come from Slovenia.\n",
      "David:   Hey, my name is David Gray, I am 32 years old and I live in Kiribati.\n",
      "matthis: Hello, all. I wanted to ask what good films exist ?\n",
      "David:   Hum Paanch was the film that I liked most.\n",
      "David:   My job is supervising director.\n",
      "Nikolaes:   My favourite film is Tomorrow, When the War Began.\n",
      "Nikolaes:   I make a living from working as a Lord Marshal.\n",
      "Earl:   My favourite film is Whiteout.\n",
      "Earl:   My job is cupping therapist.\n",
      "Jonathan:   Podaa Podi was the film that I liked most.\n",
      "Jonathan:   I am aviation pioneer.\n",
      "matthis: I found therapist really interresting what do you think about\n",
      "I'm sorry  matthis. I don't know what you are speaking about. :( \n",
      " Do you wan't to speak about sport, Films, music ?\n",
      "I'm sorry  matthis. I don't know what you are speaking about. :( \n",
      " Do you wan't to speak about sport, Films, music ?\n",
      "I'm sorry  matthis. I don't know what you are speaking about. :( \n",
      " Do you wan't to speak about sport, Films, music ?\n",
      "I'm sorry  matthis. I don't know what you are speaking about. :( \n",
      " Do you wan't to speak about sport, Films, music ?\n",
      "matthis: I found therapist interresting.\n",
      "David:   I really enjoy playing Potion-making: Practice.\n",
      "Jonathan:   I like Labyrinth.\n",
      "Nikolaes:   I like Petits-Chevaux.\n",
      "Earl:   I really enjoy playing Classic BattleTech.\n"
     ]
    },
    {
     "ename": "KeyboardInterrupt",
     "evalue": "Interrupted by user",
     "output_type": "error",
     "traceback": [
      "\u001b[0;31m---------------------------------------------------------------------------\u001b[0m",
      "\u001b[0;31mKeyboardInterrupt\u001b[0m                         Traceback (most recent call last)",
      "\u001b[0;32m/tmp/ipykernel_7592/291922071.py\u001b[0m in \u001b[0;36m<module>\u001b[0;34m\u001b[0m\n\u001b[0;32m----> 1\u001b[0;31m \u001b[0mstartChatInteractive\u001b[0m\u001b[0;34m(\u001b[0m\u001b[0mmyPersons\u001b[0m\u001b[0;34m)\u001b[0m\u001b[0;34m\u001b[0m\u001b[0;34m\u001b[0m\u001b[0m\n\u001b[0m",
      "\u001b[0;32m/tmp/ipykernel_7592/484411563.py\u001b[0m in \u001b[0;36mstartChatInteractive\u001b[0;34m(persons)\u001b[0m\n\u001b[1;32m      7\u001b[0m         \u001b[0mtime\u001b[0m\u001b[0;34m.\u001b[0m\u001b[0msleep\u001b[0m\u001b[0;34m(\u001b[0m\u001b[0;36m2\u001b[0m\u001b[0;34m)\u001b[0m\u001b[0;34m\u001b[0m\u001b[0;34m\u001b[0m\u001b[0m\n\u001b[1;32m      8\u001b[0m     \u001b[0;32mwhile\u001b[0m \u001b[0;32mTrue\u001b[0m\u001b[0;34m:\u001b[0m\u001b[0;34m\u001b[0m\u001b[0;34m\u001b[0m\u001b[0m\n\u001b[0;32m----> 9\u001b[0;31m         \u001b[0mmessage\u001b[0m\u001b[0;34m=\u001b[0m\u001b[0minput\u001b[0m\u001b[0;34m(\u001b[0m\u001b[0mnameofspeaker\u001b[0m \u001b[0;34m+\u001b[0m \u001b[0;34m': '\u001b[0m\u001b[0;34m)\u001b[0m\u001b[0;34m\u001b[0m\u001b[0;34m\u001b[0m\u001b[0m\n\u001b[0m\u001b[1;32m     10\u001b[0m         \u001b[0;32mif\u001b[0m \u001b[0mmessage\u001b[0m\u001b[0;34m==\u001b[0m\u001b[0;34m'bye'\u001b[0m\u001b[0;34m:\u001b[0m\u001b[0;34m\u001b[0m\u001b[0;34m\u001b[0m\u001b[0m\n\u001b[1;32m     11\u001b[0m             \u001b[0;32mreturn\u001b[0m\u001b[0;34m\u001b[0m\u001b[0;34m\u001b[0m\u001b[0m\n",
      "\u001b[0;32m~/anaconda3/lib/python3.9/site-packages/ipykernel/kernelbase.py\u001b[0m in \u001b[0;36mraw_input\u001b[0;34m(self, prompt)\u001b[0m\n\u001b[1;32m   1004\u001b[0m                 \u001b[0;34m\"raw_input was called, but this frontend does not support input requests.\"\u001b[0m\u001b[0;34m\u001b[0m\u001b[0;34m\u001b[0m\u001b[0m\n\u001b[1;32m   1005\u001b[0m             )\n\u001b[0;32m-> 1006\u001b[0;31m         return self._input_request(\n\u001b[0m\u001b[1;32m   1007\u001b[0m             \u001b[0mstr\u001b[0m\u001b[0;34m(\u001b[0m\u001b[0mprompt\u001b[0m\u001b[0;34m)\u001b[0m\u001b[0;34m,\u001b[0m\u001b[0;34m\u001b[0m\u001b[0;34m\u001b[0m\u001b[0m\n\u001b[1;32m   1008\u001b[0m             \u001b[0mself\u001b[0m\u001b[0;34m.\u001b[0m\u001b[0m_parent_ident\u001b[0m\u001b[0;34m[\u001b[0m\u001b[0;34m\"shell\"\u001b[0m\u001b[0;34m]\u001b[0m\u001b[0;34m,\u001b[0m\u001b[0;34m\u001b[0m\u001b[0;34m\u001b[0m\u001b[0m\n",
      "\u001b[0;32m~/anaconda3/lib/python3.9/site-packages/ipykernel/kernelbase.py\u001b[0m in \u001b[0;36m_input_request\u001b[0;34m(self, prompt, ident, parent, password)\u001b[0m\n\u001b[1;32m   1049\u001b[0m             \u001b[0;32mexcept\u001b[0m \u001b[0mKeyboardInterrupt\u001b[0m\u001b[0;34m:\u001b[0m\u001b[0;34m\u001b[0m\u001b[0;34m\u001b[0m\u001b[0m\n\u001b[1;32m   1050\u001b[0m                 \u001b[0;31m# re-raise KeyboardInterrupt, to truncate traceback\u001b[0m\u001b[0;34m\u001b[0m\u001b[0;34m\u001b[0m\u001b[0m\n\u001b[0;32m-> 1051\u001b[0;31m                 \u001b[0;32mraise\u001b[0m \u001b[0mKeyboardInterrupt\u001b[0m\u001b[0;34m(\u001b[0m\u001b[0;34m\"Interrupted by user\"\u001b[0m\u001b[0;34m)\u001b[0m \u001b[0;32mfrom\u001b[0m \u001b[0;32mNone\u001b[0m\u001b[0;34m\u001b[0m\u001b[0;34m\u001b[0m\u001b[0m\n\u001b[0m\u001b[1;32m   1052\u001b[0m             \u001b[0;32mexcept\u001b[0m \u001b[0mException\u001b[0m\u001b[0;34m:\u001b[0m\u001b[0;34m\u001b[0m\u001b[0;34m\u001b[0m\u001b[0m\n\u001b[1;32m   1053\u001b[0m                 \u001b[0mself\u001b[0m\u001b[0;34m.\u001b[0m\u001b[0mlog\u001b[0m\u001b[0;34m.\u001b[0m\u001b[0mwarning\u001b[0m\u001b[0;34m(\u001b[0m\u001b[0;34m\"Invalid Message:\"\u001b[0m\u001b[0;34m,\u001b[0m \u001b[0mexc_info\u001b[0m\u001b[0;34m=\u001b[0m\u001b[0;32mTrue\u001b[0m\u001b[0;34m)\u001b[0m\u001b[0;34m\u001b[0m\u001b[0;34m\u001b[0m\u001b[0m\n",
      "\u001b[0;31mKeyboardInterrupt\u001b[0m: Interrupted by user"
     ]
    }
   ],
   "source": [
    "startChatInteractive(myPersons)"
   ]
  },
  {
   "cell_type": "code",
   "execution_count": null,
   "metadata": {
    "colab": {
     "base_uri": "https://localhost:8080/",
     "height": 660
    },
    "executionInfo": {
     "elapsed": 16353,
     "status": "error",
     "timestamp": 1639582670787,
     "user": {
      "displayName": "Stefan Am Ende",
      "photoUrl": "https://lh3.googleusercontent.com/a-/AOh14Gj_hrHvJQnAnrHGOcz9J_HX56sCTip0nW2cK7npZQ=s64",
      "userId": "15393709540815104118"
     },
     "user_tz": -60
    },
    "id": "UeWrZwLYhLLE",
    "outputId": "3545540b-fa05-4a28-e818-7816c2b5b6bb"
   },
   "outputs": [],
   "source": [
    "generateDescriptions(myPersons)"
   ]
  },
  {
   "cell_type": "code",
   "execution_count": null,
   "metadata": {
    "colab": {
     "base_uri": "https://localhost:8080/"
    },
    "executionInfo": {
     "elapsed": 16,
     "status": "ok",
     "timestamp": 1639579318048,
     "user": {
      "displayName": "Stefan Am Ende",
      "photoUrl": "https://lh3.googleusercontent.com/a-/AOh14Gj_hrHvJQnAnrHGOcz9J_HX56sCTip0nW2cK7npZQ=s64",
      "userId": "15393709540815104118"
     },
     "user_tz": -60
    },
    "id": "iXmYd5bI8GbU",
    "outputId": "aaf4964b-8d3c-4451-9fb1-1dac975b6a97"
   },
   "outputs": [],
   "source": [
    "for person in myPersons:\n",
    "    person.showProperties()"
   ]
  },
  {
   "cell_type": "code",
   "execution_count": null,
   "metadata": {},
   "outputs": [],
   "source": [
    "generate('La Strada | published | 1954 && La strada | director | Federico Fellini', model, tokenizer)"
   ]
  },
  {
   "cell_type": "code",
   "execution_count": null,
   "metadata": {},
   "outputs": [],
   "source": [
    "generate('Meju | fermented soybean bricks', model, tokenizer)"
   ]
  },
  {
   "cell_type": "code",
   "execution_count": null,
   "metadata": {},
   "outputs": [],
   "source": [
    "generate('lumpia Semarang | spring roll from Indonesia', model, tokenizer)"
   ]
  },
  {
   "cell_type": "code",
   "execution_count": 3,
   "metadata": {},
   "outputs": [
    {
     "data": {
      "text/plain": [
       "0.9496366940438747"
      ]
     },
     "execution_count": 3,
     "metadata": {},
     "output_type": "execute_result"
    }
   ],
   "source": [
    "word2vecModel.distance('judo','nice')"
   ]
  },
  {
   "cell_type": "code",
   "execution_count": 1,
   "metadata": {},
   "outputs": [
    {
     "ename": "NameError",
     "evalue": "name 'word2vecModel' is not defined",
     "output_type": "error",
     "traceback": [
      "\u001b[0;31m---------------------------------------------------------------------------\u001b[0m",
      "\u001b[0;31mNameError\u001b[0m                                 Traceback (most recent call last)",
      "\u001b[0;32m/tmp/ipykernel_7592/3987446563.py\u001b[0m in \u001b[0;36m<module>\u001b[0;34m\u001b[0m\n\u001b[0;32m----> 1\u001b[0;31m \u001b[0mword2vecModel\u001b[0m\u001b[0;34m.\u001b[0m\u001b[0mmost_similar\u001b[0m\u001b[0;34m(\u001b[0m\u001b[0mpositive\u001b[0m\u001b[0;34m=\u001b[0m\u001b[0;34m[\u001b[0m\u001b[0;34m'university'\u001b[0m\u001b[0;34m]\u001b[0m\u001b[0;34m,\u001b[0m \u001b[0mtopn\u001b[0m \u001b[0;34m=\u001b[0m \u001b[0;36m3\u001b[0m\u001b[0;34m)\u001b[0m\u001b[0;34m\u001b[0m\u001b[0;34m\u001b[0m\u001b[0m\n\u001b[0m",
      "\u001b[0;31mNameError\u001b[0m: name 'word2vecModel' is not defined"
     ]
    }
   ],
   "source": [
    "word2vecModel.most_similar(positive=['university'], topn = 3)"
   ]
  },
  {
   "cell_type": "code",
   "execution_count": null,
   "metadata": {},
   "outputs": [],
   "source": []
  }
 ],
 "metadata": {
  "colab": {
   "collapsed_sections": [],
   "name": "projet tatia.ipynb",
   "provenance": []
  },
  "kernelspec": {
   "display_name": "Python 3 (ipykernel)",
   "language": "python",
   "name": "python3"
  },
  "language_info": {
   "codemirror_mode": {
    "name": "ipython",
    "version": 3
   },
   "file_extension": ".py",
   "mimetype": "text/x-python",
   "name": "python",
   "nbconvert_exporter": "python",
   "pygments_lexer": "ipython3",
   "version": "3.9.7"
  }
 },
 "nbformat": 4,
 "nbformat_minor": 1
}
