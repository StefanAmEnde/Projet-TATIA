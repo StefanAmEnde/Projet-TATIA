{
 "cells": [
  {
   "cell_type": "code",
   "execution_count": 1,
   "metadata": {
    "colab": {
     "base_uri": "https://localhost:8080/"
    },
    "executionInfo": {
     "elapsed": 3732,
     "status": "ok",
     "timestamp": 1639579251708,
     "user": {
      "displayName": "Stefan Am Ende",
      "photoUrl": "https://lh3.googleusercontent.com/a-/AOh14Gj_hrHvJQnAnrHGOcz9J_HX56sCTip0nW2cK7npZQ=s64",
      "userId": "15393709540815104118"
     },
     "user_tz": -60
    },
    "id": "oGgWU9Mh4kbi",
    "outputId": "5e74c7bb-c761-477a-afad-14a9f455dfcf"
   },
   "outputs": [
    {
     "name": "stdout",
     "output_type": "stream",
     "text": [
      "Requirement already satisfied: SPARQLWrapper in c:\\programdata\\anaconda3\\lib\\site-packages (1.8.5)\n",
      "Requirement already satisfied: rdflib>=4.0 in c:\\programdata\\anaconda3\\lib\\site-packages (from SPARQLWrapper) (6.0.2)\n",
      "Requirement already satisfied: pyparsing in c:\\programdata\\anaconda3\\lib\\site-packages (from rdflib>=4.0->SPARQLWrapper) (3.0.4)\n",
      "Requirement already satisfied: isodate in c:\\programdata\\anaconda3\\lib\\site-packages (from rdflib>=4.0->SPARQLWrapper) (0.6.1)\n",
      "Requirement already satisfied: setuptools in c:\\programdata\\anaconda3\\lib\\site-packages (from rdflib>=4.0->SPARQLWrapper) (58.0.4)\n",
      "Requirement already satisfied: six in c:\\programdata\\anaconda3\\lib\\site-packages (from isodate->rdflib>=4.0->SPARQLWrapper) (1.16.0)\n",
      "Note: you may need to restart the kernel to use updated packages.\n"
     ]
    },
    {
     "name": "stderr",
     "output_type": "stream",
     "text": [
      "WARNING: Ignoring invalid distribution -ython (c:\\programdata\\anaconda3\\lib\\site-packages)\n",
      "WARNING: Ignoring invalid distribution -ltk (c:\\programdata\\anaconda3\\lib\\site-packages)\n",
      "WARNING: Ignoring invalid distribution - (c:\\programdata\\anaconda3\\lib\\site-packages)\n",
      "WARNING: Ignoring invalid distribution -ython (c:\\programdata\\anaconda3\\lib\\site-packages)\n",
      "WARNING: Ignoring invalid distribution -ltk (c:\\programdata\\anaconda3\\lib\\site-packages)\n",
      "WARNING: Ignoring invalid distribution - (c:\\programdata\\anaconda3\\lib\\site-packages)\n",
      "WARNING: Ignoring invalid distribution -ython (c:\\programdata\\anaconda3\\lib\\site-packages)\n",
      "WARNING: Ignoring invalid distribution -ltk (c:\\programdata\\anaconda3\\lib\\site-packages)\n",
      "WARNING: Ignoring invalid distribution - (c:\\programdata\\anaconda3\\lib\\site-packages)\n",
      "WARNING: Ignoring invalid distribution -ython (c:\\programdata\\anaconda3\\lib\\site-packages)\n",
      "WARNING: Ignoring invalid distribution -ltk (c:\\programdata\\anaconda3\\lib\\site-packages)\n",
      "WARNING: Ignoring invalid distribution - (c:\\programdata\\anaconda3\\lib\\site-packages)\n",
      "WARNING: Ignoring invalid distribution -ython (c:\\programdata\\anaconda3\\lib\\site-packages)\n",
      "WARNING: Ignoring invalid distribution -ltk (c:\\programdata\\anaconda3\\lib\\site-packages)\n",
      "WARNING: Ignoring invalid distribution - (c:\\programdata\\anaconda3\\lib\\site-packages)\n"
     ]
    }
   ],
   "source": [
    "pip install SPARQLWrapper"
   ]
  },
  {
   "cell_type": "code",
   "execution_count": 2,
   "metadata": {
    "executionInfo": {
     "elapsed": 8,
     "status": "ok",
     "timestamp": 1639579251708,
     "user": {
      "displayName": "Stefan Am Ende",
      "photoUrl": "https://lh3.googleusercontent.com/a-/AOh14Gj_hrHvJQnAnrHGOcz9J_HX56sCTip0nW2cK7npZQ=s64",
      "userId": "15393709540815104118"
     },
     "user_tz": -60
    },
    "id": "pw-yCMECBUAW"
   },
   "outputs": [],
   "source": [
    "import random\n",
    "from SPARQLWrapper import SPARQLWrapper, JSON"
   ]
  },
  {
   "cell_type": "code",
   "execution_count": 3,
   "metadata": {
    "executionInfo": {
     "elapsed": 8,
     "status": "ok",
     "timestamp": 1639579251709,
     "user": {
      "displayName": "Stefan Am Ende",
      "photoUrl": "https://lh3.googleusercontent.com/a-/AOh14Gj_hrHvJQnAnrHGOcz9J_HX56sCTip0nW2cK7npZQ=s64",
      "userId": "15393709540815104118"
     },
     "user_tz": -60
    },
    "id": "0UP47mV-BYVg"
   },
   "outputs": [],
   "source": [
    "sparql = SPARQLWrapper(\"https://query.wikidata.org/sparql\",agent=\"Mozilla/5.0 (X11; Linux x86_64) AppleWebKit/537.11 (KHTML, like Gecko) Chrome/23.0.1271.64 Safari/537.11\")"
   ]
  },
  {
   "cell_type": "code",
   "execution_count": 4,
   "metadata": {
    "executionInfo": {
     "elapsed": 7,
     "status": "ok",
     "timestamp": 1639579251709,
     "user": {
      "displayName": "Stefan Am Ende",
      "photoUrl": "https://lh3.googleusercontent.com/a-/AOh14Gj_hrHvJQnAnrHGOcz9J_HX56sCTip0nW2cK7npZQ=s64",
      "userId": "15393709540815104118"
     },
     "user_tz": -60
    },
    "id": "jK9g6z6_BewI"
   },
   "outputs": [],
   "source": [
    "def research(Qid):\n",
    "    sparql.setQuery(\"\"\"\n",
    "    SELECT ?item ?itemLabel\n",
    "    WHERE \n",
    "    {\n",
    "      ?item wdt:P31 wd:\"\"\" + Qid + \"\"\". #on pourais rajouté des obligation de référance à des payes etc\n",
    "      SERVICE wikibase:label { bd:serviceParam wikibase:language \"[AUTO_LANGUAGE],en\". } # le label viendra de préférence dans votre langue, et autrement en anglais\n",
    "      \n",
    "    }LIMIT 1000\n",
    "    \"\"\")\n",
    "    #/wdt:P31/wdt:P279\n",
    "    \n",
    "    sparql.setReturnFormat(JSON)\n",
    "    results = sparql.query().convert()\n",
    "    mydict = []\n",
    "    for result in results[\"results\"][\"bindings\"]:\n",
    "        # ne prend pas ce ou il y a pas de nom ajouté\n",
    "        if(result[\"itemLabel\"][\"value\"][0]!=\"Q\"):                                   \n",
    "            mydict.append(result[\"itemLabel\"][\"value\"])\n",
    "            \n",
    "    return mydict"
   ]
  },
  {
   "cell_type": "code",
   "execution_count": 5,
   "metadata": {
    "executionInfo": {
     "elapsed": 8,
     "status": "ok",
     "timestamp": 1639579251710,
     "user": {
      "displayName": "Stefan Am Ende",
      "photoUrl": "https://lh3.googleusercontent.com/a-/AOh14Gj_hrHvJQnAnrHGOcz9J_HX56sCTip0nW2cK7npZQ=s64",
      "userId": "15393709540815104118"
     },
     "user_tz": -60
    },
    "id": "2m3t8Je8Bg3p"
   },
   "outputs": [],
   "source": [
    "listofidqHuman = ['Q22808320', 'Q571', 'Q31629', 'Q188451', 'Q192581', 'Q11424', 'Q11410', 'Q2095', 'Q3624078']\n"
   ]
  },
  {
   "cell_type": "code",
   "execution_count": 6,
   "metadata": {
    "executionInfo": {
     "elapsed": 8956,
     "status": "ok",
     "timestamp": 1639579260659,
     "user": {
      "displayName": "Stefan Am Ende",
      "photoUrl": "https://lh3.googleusercontent.com/a-/AOh14Gj_hrHvJQnAnrHGOcz9J_HX56sCTip0nW2cK7npZQ=s64",
      "userId": "15393709540815104118"
     },
     "user_tz": -60
    },
    "id": "H_xrM79NB-35"
   },
   "outputs": [],
   "source": [
    "description=[]\n",
    "for i in range(len(listofidqHuman)):\n",
    "    description.append(research(listofidqHuman[i]))"
   ]
  },
  {
   "cell_type": "code",
   "execution_count": 7,
   "metadata": {
    "colab": {
     "base_uri": "https://localhost:8080/"
    },
    "executionInfo": {
     "elapsed": 4058,
     "status": "ok",
     "timestamp": 1639579264712,
     "user": {
      "displayName": "Stefan Am Ende",
      "photoUrl": "https://lh3.googleusercontent.com/a-/AOh14Gj_hrHvJQnAnrHGOcz9J_HX56sCTip0nW2cK7npZQ=s64",
      "userId": "15393709540815104118"
     },
     "user_tz": -60
    },
    "id": "gZn3Qx3KIlr7",
    "outputId": "73f6340d-78f5-4f44-fba4-7db07f3d996d"
   },
   "outputs": [],
   "source": [
    "import torch\n",
    "from transformers import T5Tokenizer, T5ForConditionalGeneration,Adafactor"
   ]
  },
  {
   "cell_type": "code",
   "execution_count": 8,
   "metadata": {
    "colab": {
     "base_uri": "https://localhost:8080/"
    },
    "executionInfo": {
     "elapsed": 2565,
     "status": "ok",
     "timestamp": 1639579267271,
     "user": {
      "displayName": "Stefan Am Ende",
      "photoUrl": "https://lh3.googleusercontent.com/a-/AOh14Gj_hrHvJQnAnrHGOcz9J_HX56sCTip0nW2cK7npZQ=s64",
      "userId": "15393709540815104118"
     },
     "user_tz": -60
    },
    "id": "qkJL-bO9Ix2D",
    "outputId": "4a3d0201-0180-4377-ffa4-ec6ba4991ed3"
   },
   "outputs": [],
   "source": [
    "model_path = \"./models/\""
   ]
  },
  {
   "cell_type": "code",
   "execution_count": 9,
   "metadata": {
    "executionInfo": {
     "elapsed": 14185,
     "status": "ok",
     "timestamp": 1639579281453,
     "user": {
      "displayName": "Stefan Am Ende",
      "photoUrl": "https://lh3.googleusercontent.com/a-/AOh14Gj_hrHvJQnAnrHGOcz9J_HX56sCTip0nW2cK7npZQ=s64",
      "userId": "15393709540815104118"
     },
     "user_tz": -60
    },
    "id": "T12-NpP2JSQk"
   },
   "outputs": [],
   "source": [
    "tokenizer = T5Tokenizer.from_pretrained(model_path)\n",
    "model =T5ForConditionalGeneration.from_pretrained(model_path, return_dict=True)"
   ]
  },
  {
   "cell_type": "code",
   "execution_count": 10,
   "metadata": {
    "executionInfo": {
     "elapsed": 12,
     "status": "ok",
     "timestamp": 1639579281454,
     "user": {
      "displayName": "Stefan Am Ende",
      "photoUrl": "https://lh3.googleusercontent.com/a-/AOh14Gj_hrHvJQnAnrHGOcz9J_HX56sCTip0nW2cK7npZQ=s64",
      "userId": "15393709540815104118"
     },
     "user_tz": -60
    },
    "id": "Y2FcHZP3KDil"
   },
   "outputs": [],
   "source": [
    "def generate(text,model,tokenizer):\n",
    "    model.eval()\n",
    "    input_ids = tokenizer.encode(\"WebNLG:{} </s>\".format(text), return_tensors=\"pt\")  \n",
    "    outputs = model.generate(input_ids, max_length=300, temperature=0.1)\n",
    "    return tokenizer.decode(outputs[0])"
   ]
  },
  {
   "cell_type": "code",
   "execution_count": 11,
   "metadata": {
    "executionInfo": {
     "elapsed": 11,
     "status": "ok",
     "timestamp": 1639579281454,
     "user": {
      "displayName": "Stefan Am Ende",
      "photoUrl": "https://lh3.googleusercontent.com/a-/AOh14Gj_hrHvJQnAnrHGOcz9J_HX56sCTip0nW2cK7npZQ=s64",
      "userId": "15393709540815104118"
     },
     "user_tz": -60
    },
    "id": "d_lByTihSY4Y"
   },
   "outputs": [],
   "source": [
    "import unicodedata"
   ]
  },
  {
   "cell_type": "code",
   "execution_count": 12,
   "metadata": {},
   "outputs": [
    {
     "name": "stdout",
     "output_type": "stream",
     "text": [
      "Requirement already satisfied: gensim in c:\\programdata\\anaconda3\\lib\\site-packages (4.1.2)\n",
      "Requirement already satisfied: smart-open>=1.8.1 in c:\\programdata\\anaconda3\\lib\\site-packages (from gensim) (5.2.1)\n",
      "Requirement already satisfied: scipy>=0.18.1 in c:\\programdata\\anaconda3\\lib\\site-packages (from gensim) (1.7.1)\n",
      "Requirement already satisfied: numpy>=1.17.0 in c:\\programdata\\anaconda3\\lib\\site-packages (from gensim) (1.20.3)\n",
      "Requirement already satisfied: Cython==0.29.23 in c:\\programdata\\anaconda3\\lib\\site-packages (from gensim) (0.29.23)\n",
      "Note: you may need to restart the kernel to use updated packages.\n"
     ]
    },
    {
     "name": "stderr",
     "output_type": "stream",
     "text": [
      "WARNING: Ignoring invalid distribution -ython (c:\\programdata\\anaconda3\\lib\\site-packages)\n",
      "WARNING: Ignoring invalid distribution -ltk (c:\\programdata\\anaconda3\\lib\\site-packages)\n",
      "WARNING: Ignoring invalid distribution - (c:\\programdata\\anaconda3\\lib\\site-packages)\n",
      "WARNING: Ignoring invalid distribution -ython (c:\\programdata\\anaconda3\\lib\\site-packages)\n",
      "WARNING: Ignoring invalid distribution -ltk (c:\\programdata\\anaconda3\\lib\\site-packages)\n",
      "WARNING: Ignoring invalid distribution - (c:\\programdata\\anaconda3\\lib\\site-packages)\n",
      "WARNING: Ignoring invalid distribution -ython (c:\\programdata\\anaconda3\\lib\\site-packages)\n",
      "WARNING: Ignoring invalid distribution -ltk (c:\\programdata\\anaconda3\\lib\\site-packages)\n",
      "WARNING: Ignoring invalid distribution - (c:\\programdata\\anaconda3\\lib\\site-packages)\n",
      "WARNING: Ignoring invalid distribution -ython (c:\\programdata\\anaconda3\\lib\\site-packages)\n",
      "WARNING: Ignoring invalid distribution -ltk (c:\\programdata\\anaconda3\\lib\\site-packages)\n",
      "WARNING: Ignoring invalid distribution - (c:\\programdata\\anaconda3\\lib\\site-packages)\n",
      "WARNING: Ignoring invalid distribution -ython (c:\\programdata\\anaconda3\\lib\\site-packages)\n",
      "WARNING: Ignoring invalid distribution -ltk (c:\\programdata\\anaconda3\\lib\\site-packages)\n",
      "WARNING: Ignoring invalid distribution - (c:\\programdata\\anaconda3\\lib\\site-packages)\n"
     ]
    }
   ],
   "source": [
    "pip install gensim"
   ]
  },
  {
   "cell_type": "code",
   "execution_count": 13,
   "metadata": {},
   "outputs": [],
   "source": [
    "import gensim\n",
    "\n",
    "# Load Google's pre-trained Word2Vec model.\n",
    "word2vecModel = gensim.models.KeyedVectors.load_word2vec_format(model_path+'GoogleNews-vectors-negative300.bin', binary=True) "
   ]
  },
  {
   "cell_type": "code",
   "execution_count": 14,
   "metadata": {},
   "outputs": [],
   "source": [
    "#topics contient les sujets pour lesquels il y a des méthodes pour le dialogue\n",
    "#quand on implémente des nouvelles méthodes il faut rajouter le sujet ici\n",
    "topics=['music', 'job', 'food', 'game', 'sport', 'book', 'film']"
   ]
  },
  {
   "cell_type": "code",
   "execution_count": 83,
   "metadata": {
    "executionInfo": {
     "elapsed": 556,
     "status": "ok",
     "timestamp": 1639582644530,
     "user": {
      "displayName": "Stefan Am Ende",
      "photoUrl": "https://lh3.googleusercontent.com/a-/AOh14Gj_hrHvJQnAnrHGOcz9J_HX56sCTip0nW2cK7npZQ=s64",
      "userId": "15393709540815104118"
     },
     "user_tz": -60
    },
    "id": "epRB2c2SCFOL"
   },
   "outputs": [],
   "source": [
    "class Person:\n",
    "    \n",
    "    def __init__(self):\n",
    "        self.age = random.randint(18, 80)\n",
    "        self.name = unicodedata.normalize('NFD', random.choice(description[0])).encode('ascii', 'ignore').decode('utf-8')\n",
    "        self.book = unicodedata.normalize('NFD', random.choice(description[1])).encode('ascii', 'ignore').decode('utf-8')\n",
    "        self.sport = unicodedata.normalize('NFD', random.choice(description[2])).encode('ascii', 'ignore').decode('utf-8')\n",
    "        self.music = unicodedata.normalize('NFD', random.choice(description[3])).encode('ascii', 'ignore').decode('utf-8')\n",
    "        self.job = unicodedata.normalize('NFD', random.choice(description[4])).encode('ascii', 'ignore').decode('utf-8')\n",
    "        self.film =  unicodedata.normalize('NFD', random.choice(description[5])).encode('ascii', 'ignore').decode('utf-8')\n",
    "        self.game =  unicodedata.normalize('NFD', random.choice(description[6])).encode('ascii', 'ignore').decode('utf-8')\n",
    "        self.food =  unicodedata.normalize('NFD', random.choice(description[7])).encode('ascii', 'ignore').decode('utf-8')\n",
    "        self.country = unicodedata.normalize('NFD', random.choice(description[8])).encode('ascii', 'ignore').decode('utf-8')\n",
    "        self.passedTopics=[]\n",
    "        \n",
    "    def refresh(self):\n",
    "        self.passedTopics=[]\n",
    "        \n",
    "    def generateDescription(self):\n",
    "        surname=self.name.split(' ')[0]\n",
    "        string=self.name+' | age | '+str(self.age)+' && '+self.name+' | country | '+self.country\n",
    "        print(generate(string, model, tokenizer))\n",
    "        string=surname+' | job | '+self.job\n",
    "        print(generate(string, model, tokenizer))\n",
    "        string=surname+' | favouriteBook | '+self.book\n",
    "        print(generate(string, model, tokenizer))\n",
    "        string=surname+' | favouriteSport | '+self.sport\n",
    "        print(generate(string, model, tokenizer))\n",
    "        string=surname+' | favouriteMusic | '+self.music\n",
    "        print(generate(string, model, tokenizer))\n",
    "        string=surname+' | favouriteFilm | '+self.film\n",
    "        print(generate(string, model, tokenizer))\n",
    "        string=surname+' | favouriteGame | '+self.game\n",
    "        print(generate(string, model, tokenizer))\n",
    "        string=surname+' | favouriteFood | '+self.food\n",
    "        print(generate(string, model, tokenizer))\n",
    "\n",
    "    def showProperties(self):\n",
    "        print('name: '+self.name+'\\nage: '+str(self.age)+'\\ncountry: '+self.country+'\\njob: '+self.job+'\\nbook: '+self.book+'\\nsport: '+self.sport+'\\nmusic: '+self.music+'\\nfilm: '+self.film+'\\ngame: '+self.game+'\\nfood: '+self.food+'\\n')\n",
    "        \n",
    "    def introduce(self):\n",
    "        text=self.name.split(' ')[0]+':   '\n",
    "\n",
    "        #Greeting\n",
    "        rand=random.randint(0,3)\n",
    "        if rand==0:\n",
    "            text+='Hello, '\n",
    "        elif rand==1:\n",
    "            text+='Hi, '\n",
    "        elif rand==2:\n",
    "            text+='Hey, '\n",
    "        elif rand==3:\n",
    "            text+='Good day, '\n",
    "      \n",
    "        #Name\n",
    "        rand=random.randint(0,2)\n",
    "        if rand==0:\n",
    "            text+=\"I'm \"\n",
    "        elif rand==1:\n",
    "            text+=\"I am \"\n",
    "        elif rand==2:\n",
    "            text+=\"my name is \"\n",
    "        text+=self.name+', '\n",
    "\n",
    "        #Age\n",
    "        rand=random.randint(0,1)\n",
    "        if rand==0:\n",
    "            text+='I am '\n",
    "        elif rand==1:\n",
    "            text+=\"I'm \"\n",
    "        text+=str(self.age)+' years old '\n",
    "\n",
    "        #Country\n",
    "        rand=random.randint(0,3)\n",
    "        if rand==0:\n",
    "            text+=\"and I'm from \"\n",
    "        elif rand==1:\n",
    "            text+=\"and I am from \"\n",
    "        elif rand==2:\n",
    "            text+=\"and I come from \"\n",
    "        elif rand==3:\n",
    "            text+=\"and I live in \"\n",
    "        text+=self.country+'.'\n",
    "\n",
    "        print(text)\n",
    "\n",
    "    def tellYourFavouriteFood(self):\n",
    "        text=''\n",
    "        rand=random.randint(0,4)\n",
    "        if rand==0:\n",
    "            text+='My favourite food is '\n",
    "        elif rand==1:\n",
    "            text+='I like to eat '\n",
    "        elif rand==2:\n",
    "            text+='I love '\n",
    "        elif rand==3:\n",
    "            text+='My favourite dish is '\n",
    "        elif rand==4:\n",
    "            text+='I really enjoy '\n",
    "        text+=self.food+'.'\n",
    "        return text\n",
    "\n",
    "    def startTopicFood(self):\n",
    "        name=self.name.split(' ')[0]+':   '\n",
    "        text=self.tellYourFavouriteFood()+' '\n",
    "        #Ask the others about their favourite food\n",
    "        rand=random.randint(0,4)\n",
    "        if rand==0:\n",
    "            text+='What is your favourite food?'\n",
    "        elif rand==1:\n",
    "            text+='What do you like to eat most?'\n",
    "        elif rand==2:\n",
    "            text+='What is your preferred dish?'\n",
    "        elif rand==3:\n",
    "            text+='What is your favourite dish?'\n",
    "        elif rand==4:\n",
    "            text+='Which food do you enjoy most?'\n",
    "        print(name+text)\n",
    "        return text\n",
    "\n",
    "    def tellYourJob(self):\n",
    "        text=''\n",
    "        rand=random.randint(0,4)\n",
    "        if rand==0:\n",
    "            text+='I work as a '\n",
    "        elif rand==1:\n",
    "            text+='I am '\n",
    "        elif rand==2:\n",
    "            text+=\"I'm \"\n",
    "        elif rand==3:\n",
    "            text+='My job is '\n",
    "        elif rand==4:\n",
    "            text+='I make a living from working as a '\n",
    "        text+=self.optimizeJob(self.job)+'.'\n",
    "        return text\n",
    "    \n",
    "    def optimizeJob(self, job):\n",
    "        split=job.split(' ')\n",
    "        for i in range(len(split)):\n",
    "            if split[i]=='management':\n",
    "                split[i]='manager'\n",
    "            elif split[i]=='support':\n",
    "                split[i]='supporter'\n",
    "            elif split[i]=='therapy':\n",
    "                split[i]='therapist'\n",
    "            elif split[i]=='supervision':\n",
    "                split[i]='supervisor'\n",
    "            elif split[i]=='scouting':\n",
    "                split[i]='scout'\n",
    "        optimizedJob=''\n",
    "        for word in split:\n",
    "            optimizedJob+=word+' '\n",
    "        optimizedJob=optimizedJob[:len(optimizedJob)-1]\n",
    "        return optimizedJob\n",
    "\n",
    "    def startTopicJob(self):\n",
    "        name=self.name.split(' ')[0]+':   '\n",
    "        text=self.tellYourJob()+' '\n",
    "        #Ask the others about their job\n",
    "        rand=random.randint(0,4)\n",
    "        if rand==0:\n",
    "            text+='What is your job?'\n",
    "        elif rand==1:\n",
    "            text+='What are you doing for a living?'\n",
    "        elif rand==2:\n",
    "            text+='What are you working?'\n",
    "        elif rand==3:\n",
    "            text+='What do you do?'\n",
    "        elif rand==4:\n",
    "            text+='What do you work as?'\n",
    "        print(name+text)\n",
    "        return text\n",
    "\n",
    "    def tellYourFavouriteMusic(self):\n",
    "        text=''\n",
    "        rand=random.randint(0,5)\n",
    "        if rand==0:\n",
    "            text+='My favourite music is '\n",
    "        elif rand==1:\n",
    "            text+='I like listening to '\n",
    "        elif rand==2:\n",
    "            text+='I like '\n",
    "        elif rand==3:\n",
    "            text+='My favourite music genre is '\n",
    "        elif rand==4:\n",
    "            text+='I really enjoy listening to '\n",
    "        elif rand==5:\n",
    "            text+='I usually listen to '\n",
    "        text+=self.music+'.'\n",
    "        return text\n",
    "\n",
    "    def startTopicMusic(self):\n",
    "        name=self.name.split(' ')[0]+':   '\n",
    "        text=self.tellYourFavouriteMusic()+' '\n",
    "        #Ask the others about their favourite music\n",
    "        rand=random.randint(0,4)\n",
    "        if rand==0:\n",
    "            text+='What is your favourite music?'\n",
    "        elif rand==1:\n",
    "            text+='What do you like to listen to?'\n",
    "        elif rand==2:\n",
    "            text+='What is your favourite music genre?'\n",
    "        elif rand==3:\n",
    "            text+='What music do you like to listen to?'\n",
    "        elif rand==4:\n",
    "            text+='Which type of music do you enjoy most?'\n",
    "        print(name+text)\n",
    "        return text\n",
    "        \n",
    "    def tellYourFavouriteGame(self):\n",
    "        text=''\n",
    "        rand=random.randint(0,5)\n",
    "        if rand==0:\n",
    "            text+='My favourite game is '\n",
    "        elif rand==1:\n",
    "            text+='I like playing '\n",
    "        elif rand==2:\n",
    "            text+='I like '\n",
    "        elif rand==3:\n",
    "            text+='I like to play '\n",
    "        elif rand==4:\n",
    "            text+='I really enjoy playing '\n",
    "        elif rand==5:\n",
    "            text+='I often play '\n",
    "        text+=self.game+'.'\n",
    "        return text\n",
    "\n",
    "    def startTopicGame(self):\n",
    "        name=self.name.split(' ')[0]+':   '\n",
    "        text=self.tellYourFavouriteGame()+' '\n",
    "        #Ask the others about their favourite game\n",
    "        rand=random.randint(0,4)\n",
    "        if rand==0:\n",
    "            text+='What is your favourite game?'\n",
    "        elif rand==1:\n",
    "            text+='What do you like to play?'\n",
    "        elif rand==2:\n",
    "            text+='Which games do you play?'\n",
    "        elif rand==3:\n",
    "            text+='Are there games that you like to play?'\n",
    "        elif rand==4:\n",
    "            text+='Which game do you enjoy most?'\n",
    "        print(name+text)\n",
    "        return text\n",
    "        \n",
    "    def tellYourFavouriteSport(self):\n",
    "        text=''\n",
    "        rand=random.randint(0,9)\n",
    "        if rand==0:\n",
    "            text+='My favourite sport is '\n",
    "        elif rand==1:\n",
    "            text+='I like playing '\n",
    "        elif rand==2:\n",
    "            text+='I like '\n",
    "        elif rand==3:\n",
    "            text+='I like to play '\n",
    "        elif rand==4:\n",
    "            text+='I really enjoy playing '\n",
    "        elif rand==5:\n",
    "            text+='I often play '\n",
    "        elif rand==6:\n",
    "            text+='I like watching '\n",
    "        elif rand==7:\n",
    "            text+='I like to watch '\n",
    "        elif rand==8:\n",
    "            text+='I\\'m a fan of '\n",
    "        elif rand==9:\n",
    "            text+='I\\'m a '+self.sport+' fan.'\n",
    "        if not rand==9:\n",
    "            text+=self.sport+'.'\n",
    "        return text\n",
    "\n",
    "    def startTopicSport(self):\n",
    "        name=self.name.split(' ')[0]+':   '\n",
    "        text=self.tellYourFavouriteSport()+' '\n",
    "        #Ask the others about their favourite sport\n",
    "        rand=random.randint(0,4)\n",
    "        if rand==0:\n",
    "            text+='What is your favourite sport?'\n",
    "        elif rand==1:\n",
    "            text+='Are you a sports fan?'\n",
    "        elif rand==2:\n",
    "            text+='Which sport are you interested in?'\n",
    "        elif rand==3:\n",
    "            text+='What is your preferred sport?'\n",
    "        elif rand==4:\n",
    "            text+='Which kind of sport do you like most?'\n",
    "        print(name+text)\n",
    "        return text\n",
    "        \n",
    "    def tellYourFavouriteFilm(self):\n",
    "        text=''\n",
    "        rand=random.randint(0,4)\n",
    "        if rand==0:\n",
    "            text+='My favourite film is '\n",
    "        elif rand==1:\n",
    "            text+='I really liked the film '\n",
    "        elif rand==2:\n",
    "            text+='I really enjoyed watching the film '\n",
    "        elif rand==3:\n",
    "            text+='I like films like '\n",
    "        text+=self.film\n",
    "        if rand<4:\n",
    "            text+='.'\n",
    "        elif rand==4:\n",
    "            text+=' was the film that I liked most.'\n",
    "        return text\n",
    "    \n",
    "    def startTopicFilm(self):\n",
    "        name=self.name.split(' ')[0]+':   '\n",
    "        text=self.tellYourFavouriteFilm()+' '\n",
    "        rand=random.randint(0,3)\n",
    "        if rand==0:\n",
    "            text+='What is your favourite film?'\n",
    "        elif rand==1:\n",
    "            text+='Which film did you like most?'\n",
    "        elif rand==2:\n",
    "            text+='Which films do watch?'\n",
    "        elif rand==3:\n",
    "            text+='Which film did you enjoy most?'\n",
    "        print(name+text)\n",
    "        return text\n",
    "        \n",
    "    def tellYourFavouriteBook(self):\n",
    "        text=''\n",
    "        rand=random.randint(0,5)\n",
    "        if rand==0:\n",
    "            text+='My favourite book is '\n",
    "        elif rand==1:\n",
    "            text+='I really like the book '\n",
    "        elif rand==2:\n",
    "            text+='I enjoyed reading the book '\n",
    "        elif rand==3:\n",
    "            text+='I am currently reading '\n",
    "        elif rand==4:\n",
    "            text+='I like the book '\n",
    "        elif rand==5:\n",
    "            text+='I find '\n",
    "        text+=self.book\n",
    "        if rand<3:\n",
    "            text+='.'\n",
    "        elif rand==3:\n",
    "            text+=' and i really like it.'\n",
    "        elif rand==4:\n",
    "            text+=' a lot.'\n",
    "        elif rand==5:\n",
    "            text+=' is a pretty good book.'\n",
    "        return text\n",
    "    \n",
    "    def startTopicBook(self):\n",
    "        name=self.name.split(' ')[0]+':   '\n",
    "        text=self.tellYourFavouriteBook()+' '\n",
    "        rand=random.randint(0,4)\n",
    "        if rand==0:\n",
    "            text+='What is your favourite book?'\n",
    "        elif rand==1:\n",
    "            text+='What do you like to read?'\n",
    "        elif rand==2:\n",
    "            text+='Which kind of books do you like?'\n",
    "        elif rand==3:\n",
    "            text+='Do you read books?'\n",
    "        elif rand==4:\n",
    "            text+='Which book do you like most?'\n",
    "        print(name+text)\n",
    "        return text\n",
    "\n",
    "    def respond(self, message):\n",
    "        understood=False\n",
    "        text=self.name.split(' ')[0]+':   '\n",
    "        phrases = []\n",
    "        questions = []\n",
    "        words = \"\"\n",
    "        for letter in message:\n",
    "            if(letter == '.' or letter == '!'):\n",
    "                phrases.append(words)\n",
    "                #print(words + \" -> is a phrase\")\n",
    "                words = \"\"\n",
    "            elif(letter == '?'):\n",
    "                questions.append(words)\n",
    "                #print(words + \" -> is a question\")\n",
    "                words = \"\"\n",
    "            else:    \n",
    "                words+=letter   \n",
    "        \n",
    "        SWITCH_DICT={\n",
    "            'sport':self.tellYourFavouriteSport,\n",
    "            'music':self.tellYourFavouriteMusic,\n",
    "            'job':self.tellYourJob,\n",
    "            'game':self.tellYourFavouriteGame,\n",
    "            'food':self.tellYourFavouriteFood,\n",
    "            'film':self.tellYourFavouriteFilm,\n",
    "            'book':self.tellYourFavouriteBook\n",
    "        }\n",
    "        \n",
    "        #récupérer les sujets des questions et répondre à une\n",
    "        topicsquestions = []\n",
    "        if(len(questions)!= 0):\n",
    "            for question in questions:\n",
    "                guessedTopic=self.guessTopic(question)\n",
    "                if not guessedTopic==None:\n",
    "                    understood=True\n",
    "                    if not guessedTopic in self.passedTopics:\n",
    "                        topicsquestions.append(guessedTopic)\n",
    "        if(len(topicsquestions)!=0):\n",
    "            rand=random.randint(0,len(topicsquestions)-1)\n",
    "            topic=topicsquestions[rand]\n",
    "            self.passedTopics.append(topic)\n",
    "            text+=SWITCH_DICT.get(topic)()\n",
    "            \n",
    "        #récupérer les sujets des autres phrases et répondre à une\n",
    "        topicsphrases = []    \n",
    "        if(len(phrases) != 0):\n",
    "            for phrase in phrases:\n",
    "                guessedTopic=self.guessTopic(phrase)\n",
    "                if not guessedTopic==None:\n",
    "                    understood=True\n",
    "                    if not guessedTopic in self.passedTopics:\n",
    "                        topicsphrases.append(guessedTopic)\n",
    "        if(len(topicsphrases)!=0):\n",
    "            rand=random.randint(0,len(topicsphrases)-1)\n",
    "            topic=topicsphrases[rand]\n",
    "            if(len(topicsquestions)!=0): \n",
    "                text+=' '\n",
    "            self.passedTopics.append(topic)\n",
    "            text+=SWITCH_DICT.get(topic)()\n",
    "            \n",
    "        #répondre qu'on n'a pas compris la question\n",
    "        if not understood: \n",
    "            rand=random.randint(0,3)\n",
    "            if rand==0:\n",
    "                text+='What do you mean by that? '\n",
    "            elif rand==1:\n",
    "                text+='Sorry, I don\\'t understand. '\n",
    "            elif rand==2:\n",
    "                text+='Sorry, I didn\\'t get your question. '\n",
    "            elif rand==3:\n",
    "                text+='I don\\'t know what you are talking about. '\n",
    "            text+='We can talk about sport, music, work, games, food, films and books.'\n",
    "            print(text)\n",
    "            return -1\n",
    "        #on a compris mais plus rien à dire parce qu'on a déjà parlé sur ce sujet\n",
    "        if len(topicsphrases)==0 and len(topicsquestions)==0:\n",
    "            return 0\n",
    "        print(text)\n",
    "        \n",
    "    def guessTopic(self, text):\n",
    "        bestTopic=None\n",
    "        bestDistance=None\n",
    "        words=text.split(' ')\n",
    "        for word in words:\n",
    "            #print(word)\n",
    "            for topic in topics:\n",
    "                try:\n",
    "                    distance=word2vecModel.distance(word, topic)\n",
    "                    #print(distance)\n",
    "                    if bestTopic==None or distance<bestDistance:\n",
    "                        bestTopic=topic\n",
    "                        bestDistance=distance\n",
    "                except:\n",
    "                    continue\n",
    "        return bestTopic\n",
    "    \n",
    "    def startTopic(self, doneTopics):\n",
    "        openTopics=[topic for topic in topics if topic not in doneTopics]\n",
    "        if len(openTopics)==0:\n",
    "            return None\n",
    "        rand=random.randint(0,len(openTopics)-1)\n",
    "        if openTopics[rand]=='music':\n",
    "            doneTopics.append('music')\n",
    "            return self.startTopicMusic()\n",
    "        elif openTopics[rand]=='job':\n",
    "            doneTopics.append('job')\n",
    "            return self.startTopicJob()\n",
    "        elif openTopics[rand]=='food':\n",
    "            doneTopics.append('food')\n",
    "            return self.startTopicFood()\n",
    "        elif openTopics[rand]=='game':\n",
    "            doneTopics.append('game')\n",
    "            return self.startTopicGame()\n",
    "        elif openTopics[rand]=='sport':\n",
    "            doneTopics.append('sport')\n",
    "            return self.startTopicSport()\n",
    "        elif openTopics[rand]=='film':\n",
    "            doneTopics.append('film')\n",
    "            return self.startTopicFilm()\n",
    "        elif openTopics[rand]=='book':\n",
    "            doneTopics.append('book')\n",
    "            return self.startTopicBook()\n",
    "        else:\n",
    "            return None"
   ]
  },
  {
   "cell_type": "code",
   "execution_count": 17,
   "metadata": {
    "executionInfo": {
     "elapsed": 12,
     "status": "ok",
     "timestamp": 1639579282376,
     "user": {
      "displayName": "Stefan Am Ende",
      "photoUrl": "https://lh3.googleusercontent.com/a-/AOh14Gj_hrHvJQnAnrHGOcz9J_HX56sCTip0nW2cK7npZQ=s64",
      "userId": "15393709540815104118"
     },
     "user_tz": -60
    },
    "id": "k4HqzH2HOHoy"
   },
   "outputs": [],
   "source": [
    "def generatePersons(nPersons):\n",
    "    persons=[]\n",
    "    for i in range(nPersons):\n",
    "        person = Person()\n",
    "        persons.append(person)\n",
    "    return persons"
   ]
  },
  {
   "cell_type": "code",
   "execution_count": 18,
   "metadata": {
    "executionInfo": {
     "elapsed": 11,
     "status": "ok",
     "timestamp": 1639579282376,
     "user": {
      "displayName": "Stefan Am Ende",
      "photoUrl": "https://lh3.googleusercontent.com/a-/AOh14Gj_hrHvJQnAnrHGOcz9J_HX56sCTip0nW2cK7npZQ=s64",
      "userId": "15393709540815104118"
     },
     "user_tz": -60
    },
    "id": "HXIlYCREDPwT"
   },
   "outputs": [],
   "source": [
    "def startChat(persons, nTopics):\n",
    "    doneTopics=[]\n",
    "    for person in persons: \n",
    "        person.introduce()\n",
    "    for i in range(nTopics):\n",
    "        personToStart=persons[random.randint(0, len(persons)-1)]\n",
    "        message=personToStart.startTopic(doneTopics)\n",
    "        if message==None:\n",
    "            return\n",
    "        random.shuffle(persons)\n",
    "        for person in persons:\n",
    "            if not person==personToStart:\n",
    "                person.respond(message)"
   ]
  },
  {
   "cell_type": "code",
   "execution_count": 84,
   "metadata": {},
   "outputs": [],
   "source": [
    "import time\n",
    "def startChatInteractive(persons):\n",
    "    for person in persons: \n",
    "        person.introduce()\n",
    "        time.sleep(2)\n",
    "    while True:\n",
    "        message=input('You: ')\n",
    "        if message=='bye':\n",
    "            for person in persons:\n",
    "                person.refresh()\n",
    "            return\n",
    "        if not message=='':\n",
    "            random.shuffle(persons)\n",
    "            sleep=True\n",
    "            for person in persons:\n",
    "                if sleep:\n",
    "                    time.sleep(2)\n",
    "                res=person.respond(message)\n",
    "                if res==-1:\n",
    "                    break\n",
    "                elif res==0:\n",
    "                    sleep=False"
   ]
  },
  {
   "cell_type": "code",
   "execution_count": 20,
   "metadata": {
    "executionInfo": {
     "elapsed": 11,
     "status": "ok",
     "timestamp": 1639579282377,
     "user": {
      "displayName": "Stefan Am Ende",
      "photoUrl": "https://lh3.googleusercontent.com/a-/AOh14Gj_hrHvJQnAnrHGOcz9J_HX56sCTip0nW2cK7npZQ=s64",
      "userId": "15393709540815104118"
     },
     "user_tz": -60
    },
    "id": "jWsNaYnMN9zT"
   },
   "outputs": [],
   "source": [
    "def generateDescriptions(persons):\n",
    "    for person in persons:\n",
    "        person.generateDescription()\n",
    "        print('\\n')"
   ]
  },
  {
   "cell_type": "code",
   "execution_count": 85,
   "metadata": {
    "executionInfo": {
     "elapsed": 224,
     "status": "ok",
     "timestamp": 1639582652896,
     "user": {
      "displayName": "Stefan Am Ende",
      "photoUrl": "https://lh3.googleusercontent.com/a-/AOh14Gj_hrHvJQnAnrHGOcz9J_HX56sCTip0nW2cK7npZQ=s64",
      "userId": "15393709540815104118"
     },
     "user_tz": -60
    },
    "id": "MXnso_Pc-qWU"
   },
   "outputs": [],
   "source": [
    "myPersons=generatePersons(4)"
   ]
  },
  {
   "cell_type": "code",
   "execution_count": 77,
   "metadata": {
    "colab": {
     "base_uri": "https://localhost:8080/"
    },
    "executionInfo": {
     "elapsed": 11,
     "status": "ok",
     "timestamp": 1639579282378,
     "user": {
      "displayName": "Stefan Am Ende",
      "photoUrl": "https://lh3.googleusercontent.com/a-/AOh14Gj_hrHvJQnAnrHGOcz9J_HX56sCTip0nW2cK7npZQ=s64",
      "userId": "15393709540815104118"
     },
     "user_tz": -60
    },
    "id": "bAU7vGKYDTXw",
    "outputId": "e90922c6-de10-4bfd-958f-dd59507596c5"
   },
   "outputs": [
    {
     "name": "stdout",
     "output_type": "stream",
     "text": [
      "Michael:   Good day, my name is Michael Johnson, I am 73 years old and I am from Federated States of Micronesia.\n",
      "Meto:   Hi, my name is Meto Jovanovski, I am 73 years old and I'm from Afghanistan.\n",
      "Imre:   Hey, I am Imre Csaky, I am 49 years old and I'm from North Macedonia.\n",
      "Alexander:   Hey, I am Alexander II, I'm 47 years old and I am from People's Republic of China.\n",
      "Imre:   My job is factory employee. What is your job?\n",
      "Alexander:   I make a living from working as a Monuments, Fine Arts, and Archives program.\n",
      "Meto:   I make a living from working as a Museum Technician.\n",
      "Michael:   I work as a yakuza.\n",
      "Alexander:   My favourite food is botok. What is your preferred dish?\n",
      "Michael:   I really enjoy tahini roll.\n",
      "Imre:   My favourite food is Lacquemant waffles.\n",
      "Meto:   My favourite food is somun.\n",
      "Michael:   I like speed skiing. Are you a sports fan?\n",
      "Alexander:   I like to play rowing.\n",
      "Meto:   I like watching freestyle scootering.\n",
      "Imre:   My favourite sport is pacu jawi.\n",
      "Imre:   I find Chronicle of Samiilo Velychko is a pretty good book. Do you read books?\n",
      "Meto:   I enjoyed reading the book The Unified Medical Dictionary.\n",
      "Michael:   My favourite book is AL-Lahw wa'l-malahi.\n",
      "Alexander:   I am currently reading Shahjahannama and i really like it.\n",
      "Michael:   I really enjoy playing Iron Grip: Lords of War. Are there games that you like to play?\n",
      "Alexander:   My favourite game is Pokemon Trading Figure Game.\n",
      "Meto:   My favourite game is bambu gila.\n",
      "Imre:   I like to play Puzz-3D.\n"
     ]
    }
   ],
   "source": [
    "startChat(myPersons, 5)           "
   ]
  },
  {
   "cell_type": "code",
   "execution_count": null,
   "metadata": {
    "scrolled": true
   },
   "outputs": [
    {
     "name": "stdout",
     "output_type": "stream",
     "text": [
      "James:   Hey, I am James Morrison, I am 33 years old and I'm from Senegal.\n",
      "Heinrich:   Hello, I am Heinrich Muller, I'm 22 years old and I am from North Korea.\n",
      "Karl:   Hey, I'm Karl Friedrich, I am 56 years old and I live in Sudan.\n",
      "Sergei:   Hello, I'm Sergei Tarassow, I'm 30 years old and I live in Belize.\n",
      "You: food.\n",
      "James:   My favourite food is campagne bread.\n",
      "Sergei:   My favourite dish is Albacore.\n",
      "Heinrich:   I really enjoy Encur.\n",
      "Karl:   I really enjoy lentho.\n",
      "You: food.\n",
      "You: I like crepes.\n",
      "You: sports. books. film. job?\n",
      "Karl:   I make a living from working as a excavation director. I really enjoyed watching the film Material Girls.\n",
      "James:   I am factory employee. I enjoyed reading the book Missal of Prince Novak.\n",
      "Sergei:   I make a living from working as a museum education. I find Yo, Darwin is a pretty good book.\n",
      "Heinrich:   I make a living from working as a yoga instructor. I like the book Harenberg Verlag a lot.\n",
      "You: sports. books. film. job?\n",
      "James:   My favourite sport is dodgeball.\n",
      "Karl:   I really like the book Flora Carniolica, Editio Secunda.\n",
      "Sergei:   My favourite film is Made in Dagenham.\n",
      "Heinrich:   I like watching water basketball.\n",
      "You: sports. books. film. job?\n",
      "James:   I really liked the film Africa Screams.\n",
      "Heinrich:   I like films like Three Nuts for Cinderella.\n",
      "Sergei:   I really enjoy playing Jianzi.\n",
      "Karl:   I like to play trail orienteering.\n"
     ]
    }
   ],
   "source": [
    "startChatInteractive(myPersons)"
   ]
  },
  {
   "cell_type": "code",
   "execution_count": 24,
   "metadata": {
    "colab": {
     "base_uri": "https://localhost:8080/",
     "height": 660
    },
    "executionInfo": {
     "elapsed": 16353,
     "status": "error",
     "timestamp": 1639582670787,
     "user": {
      "displayName": "Stefan Am Ende",
      "photoUrl": "https://lh3.googleusercontent.com/a-/AOh14Gj_hrHvJQnAnrHGOcz9J_HX56sCTip0nW2cK7npZQ=s64",
      "userId": "15393709540815104118"
     },
     "user_tz": -60
    },
    "id": "UeWrZwLYhLLE",
    "outputId": "3545540b-fa05-4a28-e818-7816c2b5b6bb"
   },
   "outputs": [
    {
     "name": "stderr",
     "output_type": "stream",
     "text": [
      "C:\\ProgramData\\Anaconda3\\lib\\site-packages\\transformers\\tokenization_t5.py:184: UserWarning: This sequence already has </s>. In future versions this behavior may lead to duplicated eos tokens being added.\n",
      "  warnings.warn(\n"
     ]
    },
    {
     "name": "stdout",
     "output_type": "stream",
     "text": [
      "Francisco Rodriguez, who is from Vietnam, has a career as a fighter and has 31 years to his credit.\n",
      "The eunuch official title of the Francisco employee is the eunuch official.\n",
      "Danube-bridges from the Black Sea are the favourite books of Francisco.\n",
      "Inline skating is a favourite sport of Francisco.\n",
      "The favourite music of Francisco is the music of Croatia.\n",
      "The favourite Film of Francisco is I Vitelloni.\n",
      "Paper Chase is the favourite of Fancisco.\n",
      "The tahini roll is a favourite of Francisco.\n",
      "\n",
      "\n",
      "The Zoltan Varga is in the country of Chile and has a height of 5.\n",
      "Zaoltan is a contractor.\n",
      "Zoltan's favourite book is time of Contempt.\n",
      "The favourite sport of Zoltan is Aquaplaning.\n",
      "regueifa is the favourite of Zoltan.\n",
      "The favourite Film of Zoltan is The Bant.\n",
      "The favourite games of Zoltan are strip poker.\n",
      "The favourite food of Zaoltan is nasi tumpang.\n",
      "\n",
      "\n",
      "Julius Friedlander, who is from the country of Estonia, has a capacity of 40.\n",
      "Julius is a member of the nihon-buyo dancer.\n",
      "The book \"Wolfs: The Voices of Paranoia\" is a favourite book of Julius.\n",
      "Julius' favourite sport is sled dog racing.\n",
      "The favourite of Julius is the Celtic fusion.\n",
      "The favourite book of Julius is The Lives of a Bengal Lancer.\n",
      "Julius' favourite games are the boule bretonne of Cotes-d Armor.\n",
      "Peynir helva is the favourite food of Julius.\n",
      "\n",
      "\n",
      "The 75-year-old Arthur Paget is from the country of Croatia.\n",
      "Arthur's occupation is a horse trader.\n",
      "Fadl al-Kilab al-Tayab is the favourite book of Arthur.\n",
      "The favourite sport of Arthur is the Laser-Run.\n",
      "The favourite of Arthur is the pasodoble.\n",
      "The favourite town for Arthur is the town of Town in the country.\n",
      "The favourite of Arthur is London.\n",
      "Khubz is a favourite of Arthur.\n",
      "\n",
      "\n"
     ]
    }
   ],
   "source": [
    "generateDescriptions(myPersons)"
   ]
  },
  {
   "cell_type": "code",
   "execution_count": 25,
   "metadata": {
    "colab": {
     "base_uri": "https://localhost:8080/"
    },
    "executionInfo": {
     "elapsed": 16,
     "status": "ok",
     "timestamp": 1639579318048,
     "user": {
      "displayName": "Stefan Am Ende",
      "photoUrl": "https://lh3.googleusercontent.com/a-/AOh14Gj_hrHvJQnAnrHGOcz9J_HX56sCTip0nW2cK7npZQ=s64",
      "userId": "15393709540815104118"
     },
     "user_tz": -60
    },
    "id": "iXmYd5bI8GbU",
    "outputId": "aaf4964b-8d3c-4451-9fb1-1dac975b6a97"
   },
   "outputs": [
    {
     "name": "stdout",
     "output_type": "stream",
     "text": [
      "name: Francisco Rodriguez\n",
      "age: 31\n",
      "country: Vietnam\n",
      "job: eunuch official\n",
      "book: Danube-bridges from the Black Forest to the Black Sea\n",
      "sport: inline skating\n",
      "music: music of Croatia\n",
      "film: I Vitelloni\n",
      "game: Paper Chase\n",
      "food: tahini roll\n",
      "\n",
      "name: Zoltan Varga\n",
      "age: 56\n",
      "country: Chile\n",
      "job: contractor\n",
      "book: Time of Contempt\n",
      "sport: Aquaplaning sport\n",
      "music: regueifa\n",
      "film: The Banquet\n",
      "game: strip poker\n",
      "food: nasi tumpang\n",
      "\n",
      "name: Julius Friedlander\n",
      "age: 40\n",
      "country: Estonia\n",
      "job: nihon-buyo dancer\n",
      "book: Whispers: The Voices of Paranoia\n",
      "sport: sled dog racing\n",
      "music: Celtic fusion\n",
      "film: The Lives of a Bengal Lancer\n",
      "game: boule bretonne des Cotes-d'Armor\n",
      "food: Peynir helva\n",
      "\n",
      "name: Arthur Paget\n",
      "age: 75\n",
      "country: Croatia\n",
      "job: horse trader\n",
      "book: Fadl al-kilab ala man labisa al-thiyab\n",
      "sport: Laser-Run\n",
      "music: pasodoble\n",
      "film: Town & Country\n",
      "game: London\n",
      "food: Khubz\n",
      "\n"
     ]
    }
   ],
   "source": [
    "for person in myPersons:\n",
    "    person.showProperties()"
   ]
  },
  {
   "cell_type": "code",
   "execution_count": null,
   "metadata": {},
   "outputs": [],
   "source": []
  }
 ],
 "metadata": {
  "colab": {
   "collapsed_sections": [],
   "name": "projet tatia.ipynb",
   "provenance": []
  },
  "kernelspec": {
   "display_name": "Python 3 (ipykernel)",
   "language": "python",
   "name": "python3"
  },
  "language_info": {
   "codemirror_mode": {
    "name": "ipython",
    "version": 3
   },
   "file_extension": ".py",
   "mimetype": "text/x-python",
   "name": "python",
   "nbconvert_exporter": "python",
   "pygments_lexer": "ipython3",
   "version": "3.8.11"
  }
 },
 "nbformat": 4,
 "nbformat_minor": 1
}
