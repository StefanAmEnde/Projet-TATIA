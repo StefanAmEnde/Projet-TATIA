{
 "cells": [
  {
   "cell_type": "code",
   "execution_count": 2,
   "id": "82a8bbf3",
   "metadata": {},
   "outputs": [],
   "source": [
    "import gensim\n",
    "\n",
    "# Load Google's pre-trained Word2Vec model.\n",
    "model = gensim.models.KeyedVectors.load_word2vec_format('./GoogleNews-vectors-negative300.bin', binary=True)  "
   ]
  },
  {
   "cell_type": "code",
   "execution_count": 9,
   "id": "9b190e8b",
   "metadata": {},
   "outputs": [
    {
     "data": {
      "text/plain": [
       "[('basketbal', 0.44002875685691833),\n",
       " ('basektball', 0.40620848536491394),\n",
       " ('baskeball', 0.4015510380268097),\n",
       " ('Onyeuku', 0.3881697952747345),\n",
       " ('Krystal_Forthan', 0.38630226254463196),\n",
       " ('Steve_Roccaforte', 0.38268160820007324),\n",
       " ('Brehm_Prep', 0.37894511222839355),\n",
       " ('Polee', 0.3757147490978241),\n",
       " ('Greehey_Arena', 0.3740551173686981),\n",
       " ('coach_Greg_Kampe', 0.3717881143093109)]"
      ]
     },
     "execution_count": 9,
     "metadata": {},
     "output_type": "execute_result"
    }
   ],
   "source": [
    "model.most_similar(positive=['basketball'], negative=['sport'])"
   ]
  },
  {
   "cell_type": "code",
   "execution_count": null,
   "id": "f8276a20",
   "metadata": {},
   "outputs": [],
   "source": []
  }
 ],
 "metadata": {
  "kernelspec": {
   "display_name": "Python 3 (ipykernel)",
   "language": "python",
   "name": "python3"
  },
  "language_info": {
   "codemirror_mode": {
    "name": "ipython",
    "version": 3
   },
   "file_extension": ".py",
   "mimetype": "text/x-python",
   "name": "python",
   "nbconvert_exporter": "python",
   "pygments_lexer": "ipython3",
   "version": "3.8.11"
  }
 },
 "nbformat": 4,
 "nbformat_minor": 5
}
